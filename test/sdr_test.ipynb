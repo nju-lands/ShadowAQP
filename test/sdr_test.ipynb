{
 "cells": [
  {
   "cell_type": "code",
   "execution_count": 7,
   "id": "2627388e",
   "metadata": {},
   "outputs": [],
   "source": [
    "import pandas as pd\n",
    "import matplotlib as mlp\n",
    "import matplotlib.pyplot as plt\n",
    "from IPython.core.interactiveshell import InteractiveShell\n",
    "InteractiveShell.ast_node_interactivity = 'all' #默认为'last'\n",
    "import random\n",
    "import matplotlib.pyplot as plt\n",
    "import numpy as np\n",
    "import time\n",
    "np.set_printoptions(suppress=True,   precision=20,  threshold=10,  linewidth=40)\n",
    "pd.set_option('display.float_format',lambda x : '%.3f' % x)"
   ]
  },
  {
   "cell_type": "code",
   "execution_count": 8,
   "id": "8aca125b",
   "metadata": {
    "scrolled": false
   },
   "outputs": [
    {
     "data": {
      "text/plain": [
       "<AxesSubplot:>"
      ]
     },
     "execution_count": 8,
     "metadata": {},
     "output_type": "execute_result"
    },
    {
     "data": {
      "image/png": "[encoded data removed]",
      "text/plain": [
       "<Figure size 432x288 with 1 Axes>"
      ]
     },
     "metadata": {
      "needs_background": "light"
     },
     "output_type": "display_data"
    },
    {
     "data": {
      "text/plain": [
       "<AxesSubplot:>"
      ]
     },
     "execution_count": 8,
     "metadata": {},
     "output_type": "execute_result"
    },
    {
     "data": {
      "image/png": "[encoded data removed]",
      "text/plain": [
       "<Figure size 432x288 with 1 Axes>"
      ]
     },
     "metadata": {
      "needs_background": "light"
     },
     "output_type": "display_data"
    },
    {
     "data": {
      "text/plain": [
       "1     21330\n",
       "4     19774\n",
       "6      1476\n",
       "9       226\n",
       "17    16904\n",
       "40       80\n",
       "Name: prot_category, dtype: int64"
      ]
     },
     "execution_count": 8,
     "metadata": {},
     "output_type": "execute_result"
    },
    {
     "data": {
      "text/plain": [
       "1      999\n",
       "4     1052\n",
       "6      999\n",
       "9      186\n",
       "17     997\n",
       "40      61\n",
       "Name: prot_category, dtype: int64"
      ]
     },
     "execution_count": 8,
     "metadata": {},
     "output_type": "execute_result"
    },
    {
     "data": {
      "text/html": [
       "<div>\n",
       "<style scoped>\n",
       "    .dataframe tbody tr th:only-of-type {\n",
       "        vertical-align: middle;\n",
       "    }\n",
       "\n",
       "    .dataframe tbody tr th {\n",
       "        vertical-align: top;\n",
       "    }\n",
       "\n",
       "    .dataframe thead th {\n",
       "        text-align: right;\n",
       "    }\n",
       "</style>\n",
       "<table border=\"1\" class=\"dataframe\">\n",
       "  <thead>\n",
       "    <tr style=\"text-align: right;\">\n",
       "      <th></th>\n",
       "      <th>agg_sum</th>\n",
       "      <th>age_mean</th>\n",
       "      <th>rate</th>\n",
       "    </tr>\n",
       "    <tr>\n",
       "      <th>prot_category</th>\n",
       "      <th></th>\n",
       "      <th></th>\n",
       "      <th></th>\n",
       "    </tr>\n",
       "  </thead>\n",
       "  <tbody>\n",
       "    <tr>\n",
       "      <th>1</th>\n",
       "      <td>467997455.173</td>\n",
       "      <td>22486.553</td>\n",
       "      <td>0.048</td>\n",
       "    </tr>\n",
       "    <tr>\n",
       "      <th>4</th>\n",
       "      <td>17285008980.269</td>\n",
       "      <td>1644131.302</td>\n",
       "      <td>0.100</td>\n",
       "    </tr>\n",
       "    <tr>\n",
       "      <th>6</th>\n",
       "      <td>1737851452.786</td>\n",
       "      <td>1177309.393</td>\n",
       "      <td>0.677</td>\n",
       "    </tr>\n",
       "    <tr>\n",
       "      <th>9</th>\n",
       "      <td>4949263.970</td>\n",
       "      <td>26608.946</td>\n",
       "      <td>1.000</td>\n",
       "    </tr>\n",
       "    <tr>\n",
       "      <th>17</th>\n",
       "      <td>768044021.312</td>\n",
       "      <td>45435.638</td>\n",
       "      <td>0.059</td>\n",
       "    </tr>\n",
       "    <tr>\n",
       "      <th>40</th>\n",
       "      <td>69043865.850</td>\n",
       "      <td>1131866.653</td>\n",
       "      <td>1.000</td>\n",
       "    </tr>\n",
       "  </tbody>\n",
       "</table>\n",
       "</div>"
      ],
      "text/plain": [
       "                      agg_sum    age_mean  rate\n",
       "prot_category                                  \n",
       "1               467997455.173   22486.553 0.048\n",
       "4             17285008980.269 1644131.302 0.100\n",
       "6              1737851452.786 1177309.393 0.677\n",
       "9                 4949263.970   26608.946 1.000\n",
       "17              768044021.312   45435.638 0.059\n",
       "40               69043865.850 1131866.653 1.000"
      ]
     },
     "execution_count": 8,
     "metadata": {},
     "output_type": "execute_result"
    },
    {
     "data": {
      "text/html": [
       "<div>\n",
       "<style scoped>\n",
       "    .dataframe tbody tr th:only-of-type {\n",
       "        vertical-align: middle;\n",
       "    }\n",
       "\n",
       "    .dataframe tbody tr th {\n",
       "        vertical-align: top;\n",
       "    }\n",
       "\n",
       "    .dataframe thead th {\n",
       "        text-align: right;\n",
       "    }\n",
       "</style>\n",
       "<table border=\"1\" class=\"dataframe\">\n",
       "  <thead>\n",
       "    <tr style=\"text-align: right;\">\n",
       "      <th></th>\n",
       "      <th>agg_sum</th>\n",
       "      <th>age_mean</th>\n",
       "    </tr>\n",
       "    <tr>\n",
       "      <th>prot_category</th>\n",
       "      <th></th>\n",
       "      <th></th>\n",
       "    </tr>\n",
       "  </thead>\n",
       "  <tbody>\n",
       "    <tr>\n",
       "      <th>1</th>\n",
       "      <td>0.002</td>\n",
       "      <td>0.023</td>\n",
       "    </tr>\n",
       "    <tr>\n",
       "      <th>4</th>\n",
       "      <td>0.443</td>\n",
       "      <td>0.048</td>\n",
       "    </tr>\n",
       "    <tr>\n",
       "      <th>6</th>\n",
       "      <td>0.103</td>\n",
       "      <td>0.103</td>\n",
       "    </tr>\n",
       "    <tr>\n",
       "      <th>9</th>\n",
       "      <td>0.323</td>\n",
       "      <td>0.607</td>\n",
       "    </tr>\n",
       "    <tr>\n",
       "      <th>17</th>\n",
       "      <td>0.389</td>\n",
       "      <td>0.389</td>\n",
       "    </tr>\n",
       "    <tr>\n",
       "      <th>40</th>\n",
       "      <td>0.772</td>\n",
       "      <td>0.701</td>\n",
       "    </tr>\n",
       "  </tbody>\n",
       "</table>\n",
       "</div>"
      ],
      "text/plain": [
       "               agg_sum  age_mean\n",
       "prot_category                   \n",
       "1                0.002     0.023\n",
       "4                0.443     0.048\n",
       "6                0.103     0.103\n",
       "9                0.323     0.607\n",
       "17               0.389     0.389\n",
       "40               0.772     0.701"
      ]
     },
     "execution_count": 8,
     "metadata": {},
     "output_type": "execute_result"
    },
    {
     "name": "stdout",
     "output_type": "stream",
     "text": [
      "total error:0.32526185054561535\n"
     ]
    },
    {
     "data": {
      "text/html": [
       "<div>\n",
       "<style scoped>\n",
       "    .dataframe tbody tr th:only-of-type {\n",
       "        vertical-align: middle;\n",
       "    }\n",
       "\n",
       "    .dataframe tbody tr th {\n",
       "        vertical-align: top;\n",
       "    }\n",
       "\n",
       "    .dataframe thead th {\n",
       "        text-align: right;\n",
       "    }\n",
       "</style>\n",
       "<table border=\"1\" class=\"dataframe\">\n",
       "  <thead>\n",
       "    <tr style=\"text-align: right;\">\n",
       "      <th></th>\n",
       "      <th>agg_sum</th>\n",
       "      <th>age_mean</th>\n",
       "    </tr>\n",
       "    <tr>\n",
       "      <th>prot_category</th>\n",
       "      <th></th>\n",
       "      <th></th>\n",
       "    </tr>\n",
       "  </thead>\n",
       "  <tbody>\n",
       "    <tr>\n",
       "      <th>1</th>\n",
       "      <td>468701779</td>\n",
       "      <td>21973.829</td>\n",
       "    </tr>\n",
       "    <tr>\n",
       "      <th>4</th>\n",
       "      <td>31010261238</td>\n",
       "      <td>1568234.107</td>\n",
       "    </tr>\n",
       "    <tr>\n",
       "      <th>6</th>\n",
       "      <td>1937001395</td>\n",
       "      <td>1312331.568</td>\n",
       "    </tr>\n",
       "    <tr>\n",
       "      <th>9</th>\n",
       "      <td>3741096</td>\n",
       "      <td>16553.522</td>\n",
       "    </tr>\n",
       "    <tr>\n",
       "      <th>17</th>\n",
       "      <td>1257766800</td>\n",
       "      <td>74406.460</td>\n",
       "    </tr>\n",
       "    <tr>\n",
       "      <th>40</th>\n",
       "      <td>302542408</td>\n",
       "      <td>3781780.100</td>\n",
       "    </tr>\n",
       "  </tbody>\n",
       "</table>\n",
       "</div>"
      ],
      "text/plain": [
       "                   agg_sum    age_mean\n",
       "prot_category                         \n",
       "1                468701779   21973.829\n",
       "4              31010261238 1568234.107\n",
       "6               1937001395 1312331.568\n",
       "9                  3741096   16553.522\n",
       "17              1257766800   74406.460\n",
       "40               302542408 3781780.100"
      ]
     },
     "execution_count": 8,
     "metadata": {},
     "output_type": "execute_result"
    },
    {
     "data": {
      "text/html": [
       "<div>\n",
       "<style scoped>\n",
       "    .dataframe tbody tr th:only-of-type {\n",
       "        vertical-align: middle;\n",
       "    }\n",
       "\n",
       "    .dataframe tbody tr th {\n",
       "        vertical-align: top;\n",
       "    }\n",
       "\n",
       "    .dataframe thead th {\n",
       "        text-align: right;\n",
       "    }\n",
       "</style>\n",
       "<table border=\"1\" class=\"dataframe\">\n",
       "  <thead>\n",
       "    <tr style=\"text-align: right;\">\n",
       "      <th></th>\n",
       "      <th>agg_sum</th>\n",
       "      <th>age_mean</th>\n",
       "    </tr>\n",
       "    <tr>\n",
       "      <th>prot_category</th>\n",
       "      <th></th>\n",
       "      <th></th>\n",
       "    </tr>\n",
       "  </thead>\n",
       "  <tbody>\n",
       "    <tr>\n",
       "      <th>1</th>\n",
       "      <td>467997455.173</td>\n",
       "      <td>22486.553</td>\n",
       "    </tr>\n",
       "    <tr>\n",
       "      <th>4</th>\n",
       "      <td>17285008980.269</td>\n",
       "      <td>1644131.302</td>\n",
       "    </tr>\n",
       "    <tr>\n",
       "      <th>6</th>\n",
       "      <td>1737851452.786</td>\n",
       "      <td>1177309.393</td>\n",
       "    </tr>\n",
       "    <tr>\n",
       "      <th>9</th>\n",
       "      <td>4949263.970</td>\n",
       "      <td>26608.946</td>\n",
       "    </tr>\n",
       "    <tr>\n",
       "      <th>17</th>\n",
       "      <td>768044021.312</td>\n",
       "      <td>45435.638</td>\n",
       "    </tr>\n",
       "    <tr>\n",
       "      <th>40</th>\n",
       "      <td>69043865.850</td>\n",
       "      <td>1131866.653</td>\n",
       "    </tr>\n",
       "  </tbody>\n",
       "</table>\n",
       "</div>"
      ],
      "text/plain": [
       "                      agg_sum    age_mean\n",
       "prot_category                            \n",
       "1               467997455.173   22486.553\n",
       "4             17285008980.269 1644131.302\n",
       "6              1737851452.786 1177309.393\n",
       "9                 4949263.970   26608.946\n",
       "17              768044021.312   45435.638\n",
       "40               69043865.850 1131866.653"
      ]
     },
     "execution_count": 8,
     "metadata": {},
     "output_type": "execute_result"
    }
   ],
   "source": [
    "origin=pd.read_csv(\"../datasets/sdr_flow_ter_15min00001.csv\")\n",
    "samples=pd.read_csv(\"../output/torch_cvae_sdr_flow_prot_category_ld128_id256_bs256_ep100_rate0.1_binary_gaussian15.csv\")\n",
    "group_col='prot_category'\n",
    "agg_col='l4_ul_throughput'\n",
    "origin_groups=origin[group_col].value_counts().sort_index()\n",
    "origin_groups.plot(kind='bar')\n",
    "plt.show()\n",
    "samples_groups=samples[group_col].value_counts().sort_index()\n",
    "samples_groups.plot(kind='bar')\n",
    "plt.show()\n",
    "origin_groups\n",
    "samples_groups\n",
    "origin_res=origin.groupby(by=group_col).agg(agg_sum=(agg_col,'sum'),age_mean=(agg_col,'mean'))\n",
    "samples_res=samples.groupby(by=group_col).agg(agg_sum=(agg_col,'sum'),age_mean=(agg_col,'mean'),rate=('rate','mean'))\n",
    "\n",
    "samples_res['agg_sum']=samples_res['agg_sum']/samples_res['rate']\n",
    "samples_res\n",
    "del samples_res['rate']\n",
    "diff=(samples_res-origin_res).abs()/origin_res\n",
    "diff.fillna(1, inplace=True)\n",
    "diff\n",
    "print(\"total error:{}\".format(diff.values.sum()/diff.size))\n",
    "origin_res\n",
    "samples_res"
   ]
  },
  {
   "cell_type": "code",
   "execution_count": 11,
   "id": "477795ed",
   "metadata": {
    "scrolled": false
   },
   "outputs": [
    {
     "name": "stdout",
     "output_type": "stream",
     "text": [
      "-----------group val:4------------\n"
     ]
    },
    {
     "data": {
      "text/plain": [
       "(array([ 0.,  1.,  1., ..., 86., 77.,\n",
       "        71.]),\n",
       " array([  100.             ,\n",
       "          914.2857142857143,\n",
       "         1728.5714285714287, ...,\n",
       "        38371.42857142857  ,\n",
       "        39185.71428571429  ,\n",
       "        40000.             ]),\n",
       " <BarContainer object of 49 artists>)"
      ]
     },
     "execution_count": 11,
     "metadata": {},
     "output_type": "execute_result"
    },
    {
     "data": {
      "image/png": "[encoded data removed]",
      "text/plain": [
       "<Figure size 432x288 with 1 Axes>"
      ]
     },
     "metadata": {
      "needs_background": "light"
     },
     "output_type": "display_data"
    },
    {
     "data": {
      "text/plain": [
       "(array([1., 2., 2., ..., 7., 9., 6.]),\n",
       " array([  100.             ,\n",
       "          914.2857142857143,\n",
       "         1728.5714285714287, ...,\n",
       "        38371.42857142857  ,\n",
       "        39185.71428571429  ,\n",
       "        40000.             ]),\n",
       " <BarContainer object of 49 artists>)"
      ]
     },
     "execution_count": 11,
     "metadata": {},
     "output_type": "execute_result"
    },
    {
     "data": {
      "image/png": "[encoded data removed]",
      "text/plain": [
       "<Figure size 432x288 with 1 Axes>"
      ]
     },
     "metadata": {
      "needs_background": "light"
     },
     "output_type": "display_data"
    },
    {
     "name": "stdout",
     "output_type": "stream",
     "text": [
      "-----------group val:17------------\n"
     ]
    },
    {
     "data": {
      "text/plain": [
       "(array([  3.,   7.,   7., ..., 201.,\n",
       "        201., 201.]),\n",
       " array([  100.             ,\n",
       "          914.2857142857143,\n",
       "         1728.5714285714287, ...,\n",
       "        38371.42857142857  ,\n",
       "        39185.71428571429  ,\n",
       "        40000.             ]),\n",
       " <BarContainer object of 49 artists>)"
      ]
     },
     "execution_count": 11,
     "metadata": {},
     "output_type": "execute_result"
    },
    {
     "data": {
      "image/png": "[encoded data removed]",
      "text/plain": [
       "<Figure size 432x288 with 1 Axes>"
      ]
     },
     "metadata": {
      "needs_background": "light"
     },
     "output_type": "display_data"
    },
    {
     "data": {
      "text/plain": [
       "(array([ 0.,  1.,  3., ..., 13., 19.,\n",
       "         6.]),\n",
       " array([  100.             ,\n",
       "          914.2857142857143,\n",
       "         1728.5714285714287, ...,\n",
       "        38371.42857142857  ,\n",
       "        39185.71428571429  ,\n",
       "        40000.             ]),\n",
       " <BarContainer object of 49 artists>)"
      ]
     },
     "execution_count": 11,
     "metadata": {},
     "output_type": "execute_result"
    },
    {
     "data": {
      "image/png": "[encoded data removed]",
      "text/plain": [
       "<Figure size 432x288 with 1 Axes>"
      ]
     },
     "metadata": {
      "needs_background": "light"
     },
     "output_type": "display_data"
    },
    {
     "name": "stdout",
     "output_type": "stream",
     "text": [
      "-----------group val:1------------\n"
     ]
    },
    {
     "data": {
      "text/plain": [
       "(array([  0.,   0.,   0., ..., 181.,\n",
       "        146., 161.]),\n",
       " array([  100.             ,\n",
       "          914.2857142857143,\n",
       "         1728.5714285714287, ...,\n",
       "        38371.42857142857  ,\n",
       "        39185.71428571429  ,\n",
       "        40000.             ]),\n",
       " <BarContainer object of 49 artists>)"
      ]
     },
     "execution_count": 11,
     "metadata": {},
     "output_type": "execute_result"
    },
    {
     "data": {
      "image/png": "[encoded data removed]",
      "text/plain": [
       "<Figure size 432x288 with 1 Axes>"
      ]
     },
     "metadata": {
      "needs_background": "light"
     },
     "output_type": "display_data"
    },
    {
     "data": {
      "text/plain": [
       "(array([ 0.,  0.,  0., ..., 15.,  8.,\n",
       "         5.]),\n",
       " array([  100.             ,\n",
       "          914.2857142857143,\n",
       "         1728.5714285714287, ...,\n",
       "        38371.42857142857  ,\n",
       "        39185.71428571429  ,\n",
       "        40000.             ]),\n",
       " <BarContainer object of 49 artists>)"
      ]
     },
     "execution_count": 11,
     "metadata": {},
     "output_type": "execute_result"
    },
    {
     "data": {
      "image/png": "[encoded data removed]",
      "text/plain": [
       "<Figure size 432x288 with 1 Axes>"
      ]
     },
     "metadata": {
      "needs_background": "light"
     },
     "output_type": "display_data"
    },
    {
     "name": "stdout",
     "output_type": "stream",
     "text": [
      "-----------group val:6------------\n"
     ]
    },
    {
     "data": {
      "text/plain": [
       "(array([0., 0., 0., ..., 2., 1., 1.]),\n",
       " array([  100.             ,\n",
       "          914.2857142857143,\n",
       "         1728.5714285714287, ...,\n",
       "        38371.42857142857  ,\n",
       "        39185.71428571429  ,\n",
       "        40000.             ]),\n",
       " <BarContainer object of 49 artists>)"
      ]
     },
     "execution_count": 11,
     "metadata": {},
     "output_type": "execute_result"
    },
    {
     "data": {
      "image/png": "[encoded data removed]",
      "text/plain": [
       "<Figure size 432x288 with 1 Axes>"
      ]
     },
     "metadata": {
      "needs_background": "light"
     },
     "output_type": "display_data"
    },
    {
     "data": {
      "text/plain": [
       "(array([0., 0., 1., ..., 3., 6., 2.]),\n",
       " array([  100.             ,\n",
       "          914.2857142857143,\n",
       "         1728.5714285714287, ...,\n",
       "        38371.42857142857  ,\n",
       "        39185.71428571429  ,\n",
       "        40000.             ]),\n",
       " <BarContainer object of 49 artists>)"
      ]
     },
     "execution_count": 11,
     "metadata": {},
     "output_type": "execute_result"
    },
    {
     "data": {
      "image/png": "[encoded data removed]",
      "text/plain": [
       "<Figure size 432x288 with 1 Axes>"
      ]
     },
     "metadata": {
      "needs_background": "light"
     },
     "output_type": "display_data"
    },
    {
     "name": "stdout",
     "output_type": "stream",
     "text": [
      "-----------group val:9------------\n"
     ]
    },
    {
     "data": {
      "text/plain": [
       "(array([0., 0., 0., ..., 0., 0., 0.]),\n",
       " array([  100.             ,\n",
       "          914.2857142857143,\n",
       "         1728.5714285714287, ...,\n",
       "        38371.42857142857  ,\n",
       "        39185.71428571429  ,\n",
       "        40000.             ]),\n",
       " <BarContainer object of 49 artists>)"
      ]
     },
     "execution_count": 11,
     "metadata": {},
     "output_type": "execute_result"
    },
    {
     "data": {
      "image/png": "[encoded data removed]",
      "text/plain": [
       "<Figure size 432x288 with 1 Axes>"
      ]
     },
     "metadata": {
      "needs_background": "light"
     },
     "output_type": "display_data"
    },
    {
     "data": {
      "text/plain": [
       "(array([0., 0., 1., ..., 0., 0., 2.]),\n",
       " array([  100.             ,\n",
       "          914.2857142857143,\n",
       "         1728.5714285714287, ...,\n",
       "        38371.42857142857  ,\n",
       "        39185.71428571429  ,\n",
       "        40000.             ]),\n",
       " <BarContainer object of 49 artists>)"
      ]
     },
     "execution_count": 11,
     "metadata": {},
     "output_type": "execute_result"
    },
    {
     "data": {
      "image/png": "[encoded data removed]",
      "text/plain": [
       "<Figure size 432x288 with 1 Axes>"
      ]
     },
     "metadata": {
      "needs_background": "light"
     },
     "output_type": "display_data"
    },
    {
     "name": "stdout",
     "output_type": "stream",
     "text": [
      "-----------group val:40------------\n"
     ]
    },
    {
     "data": {
      "text/plain": [
       "(array([0., 0., 0., ..., 0., 0., 0.]),\n",
       " array([  100.             ,\n",
       "          914.2857142857143,\n",
       "         1728.5714285714287, ...,\n",
       "        38371.42857142857  ,\n",
       "        39185.71428571429  ,\n",
       "        40000.             ]),\n",
       " <BarContainer object of 49 artists>)"
      ]
     },
     "execution_count": 11,
     "metadata": {},
     "output_type": "execute_result"
    },
    {
     "data": {
      "image/png": "[encoded data removed]",
      "text/plain": [
       "<Figure size 432x288 with 1 Axes>"
      ]
     },
     "metadata": {
      "needs_background": "light"
     },
     "output_type": "display_data"
    },
    {
     "data": {
      "text/plain": [
       "(array([0., 0., 0., ..., 0., 0., 1.]),\n",
       " array([  100.             ,\n",
       "          914.2857142857143,\n",
       "         1728.5714285714287, ...,\n",
       "        38371.42857142857  ,\n",
       "        39185.71428571429  ,\n",
       "        40000.             ]),\n",
       " <BarContainer object of 49 artists>)"
      ]
     },
     "execution_count": 11,
     "metadata": {},
     "output_type": "execute_result"
    },
    {
     "data": {
      "image/png": "[encoded data removed]",
      "text/plain": [
       "<Figure size 432x288 with 1 Axes>"
      ]
     },
     "metadata": {
      "needs_background": "light"
     },
     "output_type": "display_data"
    }
   ],
   "source": [
    "group_vals=origin[group_col].drop_duplicates(keep='first')\n",
    "agg_range=(100,40000,24)\n",
    "bin_num=50\n",
    "for val in group_vals: \n",
    "    print('-----------group val:{}------------'.format(val))\n",
    "    o_col=origin[origin[group_col]==val][agg_col]\n",
    "    s_col=samples[samples[group_col]==val][agg_col]\n",
    "    bins = np.linspace(agg_range[0], agg_range[1], bin_num)\n",
    "    plt.hist(o_col.values.tolist(),bins)\n",
    "    plt.show()\n",
    "    plt.hist(s_col.values.tolist(),bins)\n",
    "    plt.show()"
   ]
  },
  {
   "cell_type": "code",
   "execution_count": 9,
   "id": "2f42b13f",
   "metadata": {},
   "outputs": [
    {
     "data": {
      "text/html": [
       "<div>\n",
       "<style scoped>\n",
       "    .dataframe tbody tr th:only-of-type {\n",
       "        vertical-align: middle;\n",
       "    }\n",
       "\n",
       "    .dataframe tbody tr th {\n",
       "        vertical-align: top;\n",
       "    }\n",
       "\n",
       "    .dataframe thead tr th {\n",
       "        text-align: left;\n",
       "    }\n",
       "\n",
       "    .dataframe thead tr:last-of-type th {\n",
       "        text-align: right;\n",
       "    }\n",
       "</style>\n",
       "<table border=\"1\" class=\"dataframe\">\n",
       "  <thead>\n",
       "    <tr>\n",
       "      <th></th>\n",
       "      <th colspan=\"2\" halign=\"left\">l4_ul_throughput</th>\n",
       "      <th colspan=\"2\" halign=\"left\">l4_dw_throughput</th>\n",
       "      <th colspan=\"2\" halign=\"left\">l4_ul_packets</th>\n",
       "      <th colspan=\"2\" halign=\"left\">l4_dw_packets</th>\n",
       "    </tr>\n",
       "    <tr>\n",
       "      <th></th>\n",
       "      <th>sum</th>\n",
       "      <th>mean</th>\n",
       "      <th>sum</th>\n",
       "      <th>mean</th>\n",
       "      <th>sum</th>\n",
       "      <th>mean</th>\n",
       "      <th>sum</th>\n",
       "      <th>mean</th>\n",
       "    </tr>\n",
       "    <tr>\n",
       "      <th>prot_category</th>\n",
       "      <th></th>\n",
       "      <th></th>\n",
       "      <th></th>\n",
       "      <th></th>\n",
       "      <th></th>\n",
       "      <th></th>\n",
       "      <th></th>\n",
       "      <th></th>\n",
       "    </tr>\n",
       "  </thead>\n",
       "  <tbody>\n",
       "    <tr>\n",
       "      <th>1</th>\n",
       "      <td>4726298647</td>\n",
       "      <td>2.225596e+04</td>\n",
       "      <td>4734497007</td>\n",
       "      <td>22294.569186</td>\n",
       "      <td>103487890</td>\n",
       "      <td>487.320600</td>\n",
       "      <td>55753652</td>\n",
       "      <td>262.541860</td>\n",
       "    </tr>\n",
       "    <tr>\n",
       "      <th>4</th>\n",
       "      <td>319633154519</td>\n",
       "      <td>1.617192e+06</td>\n",
       "      <td>55911339881</td>\n",
       "      <td>282884.839542</td>\n",
       "      <td>68023509</td>\n",
       "      <td>344.166666</td>\n",
       "      <td>134911147</td>\n",
       "      <td>682.586364</td>\n",
       "    </tr>\n",
       "    <tr>\n",
       "      <th>6</th>\n",
       "      <td>16595272766</td>\n",
       "      <td>1.072254e+06</td>\n",
       "      <td>2960009377</td>\n",
       "      <td>191252.140402</td>\n",
       "      <td>10131155</td>\n",
       "      <td>654.594237</td>\n",
       "      <td>19472655</td>\n",
       "      <td>1258.167280</td>\n",
       "    </tr>\n",
       "    <tr>\n",
       "      <th>9</th>\n",
       "      <td>34509584</td>\n",
       "      <td>1.603605e+04</td>\n",
       "      <td>34432720</td>\n",
       "      <td>16000.334572</td>\n",
       "      <td>327264184</td>\n",
       "      <td>152074.434944</td>\n",
       "      <td>327006214</td>\n",
       "      <td>151954.560409</td>\n",
       "    </tr>\n",
       "    <tr>\n",
       "      <th>17</th>\n",
       "      <td>13073920514</td>\n",
       "      <td>7.714183e+04</td>\n",
       "      <td>18797075185</td>\n",
       "      <td>110910.939910</td>\n",
       "      <td>60018711</td>\n",
       "      <td>354.136566</td>\n",
       "      <td>109017164</td>\n",
       "      <td>643.248804</td>\n",
       "    </tr>\n",
       "    <tr>\n",
       "      <th>40</th>\n",
       "      <td>2432256578</td>\n",
       "      <td>3.110303e+06</td>\n",
       "      <td>469079182</td>\n",
       "      <td>599845.501279</td>\n",
       "      <td>289491</td>\n",
       "      <td>370.193095</td>\n",
       "      <td>1120637</td>\n",
       "      <td>1433.039642</td>\n",
       "    </tr>\n",
       "  </tbody>\n",
       "</table>\n",
       "</div>"
      ],
      "text/plain": [
       "              l4_ul_throughput               l4_dw_throughput                 \\\n",
       "                           sum          mean              sum           mean   \n",
       "prot_category                                                                  \n",
       "1                   4726298647  2.225596e+04       4734497007   22294.569186   \n",
       "4                 319633154519  1.617192e+06      55911339881  282884.839542   \n",
       "6                  16595272766  1.072254e+06       2960009377  191252.140402   \n",
       "9                     34509584  1.603605e+04         34432720   16000.334572   \n",
       "17                 13073920514  7.714183e+04      18797075185  110910.939910   \n",
       "40                  2432256578  3.110303e+06        469079182  599845.501279   \n",
       "\n",
       "              l4_ul_packets                l4_dw_packets                 \n",
       "                        sum           mean           sum           mean  \n",
       "prot_category                                                            \n",
       "1                 103487890     487.320600      55753652     262.541860  \n",
       "4                  68023509     344.166666     134911147     682.586364  \n",
       "6                  10131155     654.594237      19472655    1258.167280  \n",
       "9                 327264184  152074.434944     327006214  151954.560409  \n",
       "17                 60018711     354.136566     109017164     643.248804  \n",
       "40                   289491     370.193095       1120637    1433.039642  "
      ]
     },
     "execution_count": 9,
     "metadata": {},
     "output_type": "execute_result"
    },
    {
     "name": "stdout",
     "output_type": "stream",
     "text": [
      "query time:0.823644599999966\n"
     ]
    }
   ],
   "source": [
    "group_col=\"prot_category\"\n",
    "agg_col=\"l4_ul_throughput\"\n",
    "start=time.perf_counter()\n",
    "origin=pd.read_csv(\"../datasets/sdr_flow_ter_15min0001.csv\")\n",
    "origin_res=origin.groupby(by=group_col).agg({\"l4_ul_throughput\":['sum','mean'],\"l4_dw_throughput\":['sum','mean'],\"l4_ul_packets\":['sum','mean'],\"l4_dw_packets\":['sum','mean']})\n",
    "origin_res\n",
    "end=time.perf_counter()\n",
    "print('query time:{}'.format(end - start))"
   ]
  },
  {
   "cell_type": "code",
   "execution_count": null,
   "id": "b2d2a643",
   "metadata": {},
   "outputs": [],
   "source": []
  }
 ],
 "metadata": {
  "kernelspec": {
   "display_name": "Python 3",
   "language": "python",
   "name": "python3"
  },
  "language_info": {
   "codemirror_mode": {
    "name": "ipython",
    "version": 3
   },
   "file_extension": ".py",
   "mimetype": "text/x-python",
   "name": "python",
   "nbconvert_exporter": "python",
   "pygments_lexer": "ipython3",
   "version": "3.6.8"
  }
 },
 "nbformat": 4,
 "nbformat_minor": 5
}
