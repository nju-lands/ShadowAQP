{
 "cells": [
  {
   "cell_type": "code",
   "execution_count": null,
   "metadata": {},
   "outputs": [],
   "source": [
    "import pandas as pd\n",
    "import matplotlib as mlp\n",
    "import matplotlib.pyplot as plt\n",
    "from IPython.core.interactiveshell import InteractiveShell\n",
    "InteractiveShell.ast_node_interactivity = 'all' #默认为'last'\n",
    "import random\n",
    "import numpy as np\n",
    "np.set_printoptions(suppress=True,   precision=20,  threshold=10,  linewidth=40)\n",
    "pd.set_option('display.float_format',lambda x : '%.3f' % x)"
   ]
  },
  {
   "cell_type": "code",
   "execution_count": 47,
   "metadata": {
    "scrolled": false
   },
   "outputs": [
    {
     "data": {
      "text/plain": [
       " Divorced                  68476\n",
       " Married-AF-spouse           361\n",
       " Married-civ-spouse       230391\n",
       " Married-spouse-absent      6342\n",
       " Never-married            163609\n",
       " Separated                 15685\n",
       " Widowed                   15136\n",
       "Name: marital-status, dtype: int64"
      ]
     },
     "execution_count": 47,
     "metadata": {},
     "output_type": "execute_result"
    },
    {
     "data": {
      "text/plain": [
       " Divorced                 7143\n",
       " Married-AF-spouse         361\n",
       " Married-civ-spouse       7143\n",
       " Married-spouse-absent    6342\n",
       " Never-married            7145\n",
       " Separated                7141\n",
       " Widowed                  7143\n",
       "Name: marital-status, dtype: int64"
      ]
     },
     "execution_count": 47,
     "metadata": {},
     "output_type": "execute_result"
    },
    {
     "data": {
      "text/html": [
       "<div>\n",
       "<style scoped>\n",
       "    .dataframe tbody tr th:only-of-type {\n",
       "        vertical-align: middle;\n",
       "    }\n",
       "\n",
       "    .dataframe tbody tr th {\n",
       "        vertical-align: top;\n",
       "    }\n",
       "\n",
       "    .dataframe thead th {\n",
       "        text-align: right;\n",
       "    }\n",
       "</style>\n",
       "<table border=\"1\" class=\"dataframe\">\n",
       "  <thead>\n",
       "    <tr style=\"text-align: right;\">\n",
       "      <th></th>\n",
       "      <th>age_sum</th>\n",
       "      <th>age_mean</th>\n",
       "      <th>rate</th>\n",
       "    </tr>\n",
       "    <tr>\n",
       "      <th>marital-status</th>\n",
       "      <th></th>\n",
       "      <th></th>\n",
       "      <th></th>\n",
       "    </tr>\n",
       "  </thead>\n",
       "  <tbody>\n",
       "    <tr>\n",
       "      <th>Divorced</th>\n",
       "      <td>280168.210</td>\n",
       "      <td>39.223</td>\n",
       "      <td>0.104</td>\n",
       "    </tr>\n",
       "    <tr>\n",
       "      <th>Married-AF-spouse</th>\n",
       "      <td>13788.065</td>\n",
       "      <td>38.194</td>\n",
       "      <td>1.000</td>\n",
       "    </tr>\n",
       "    <tr>\n",
       "      <th>Married-civ-spouse</th>\n",
       "      <td>283230.515</td>\n",
       "      <td>39.651</td>\n",
       "      <td>0.031</td>\n",
       "    </tr>\n",
       "    <tr>\n",
       "      <th>Married-spouse-absent</th>\n",
       "      <td>251022.696</td>\n",
       "      <td>39.581</td>\n",
       "      <td>1.000</td>\n",
       "    </tr>\n",
       "    <tr>\n",
       "      <th>Never-married</th>\n",
       "      <td>282226.613</td>\n",
       "      <td>39.500</td>\n",
       "      <td>0.044</td>\n",
       "    </tr>\n",
       "    <tr>\n",
       "      <th>Separated</th>\n",
       "      <td>282386.915</td>\n",
       "      <td>39.544</td>\n",
       "      <td>0.455</td>\n",
       "    </tr>\n",
       "    <tr>\n",
       "      <th>Widowed</th>\n",
       "      <td>282385.618</td>\n",
       "      <td>39.533</td>\n",
       "      <td>0.472</td>\n",
       "    </tr>\n",
       "  </tbody>\n",
       "</table>\n",
       "</div>"
      ],
      "text/plain": [
       "                          age_sum  age_mean  rate\n",
       "marital-status                                   \n",
       " Divorced              280168.210    39.223 0.104\n",
       " Married-AF-spouse      13788.065    38.194 1.000\n",
       " Married-civ-spouse    283230.515    39.651 0.031\n",
       " Married-spouse-absent 251022.696    39.581 1.000\n",
       " Never-married         282226.613    39.500 0.044\n",
       " Separated             282386.915    39.544 0.455\n",
       " Widowed               282385.618    39.533 0.472"
      ]
     },
     "execution_count": 47,
     "metadata": {},
     "output_type": "execute_result"
    },
    {
     "data": {
      "text/html": [
       "<div>\n",
       "<style scoped>\n",
       "    .dataframe tbody tr th:only-of-type {\n",
       "        vertical-align: middle;\n",
       "    }\n",
       "\n",
       "    .dataframe tbody tr th {\n",
       "        vertical-align: top;\n",
       "    }\n",
       "\n",
       "    .dataframe thead th {\n",
       "        text-align: right;\n",
       "    }\n",
       "</style>\n",
       "<table border=\"1\" class=\"dataframe\">\n",
       "  <thead>\n",
       "    <tr style=\"text-align: right;\">\n",
       "      <th></th>\n",
       "      <th>age_sum</th>\n",
       "      <th>age_mean</th>\n",
       "      <th>rate</th>\n",
       "    </tr>\n",
       "    <tr>\n",
       "      <th>marital-status</th>\n",
       "      <th></th>\n",
       "      <th></th>\n",
       "      <th></th>\n",
       "    </tr>\n",
       "  </thead>\n",
       "  <tbody>\n",
       "    <tr>\n",
       "      <th>Divorced</th>\n",
       "      <td>2685818.053</td>\n",
       "      <td>39.223</td>\n",
       "      <td>0.104</td>\n",
       "    </tr>\n",
       "    <tr>\n",
       "      <th>Married-AF-spouse</th>\n",
       "      <td>13788.065</td>\n",
       "      <td>38.194</td>\n",
       "      <td>1.000</td>\n",
       "    </tr>\n",
       "    <tr>\n",
       "      <th>Married-civ-spouse</th>\n",
       "      <td>9135343.913</td>\n",
       "      <td>39.651</td>\n",
       "      <td>0.031</td>\n",
       "    </tr>\n",
       "    <tr>\n",
       "      <th>Married-spouse-absent</th>\n",
       "      <td>251022.696</td>\n",
       "      <td>39.581</td>\n",
       "      <td>1.000</td>\n",
       "    </tr>\n",
       "    <tr>\n",
       "      <th>Never-married</th>\n",
       "      <td>6447324.593</td>\n",
       "      <td>39.500</td>\n",
       "      <td>0.044</td>\n",
       "    </tr>\n",
       "    <tr>\n",
       "      <th>Separated</th>\n",
       "      <td>620081.025</td>\n",
       "      <td>39.544</td>\n",
       "      <td>0.455</td>\n",
       "    </tr>\n",
       "    <tr>\n",
       "      <th>Widowed</th>\n",
       "      <td>598374.452</td>\n",
       "      <td>39.533</td>\n",
       "      <td>0.472</td>\n",
       "    </tr>\n",
       "  </tbody>\n",
       "</table>\n",
       "</div>"
      ],
      "text/plain": [
       "                           age_sum  age_mean  rate\n",
       "marital-status                                    \n",
       " Divorced              2685818.053    39.223 0.104\n",
       " Married-AF-spouse       13788.065    38.194 1.000\n",
       " Married-civ-spouse    9135343.913    39.651 0.031\n",
       " Married-spouse-absent  251022.696    39.581 1.000\n",
       " Never-married         6447324.593    39.500 0.044\n",
       " Separated              620081.025    39.544 0.455\n",
       " Widowed                598374.452    39.533 0.472"
      ]
     },
     "execution_count": 47,
     "metadata": {},
     "output_type": "execute_result"
    },
    {
     "data": {
      "text/html": [
       "<div>\n",
       "<style scoped>\n",
       "    .dataframe tbody tr th:only-of-type {\n",
       "        vertical-align: middle;\n",
       "    }\n",
       "\n",
       "    .dataframe tbody tr th {\n",
       "        vertical-align: top;\n",
       "    }\n",
       "\n",
       "    .dataframe thead th {\n",
       "        text-align: right;\n",
       "    }\n",
       "</style>\n",
       "<table border=\"1\" class=\"dataframe\">\n",
       "  <thead>\n",
       "    <tr style=\"text-align: right;\">\n",
       "      <th></th>\n",
       "      <th>age_sum</th>\n",
       "      <th>age_mean</th>\n",
       "    </tr>\n",
       "    <tr>\n",
       "      <th>marital-status</th>\n",
       "      <th></th>\n",
       "      <th></th>\n",
       "    </tr>\n",
       "  </thead>\n",
       "  <tbody>\n",
       "    <tr>\n",
       "      <th>Divorced</th>\n",
       "      <td>0.017</td>\n",
       "      <td>0.017</td>\n",
       "    </tr>\n",
       "    <tr>\n",
       "      <th>Married-AF-spouse</th>\n",
       "      <td>0.041</td>\n",
       "      <td>0.041</td>\n",
       "    </tr>\n",
       "    <tr>\n",
       "      <th>Married-civ-spouse</th>\n",
       "      <td>0.028</td>\n",
       "      <td>0.028</td>\n",
       "    </tr>\n",
       "    <tr>\n",
       "      <th>Married-spouse-absent</th>\n",
       "      <td>0.023</td>\n",
       "      <td>0.023</td>\n",
       "    </tr>\n",
       "    <tr>\n",
       "      <th>Never-married</th>\n",
       "      <td>0.020</td>\n",
       "      <td>0.022</td>\n",
       "    </tr>\n",
       "    <tr>\n",
       "      <th>Separated</th>\n",
       "      <td>0.022</td>\n",
       "      <td>0.023</td>\n",
       "    </tr>\n",
       "    <tr>\n",
       "      <th>Widowed</th>\n",
       "      <td>0.026</td>\n",
       "      <td>0.026</td>\n",
       "    </tr>\n",
       "  </tbody>\n",
       "</table>\n",
       "</div>"
      ],
      "text/plain": [
       "                        age_sum  age_mean\n",
       "marital-status                           \n",
       " Divorced                 0.017     0.017\n",
       " Married-AF-spouse        0.041     0.041\n",
       " Married-civ-spouse       0.028     0.028\n",
       " Married-spouse-absent    0.023     0.023\n",
       " Never-married            0.020     0.022\n",
       " Separated                0.022     0.023\n",
       " Widowed                  0.026     0.026"
      ]
     },
     "execution_count": 47,
     "metadata": {},
     "output_type": "execute_result"
    },
    {
     "name": "stdout",
     "output_type": "stream",
     "text": [
      "total error:0.025625518474442482\n"
     ]
    },
    {
     "data": {
      "text/html": [
       "<div>\n",
       "<style scoped>\n",
       "    .dataframe tbody tr th:only-of-type {\n",
       "        vertical-align: middle;\n",
       "    }\n",
       "\n",
       "    .dataframe tbody tr th {\n",
       "        vertical-align: top;\n",
       "    }\n",
       "\n",
       "    .dataframe thead th {\n",
       "        text-align: right;\n",
       "    }\n",
       "</style>\n",
       "<table border=\"1\" class=\"dataframe\">\n",
       "  <thead>\n",
       "    <tr style=\"text-align: right;\">\n",
       "      <th></th>\n",
       "      <th>age_sum</th>\n",
       "      <th>age_mean</th>\n",
       "    </tr>\n",
       "    <tr>\n",
       "      <th>marital-status</th>\n",
       "      <th></th>\n",
       "      <th></th>\n",
       "    </tr>\n",
       "  </thead>\n",
       "  <tbody>\n",
       "    <tr>\n",
       "      <th>Divorced</th>\n",
       "      <td>2639805</td>\n",
       "      <td>38.551</td>\n",
       "    </tr>\n",
       "    <tr>\n",
       "      <th>Married-AF-spouse</th>\n",
       "      <td>14379</td>\n",
       "      <td>39.831</td>\n",
       "    </tr>\n",
       "    <tr>\n",
       "      <th>Married-civ-spouse</th>\n",
       "      <td>8888659</td>\n",
       "      <td>38.581</td>\n",
       "    </tr>\n",
       "    <tr>\n",
       "      <th>Married-spouse-absent</th>\n",
       "      <td>245345</td>\n",
       "      <td>38.686</td>\n",
       "    </tr>\n",
       "    <tr>\n",
       "      <th>Never-married</th>\n",
       "      <td>6321128</td>\n",
       "      <td>38.636</td>\n",
       "    </tr>\n",
       "    <tr>\n",
       "      <th>Separated</th>\n",
       "      <td>606480</td>\n",
       "      <td>38.666</td>\n",
       "    </tr>\n",
       "    <tr>\n",
       "      <th>Widowed</th>\n",
       "      <td>583086</td>\n",
       "      <td>38.523</td>\n",
       "    </tr>\n",
       "  </tbody>\n",
       "</table>\n",
       "</div>"
      ],
      "text/plain": [
       "                        age_sum  age_mean\n",
       "marital-status                           \n",
       " Divorced               2639805    38.551\n",
       " Married-AF-spouse        14379    39.831\n",
       " Married-civ-spouse     8888659    38.581\n",
       " Married-spouse-absent   245345    38.686\n",
       " Never-married          6321128    38.636\n",
       " Separated               606480    38.666\n",
       " Widowed                 583086    38.523"
      ]
     },
     "execution_count": 47,
     "metadata": {},
     "output_type": "execute_result"
    },
    {
     "data": {
      "text/html": [
       "<div>\n",
       "<style scoped>\n",
       "    .dataframe tbody tr th:only-of-type {\n",
       "        vertical-align: middle;\n",
       "    }\n",
       "\n",
       "    .dataframe tbody tr th {\n",
       "        vertical-align: top;\n",
       "    }\n",
       "\n",
       "    .dataframe thead th {\n",
       "        text-align: right;\n",
       "    }\n",
       "</style>\n",
       "<table border=\"1\" class=\"dataframe\">\n",
       "  <thead>\n",
       "    <tr style=\"text-align: right;\">\n",
       "      <th></th>\n",
       "      <th>age_sum</th>\n",
       "      <th>age_mean</th>\n",
       "    </tr>\n",
       "    <tr>\n",
       "      <th>marital-status</th>\n",
       "      <th></th>\n",
       "      <th></th>\n",
       "    </tr>\n",
       "  </thead>\n",
       "  <tbody>\n",
       "    <tr>\n",
       "      <th>Divorced</th>\n",
       "      <td>2685818.053</td>\n",
       "      <td>39.223</td>\n",
       "    </tr>\n",
       "    <tr>\n",
       "      <th>Married-AF-spouse</th>\n",
       "      <td>13788.065</td>\n",
       "      <td>38.194</td>\n",
       "    </tr>\n",
       "    <tr>\n",
       "      <th>Married-civ-spouse</th>\n",
       "      <td>9135343.913</td>\n",
       "      <td>39.651</td>\n",
       "    </tr>\n",
       "    <tr>\n",
       "      <th>Married-spouse-absent</th>\n",
       "      <td>251022.696</td>\n",
       "      <td>39.581</td>\n",
       "    </tr>\n",
       "    <tr>\n",
       "      <th>Never-married</th>\n",
       "      <td>6447324.593</td>\n",
       "      <td>39.500</td>\n",
       "    </tr>\n",
       "    <tr>\n",
       "      <th>Separated</th>\n",
       "      <td>620081.025</td>\n",
       "      <td>39.544</td>\n",
       "    </tr>\n",
       "    <tr>\n",
       "      <th>Widowed</th>\n",
       "      <td>598374.452</td>\n",
       "      <td>39.533</td>\n",
       "    </tr>\n",
       "  </tbody>\n",
       "</table>\n",
       "</div>"
      ],
      "text/plain": [
       "                           age_sum  age_mean\n",
       "marital-status                              \n",
       " Divorced              2685818.053    39.223\n",
       " Married-AF-spouse       13788.065    38.194\n",
       " Married-civ-spouse    9135343.913    39.651\n",
       " Married-spouse-absent  251022.696    39.581\n",
       " Never-married         6447324.593    39.500\n",
       " Separated              620081.025    39.544\n",
       " Widowed                598374.452    39.533"
      ]
     },
     "execution_count": 47,
     "metadata": {},
     "output_type": "execute_result"
    }
   ],
   "source": [
    "origin=pd.read_csv(\"../datasets/adult500K.csv\")\n",
    "samples=pd.read_csv(\"../output/torch_cvae_adult500K_marital-status_ld150_id150_bs512_ep200_rate0.1_binary_gaussian15.csv\")\n",
    "# samples=pd.read_csv(\"./output/torch_cvae_adult500K_marital-status_ld150_id150_bs512_ep200_rate0.1_binary_gaussian15.csv\")\n",
    "# origin=origin[origin['income-bucket']==' >50K']\n",
    "# samples=samples[samples['income-bucket']==' >50K']\n",
    "group_col='marital-status'\n",
    "# group_col='relationship'\n",
    "# group_col='education-num'\n",
    "# group_col='sex'\n",
    "# group_col='income-bucket'\n",
    "# group_col='occupation'\n",
    "agg_col='age'\n",
    "origin_groups=origin[group_col].value_counts().sort_index()\n",
    "# o_nation.plot(kind='barh')\n",
    "#plt.show()\n",
    "samples_groups=samples[group_col].value_counts().sort_index()\n",
    "#s_nation.plot(kind='barh')\n",
    "#plt.show()\n",
    "origin_groups\n",
    "samples_groups\n",
    "origin_res=origin.groupby(by=group_col).agg(age_sum=('age','sum'),age_mean=('age','mean'))\n",
    "samples_res=samples.groupby(by=group_col).agg(age_sum=('age','sum'),age_mean=('age','mean'),rate=('rate','mean'))\n",
    "# samples_res=samples.groupby(by=group_col, as_index=True).agg({agg_col:['sum','mean'],'rate':'mean'})\n",
    "samples_res\n",
    "samples_res['age_sum']=samples_res['age_sum']/samples_res['rate']\n",
    "samples_res\n",
    "del samples_res['rate']\n",
    "diff=(samples_res-origin_res).abs()/origin_res\n",
    "diff.fillna(1, inplace=True)\n",
    "diff\n",
    "print(\"total error:{}\".format(diff.values.sum()/diff.size))\n",
    "origin_res\n",
    "samples_res"
   ]
  },
  {
   "cell_type": "code",
   "execution_count": 38,
   "metadata": {
    "scrolled": true
   },
   "outputs": [
    {
     "name": "stdout",
     "output_type": "stream",
     "text": [
      "----------------------------------group val: Divorced-------------------------------\n"
     ]
    },
    {
     "data": {
      "text/plain": [
       "(array([0., 0., 0., ..., 0., 0., 0.]),\n",
       " array([  0.                ,\n",
       "          2.0408163265306123,\n",
       "          4.081632653061225 , ...,\n",
       "         95.91836734693878  ,\n",
       "         97.9591836734694   ,\n",
       "        100.                ]),\n",
       " <BarContainer object of 49 artists>)"
      ]
     },
     "execution_count": 38,
     "metadata": {},
     "output_type": "execute_result"
    },
    {
     "data": {
      "image/png": "[encoded data removed]",
      "text/plain": [
       "<Figure size 432x288 with 1 Axes>"
      ]
     },
     "metadata": {
      "needs_background": "light"
     },
     "output_type": "display_data"
    },
    {
     "data": {
      "text/plain": [
       "(array([0., 0., 0., ..., 0., 0., 0.]),\n",
       " array([  0.                ,\n",
       "          2.0408163265306123,\n",
       "          4.081632653061225 , ...,\n",
       "         95.91836734693878  ,\n",
       "         97.9591836734694   ,\n",
       "        100.                ]),\n",
       " <BarContainer object of 49 artists>)"
      ]
     },
     "execution_count": 38,
     "metadata": {},
     "output_type": "execute_result"
    },
    {
     "data": {
      "image/png": "[encoded data removed]",
      "text/plain": [
       "<Figure size 432x288 with 1 Axes>"
      ]
     },
     "metadata": {
      "needs_background": "light"
     },
     "output_type": "display_data"
    },
    {
     "name": "stdout",
     "output_type": "stream",
     "text": [
      "----------------------------------group val: Married-civ-spouse-------------------------------\n"
     ]
    },
    {
     "data": {
      "text/plain": [
       "(array([0., 0., 0., ..., 0., 0., 0.]),\n",
       " array([  0.                ,\n",
       "          2.0408163265306123,\n",
       "          4.081632653061225 , ...,\n",
       "         95.91836734693878  ,\n",
       "         97.9591836734694   ,\n",
       "        100.                ]),\n",
       " <BarContainer object of 49 artists>)"
      ]
     },
     "execution_count": 38,
     "metadata": {},
     "output_type": "execute_result"
    },
    {
     "data": {
      "image/png": "[encoded data removed]",
      "text/plain": [
       "<Figure size 432x288 with 1 Axes>"
      ]
     },
     "metadata": {
      "needs_background": "light"
     },
     "output_type": "display_data"
    },
    {
     "data": {
      "text/plain": [
       "(array([0., 0., 0., ..., 0., 0., 0.]),\n",
       " array([  0.                ,\n",
       "          2.0408163265306123,\n",
       "          4.081632653061225 , ...,\n",
       "         95.91836734693878  ,\n",
       "         97.9591836734694   ,\n",
       "        100.                ]),\n",
       " <BarContainer object of 49 artists>)"
      ]
     },
     "execution_count": 38,
     "metadata": {},
     "output_type": "execute_result"
    },
    {
     "data": {
      "image/png": "[encoded data removed]",
      "text/plain": [
       "<Figure size 432x288 with 1 Axes>"
      ]
     },
     "metadata": {
      "needs_background": "light"
     },
     "output_type": "display_data"
    },
    {
     "name": "stdout",
     "output_type": "stream",
     "text": [
      "----------------------------------group val: Never-married-------------------------------\n"
     ]
    },
    {
     "data": {
      "text/plain": [
       "(array([0., 0., 0., ..., 0., 0., 0.]),\n",
       " array([  0.                ,\n",
       "          2.0408163265306123,\n",
       "          4.081632653061225 , ...,\n",
       "         95.91836734693878  ,\n",
       "         97.9591836734694   ,\n",
       "        100.                ]),\n",
       " <BarContainer object of 49 artists>)"
      ]
     },
     "execution_count": 38,
     "metadata": {},
     "output_type": "execute_result"
    },
    {
     "data": {
      "image/png": "[encoded data removed]",
      "text/plain": [
       "<Figure size 432x288 with 1 Axes>"
      ]
     },
     "metadata": {
      "needs_background": "light"
     },
     "output_type": "display_data"
    },
    {
     "data": {
      "text/plain": [
       "(array([0., 0., 0., ..., 0., 0., 0.]),\n",
       " array([  0.                ,\n",
       "          2.0408163265306123,\n",
       "          4.081632653061225 , ...,\n",
       "         95.91836734693878  ,\n",
       "         97.9591836734694   ,\n",
       "        100.                ]),\n",
       " <BarContainer object of 49 artists>)"
      ]
     },
     "execution_count": 38,
     "metadata": {},
     "output_type": "execute_result"
    },
    {
     "data": {
      "image/png": "[encoded data removed]",
      "text/plain": [
       "<Figure size 432x288 with 1 Axes>"
      ]
     },
     "metadata": {
      "needs_background": "light"
     },
     "output_type": "display_data"
    },
    {
     "name": "stdout",
     "output_type": "stream",
     "text": [
      "----------------------------------group val: Widowed-------------------------------\n"
     ]
    },
    {
     "data": {
      "text/plain": [
       "(array([0., 0., 0., ..., 0., 0., 0.]),\n",
       " array([  0.                ,\n",
       "          2.0408163265306123,\n",
       "          4.081632653061225 , ...,\n",
       "         95.91836734693878  ,\n",
       "         97.9591836734694   ,\n",
       "        100.                ]),\n",
       " <BarContainer object of 49 artists>)"
      ]
     },
     "execution_count": 38,
     "metadata": {},
     "output_type": "execute_result"
    },
    {
     "data": {
      "image/png": "[encoded data removed]",
      "text/plain": [
       "<Figure size 432x288 with 1 Axes>"
      ]
     },
     "metadata": {
      "needs_background": "light"
     },
     "output_type": "display_data"
    },
    {
     "data": {
      "text/plain": [
       "(array([0., 0., 0., ..., 0., 0., 0.]),\n",
       " array([  0.                ,\n",
       "          2.0408163265306123,\n",
       "          4.081632653061225 , ...,\n",
       "         95.91836734693878  ,\n",
       "         97.9591836734694   ,\n",
       "        100.                ]),\n",
       " <BarContainer object of 49 artists>)"
      ]
     },
     "execution_count": 38,
     "metadata": {},
     "output_type": "execute_result"
    },
    {
     "data": {
      "image/png": "[encoded data removed]",
      "text/plain": [
       "<Figure size 432x288 with 1 Axes>"
      ]
     },
     "metadata": {
      "needs_background": "light"
     },
     "output_type": "display_data"
    },
    {
     "name": "stdout",
     "output_type": "stream",
     "text": [
      "----------------------------------group val: Separated-------------------------------\n"
     ]
    },
    {
     "data": {
      "text/plain": [
       "(array([0., 0., 0., ..., 0., 0., 0.]),\n",
       " array([  0.                ,\n",
       "          2.0408163265306123,\n",
       "          4.081632653061225 , ...,\n",
       "         95.91836734693878  ,\n",
       "         97.9591836734694   ,\n",
       "        100.                ]),\n",
       " <BarContainer object of 49 artists>)"
      ]
     },
     "execution_count": 38,
     "metadata": {},
     "output_type": "execute_result"
    },
    {
     "data": {
      "image/png": "[encoded data removed]",
      "text/plain": [
       "<Figure size 432x288 with 1 Axes>"
      ]
     },
     "metadata": {
      "needs_background": "light"
     },
     "output_type": "display_data"
    },
    {
     "data": {
      "text/plain": [
       "(array([0., 0., 0., ..., 0., 0., 0.]),\n",
       " array([  0.                ,\n",
       "          2.0408163265306123,\n",
       "          4.081632653061225 , ...,\n",
       "         95.91836734693878  ,\n",
       "         97.9591836734694   ,\n",
       "        100.                ]),\n",
       " <BarContainer object of 49 artists>)"
      ]
     },
     "execution_count": 38,
     "metadata": {},
     "output_type": "execute_result"
    },
    {
     "data": {
      "image/png": "[encoded data removed]",
      "text/plain": [
       "<Figure size 432x288 with 1 Axes>"
      ]
     },
     "metadata": {
      "needs_background": "light"
     },
     "output_type": "display_data"
    },
    {
     "name": "stdout",
     "output_type": "stream",
     "text": [
      "----------------------------------group val: Married-spouse-absent-------------------------------\n"
     ]
    },
    {
     "data": {
      "text/plain": [
       "(array([0., 0., 0., ..., 0., 0., 0.]),\n",
       " array([  0.                ,\n",
       "          2.0408163265306123,\n",
       "          4.081632653061225 , ...,\n",
       "         95.91836734693878  ,\n",
       "         97.9591836734694   ,\n",
       "        100.                ]),\n",
       " <BarContainer object of 49 artists>)"
      ]
     },
     "execution_count": 38,
     "metadata": {},
     "output_type": "execute_result"
    },
    {
     "data": {
      "image/png": "[encoded data removed]",
      "text/plain": [
       "<Figure size 432x288 with 1 Axes>"
      ]
     },
     "metadata": {
      "needs_background": "light"
     },
     "output_type": "display_data"
    },
    {
     "data": {
      "text/plain": [
       "(array([0., 0., 0., ..., 0., 0., 0.]),\n",
       " array([  0.                ,\n",
       "          2.0408163265306123,\n",
       "          4.081632653061225 , ...,\n",
       "         95.91836734693878  ,\n",
       "         97.9591836734694   ,\n",
       "        100.                ]),\n",
       " <BarContainer object of 49 artists>)"
      ]
     },
     "execution_count": 38,
     "metadata": {},
     "output_type": "execute_result"
    },
    {
     "data": {
      "image/png": "[encoded data removed]",
      "text/plain": [
       "<Figure size 432x288 with 1 Axes>"
      ]
     },
     "metadata": {
      "needs_background": "light"
     },
     "output_type": "display_data"
    },
    {
     "name": "stdout",
     "output_type": "stream",
     "text": [
      "----------------------------------group val: Married-AF-spouse-------------------------------\n"
     ]
    },
    {
     "data": {
      "text/plain": [
       "(array([0., 0., 0., ..., 0., 0., 0.]),\n",
       " array([  0.                ,\n",
       "          2.0408163265306123,\n",
       "          4.081632653061225 , ...,\n",
       "         95.91836734693878  ,\n",
       "         97.9591836734694   ,\n",
       "        100.                ]),\n",
       " <BarContainer object of 49 artists>)"
      ]
     },
     "execution_count": 38,
     "metadata": {},
     "output_type": "execute_result"
    },
    {
     "data": {
      "image/png": "[encoded data removed]",
      "text/plain": [
       "<Figure size 432x288 with 1 Axes>"
      ]
     },
     "metadata": {
      "needs_background": "light"
     },
     "output_type": "display_data"
    },
    {
     "data": {
      "text/plain": [
       "(array([0., 0., 0., ..., 0., 0., 0.]),\n",
       " array([  0.                ,\n",
       "          2.0408163265306123,\n",
       "          4.081632653061225 , ...,\n",
       "         95.91836734693878  ,\n",
       "         97.9591836734694   ,\n",
       "        100.                ]),\n",
       " <BarContainer object of 49 artists>)"
      ]
     },
     "execution_count": 38,
     "metadata": {},
     "output_type": "execute_result"
    },
    {
     "data": {
      "image/png": "[encoded data removed]",
      "text/plain": [
       "<Figure size 432x288 with 1 Axes>"
      ]
     },
     "metadata": {
      "needs_background": "light"
     },
     "output_type": "display_data"
    }
   ],
   "source": [
    "group_vals=origin[group_col].drop_duplicates(keep='first')\n",
    "agg_range=(0,100)\n",
    "bin_num=50\n",
    "for val in group_vals: \n",
    "    print('----------------------------------group val:{}-------------------------------'.format(val))\n",
    "    o_col=origin[origin[group_col]==val][agg_col]\n",
    "    s_col=samples[samples[group_col]==val][agg_col]\n",
    "    bins = np.linspace(agg_range[0], agg_range[1], bin_num)\n",
    "    plt.hist(o_col.values.tolist(),bins)\n",
    "    plt.show()\n",
    "    plt.hist(s_col.values.tolist(),bins)\n",
    "    plt.show()"
   ]
  },
  {
   "cell_type": "code",
   "execution_count": null,
   "metadata": {
    "scrolled": false
   },
   "outputs": [],
   "source": [
    "ad=pd.read_csv('../datasets/adult500K.csv')\n",
    "ado=ad[:300000]\n",
    "group_col='marital-status'\n",
    "agg_col='age'\n",
    "agg_range=(0,100)\n",
    "bin_num=50\n",
    "fb=pd.read_csv('../datasets/adult500K_second_batch.csv')\n",
    "for val in group_vals: \n",
    "    print('----------------------------------group val:{}-------------------------------'.format(val))\n",
    "    bins = np.linspace(agg_range[0], agg_range[1], bin_num)\n",
    "    o_col=ad[ad[group_col]==val][agg_col]\n",
    "    s_col=ado[ado[group_col]==val][agg_col]\n",
    "    plt.hist(o_col.values.tolist(),bins)\n",
    "    plt.show()\n",
    "    plt.hist(s_col.values.tolist(),bins)\n",
    "    plt.show()\n",
    "    f_col=fb[fb[group_col]==val][agg_col]\n",
    "    plt.hist(f_col.values.tolist(),bins)\n",
    "    plt.show()"
   ]
  },
  {
   "cell_type": "code",
   "execution_count": null,
   "metadata": {
    "scrolled": false
   },
   "outputs": [],
   "source": [
    "num=3\n",
    "d0=pd.read_csv('./d{}.csv'.format(num))\n",
    "df0=pd.read_csv('./df{}.csv'.format(num))\n",
    "diff0=pd.read_csv('./diff{}.csv'.format(num))\n",
    "cols=['cagg_sum','cagg_mean','sagg_sum','sagg_mean']\n",
    "bins=np.linspace(0,1,20)\n",
    "for col in cols:\n",
    "    cs0=d0[col]\n",
    "    plt.hist(cs0.values.tolist(),bins)\n",
    "    plt.show()\n",
    "#     csf0=df0[col]\n",
    "#     plt.hist(csf0.values.tolist(),bins)\n",
    "#     plt.show()\n",
    "    csff0=diff0[col]\n",
    "    plt.hist(csff0.values.tolist(),bins)\n",
    "    plt.show()"
   ]
  },
  {
   "cell_type": "code",
   "execution_count": null,
   "metadata": {},
   "outputs": [],
   "source": []
  }
 ],
 "metadata": {
  "kernelspec": {
   "display_name": "Python 3",
   "language": "python",
   "name": "python3"
  },
  "language_info": {
   "codemirror_mode": {
    "name": "ipython",
    "version": 3
   },
   "file_extension": ".py",
   "mimetype": "text/x-python",
   "name": "python",
   "nbconvert_exporter": "python",
   "pygments_lexer": "ipython3",
   "version": "3.6.8"
  }
 },
 "nbformat": 4,
 "nbformat_minor": 1
}
