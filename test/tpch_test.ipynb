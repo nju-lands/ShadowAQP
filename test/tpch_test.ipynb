{
 "cells": [
  {
   "cell_type": "code",
   "execution_count": null,
   "metadata": {},
   "outputs": [],
   "source": [
    "import pandas as pd\n",
    "import matplotlib as mlp\n",
    "import matplotlib.pyplot as plt\n",
    "from IPython.core.interactiveshell import InteractiveShell\n",
    "InteractiveShell.ast_node_interactivity = 'all' #默认为'last'\n",
    "import random\n",
    "import matplotlib.pyplot as plt\n",
    "import numpy as np\n",
    "import time\n",
    "np.set_printoptions(suppress=True,   precision=20,  threshold=10,  linewidth=40)\n",
    "pd.set_option('display.float_format',lambda x : '%.3f' % x)"
   ]
  },
  {
   "cell_type": "code",
   "execution_count": 55,
   "metadata": {
    "scrolled": true
   },
   "outputs": [
    {
     "data": {
      "text/plain": [
       "0     420\n",
       "1     413\n",
       "2     397\n",
       "3     412\n",
       "4     415\n",
       "5     380\n",
       "6     402\n",
       "7     396\n",
       "8     415\n",
       "9     405\n",
       "10    393\n",
       "11    438\n",
       "12    377\n",
       "13    362\n",
       "14    376\n",
       "15    373\n",
       "16    406\n",
       "17    421\n",
       "18    407\n",
       "19    398\n",
       "20    411\n",
       "21    399\n",
       "22    401\n",
       "23    390\n",
       "24    393\n",
       "Name: s_nationkey, dtype: int64"
      ]
     },
     "execution_count": 55,
     "metadata": {},
     "output_type": "execute_result"
    },
    {
     "data": {
      "text/plain": [
       "0     84\n",
       "1     83\n",
       "2     79\n",
       "3     82\n",
       "4     83\n",
       "5     76\n",
       "6     80\n",
       "7     79\n",
       "8     83\n",
       "9     81\n",
       "10    79\n",
       "11    88\n",
       "12    75\n",
       "13    72\n",
       "14    75\n",
       "15    75\n",
       "16    81\n",
       "17    84\n",
       "18    81\n",
       "19    80\n",
       "20    82\n",
       "21    80\n",
       "22    80\n",
       "23    78\n",
       "24    79\n",
       "Name: s_nationkey, dtype: int64"
      ]
     },
     "execution_count": 55,
     "metadata": {},
     "output_type": "execute_result"
    },
    {
     "data": {
      "text/html": [
       "<div>\n",
       "<style scoped>\n",
       "    .dataframe tbody tr th:only-of-type {\n",
       "        vertical-align: middle;\n",
       "    }\n",
       "\n",
       "    .dataframe tbody tr th {\n",
       "        vertical-align: top;\n",
       "    }\n",
       "\n",
       "    .dataframe thead th {\n",
       "        text-align: right;\n",
       "    }\n",
       "</style>\n",
       "<table border=\"1\" class=\"dataframe\">\n",
       "  <thead>\n",
       "    <tr style=\"text-align: right;\">\n",
       "      <th></th>\n",
       "      <th>agg_sum</th>\n",
       "      <th>age_mean</th>\n",
       "    </tr>\n",
       "    <tr>\n",
       "      <th>s_nationkey</th>\n",
       "      <th></th>\n",
       "      <th></th>\n",
       "    </tr>\n",
       "  </thead>\n",
       "  <tbody>\n",
       "    <tr>\n",
       "      <th>0</th>\n",
       "      <td>0.037</td>\n",
       "      <td>0.037</td>\n",
       "    </tr>\n",
       "    <tr>\n",
       "      <th>1</th>\n",
       "      <td>0.055</td>\n",
       "      <td>0.055</td>\n",
       "    </tr>\n",
       "    <tr>\n",
       "      <th>2</th>\n",
       "      <td>0.079</td>\n",
       "      <td>0.079</td>\n",
       "    </tr>\n",
       "    <tr>\n",
       "      <th>3</th>\n",
       "      <td>0.052</td>\n",
       "      <td>0.052</td>\n",
       "    </tr>\n",
       "    <tr>\n",
       "      <th>4</th>\n",
       "      <td>0.008</td>\n",
       "      <td>0.008</td>\n",
       "    </tr>\n",
       "    <tr>\n",
       "      <th>5</th>\n",
       "      <td>0.194</td>\n",
       "      <td>0.194</td>\n",
       "    </tr>\n",
       "    <tr>\n",
       "      <th>6</th>\n",
       "      <td>0.060</td>\n",
       "      <td>0.060</td>\n",
       "    </tr>\n",
       "    <tr>\n",
       "      <th>7</th>\n",
       "      <td>0.076</td>\n",
       "      <td>0.076</td>\n",
       "    </tr>\n",
       "    <tr>\n",
       "      <th>8</th>\n",
       "      <td>0.006</td>\n",
       "      <td>0.006</td>\n",
       "    </tr>\n",
       "    <tr>\n",
       "      <th>9</th>\n",
       "      <td>0.002</td>\n",
       "      <td>0.002</td>\n",
       "    </tr>\n",
       "    <tr>\n",
       "      <th>10</th>\n",
       "      <td>0.012</td>\n",
       "      <td>0.012</td>\n",
       "    </tr>\n",
       "    <tr>\n",
       "      <th>11</th>\n",
       "      <td>0.065</td>\n",
       "      <td>0.065</td>\n",
       "    </tr>\n",
       "    <tr>\n",
       "      <th>12</th>\n",
       "      <td>0.091</td>\n",
       "      <td>0.091</td>\n",
       "    </tr>\n",
       "    <tr>\n",
       "      <th>13</th>\n",
       "      <td>0.087</td>\n",
       "      <td>0.087</td>\n",
       "    </tr>\n",
       "    <tr>\n",
       "      <th>14</th>\n",
       "      <td>0.056</td>\n",
       "      <td>0.056</td>\n",
       "    </tr>\n",
       "    <tr>\n",
       "      <th>15</th>\n",
       "      <td>0.057</td>\n",
       "      <td>0.057</td>\n",
       "    </tr>\n",
       "    <tr>\n",
       "      <th>16</th>\n",
       "      <td>0.126</td>\n",
       "      <td>0.126</td>\n",
       "    </tr>\n",
       "    <tr>\n",
       "      <th>17</th>\n",
       "      <td>0.056</td>\n",
       "      <td>0.056</td>\n",
       "    </tr>\n",
       "    <tr>\n",
       "      <th>18</th>\n",
       "      <td>0.099</td>\n",
       "      <td>0.099</td>\n",
       "    </tr>\n",
       "    <tr>\n",
       "      <th>19</th>\n",
       "      <td>0.094</td>\n",
       "      <td>0.094</td>\n",
       "    </tr>\n",
       "    <tr>\n",
       "      <th>20</th>\n",
       "      <td>0.097</td>\n",
       "      <td>0.097</td>\n",
       "    </tr>\n",
       "    <tr>\n",
       "      <th>21</th>\n",
       "      <td>0.005</td>\n",
       "      <td>0.005</td>\n",
       "    </tr>\n",
       "    <tr>\n",
       "      <th>22</th>\n",
       "      <td>0.030</td>\n",
       "      <td>0.030</td>\n",
       "    </tr>\n",
       "    <tr>\n",
       "      <th>23</th>\n",
       "      <td>0.026</td>\n",
       "      <td>0.026</td>\n",
       "    </tr>\n",
       "    <tr>\n",
       "      <th>24</th>\n",
       "      <td>0.047</td>\n",
       "      <td>0.047</td>\n",
       "    </tr>\n",
       "  </tbody>\n",
       "</table>\n",
       "</div>"
      ],
      "text/plain": [
       "             agg_sum  age_mean\n",
       "s_nationkey                   \n",
       "0              0.037     0.037\n",
       "1              0.055     0.055\n",
       "2              0.079     0.079\n",
       "3              0.052     0.052\n",
       "4              0.008     0.008\n",
       "5              0.194     0.194\n",
       "6              0.060     0.060\n",
       "7              0.076     0.076\n",
       "8              0.006     0.006\n",
       "9              0.002     0.002\n",
       "10             0.012     0.012\n",
       "11             0.065     0.065\n",
       "12             0.091     0.091\n",
       "13             0.087     0.087\n",
       "14             0.056     0.056\n",
       "15             0.057     0.057\n",
       "16             0.126     0.126\n",
       "17             0.056     0.056\n",
       "18             0.099     0.099\n",
       "19             0.094     0.094\n",
       "20             0.097     0.097\n",
       "21             0.005     0.005\n",
       "22             0.030     0.030\n",
       "23             0.026     0.026\n",
       "24             0.047     0.047"
      ]
     },
     "execution_count": 55,
     "metadata": {},
     "output_type": "execute_result"
    },
    {
     "name": "stdout",
     "output_type": "stream",
     "text": [
      "total error:0.060772036199218976\n"
     ]
    },
    {
     "data": {
      "text/html": [
       "<div>\n",
       "<style scoped>\n",
       "    .dataframe tbody tr th:only-of-type {\n",
       "        vertical-align: middle;\n",
       "    }\n",
       "\n",
       "    .dataframe tbody tr th {\n",
       "        vertical-align: top;\n",
       "    }\n",
       "\n",
       "    .dataframe thead th {\n",
       "        text-align: right;\n",
       "    }\n",
       "</style>\n",
       "<table border=\"1\" class=\"dataframe\">\n",
       "  <thead>\n",
       "    <tr style=\"text-align: right;\">\n",
       "      <th></th>\n",
       "      <th>agg_sum</th>\n",
       "      <th>age_mean</th>\n",
       "    </tr>\n",
       "    <tr>\n",
       "      <th>s_nationkey</th>\n",
       "      <th></th>\n",
       "      <th></th>\n",
       "    </tr>\n",
       "  </thead>\n",
       "  <tbody>\n",
       "    <tr>\n",
       "      <th>0</th>\n",
       "      <td>1813079.630</td>\n",
       "      <td>4316.856</td>\n",
       "    </tr>\n",
       "    <tr>\n",
       "      <th>1</th>\n",
       "      <td>1814336.100</td>\n",
       "      <td>4393.066</td>\n",
       "    </tr>\n",
       "    <tr>\n",
       "      <th>2</th>\n",
       "      <td>1749634.480</td>\n",
       "      <td>4407.140</td>\n",
       "    </tr>\n",
       "    <tr>\n",
       "      <th>3</th>\n",
       "      <td>2041622.220</td>\n",
       "      <td>4955.394</td>\n",
       "    </tr>\n",
       "    <tr>\n",
       "      <th>4</th>\n",
       "      <td>1805131.050</td>\n",
       "      <td>4349.713</td>\n",
       "    </tr>\n",
       "    <tr>\n",
       "      <th>5</th>\n",
       "      <td>1796278.370</td>\n",
       "      <td>4727.048</td>\n",
       "    </tr>\n",
       "    <tr>\n",
       "      <th>6</th>\n",
       "      <td>1853385.170</td>\n",
       "      <td>4610.411</td>\n",
       "    </tr>\n",
       "    <tr>\n",
       "      <th>7</th>\n",
       "      <td>1698097.020</td>\n",
       "      <td>4288.124</td>\n",
       "    </tr>\n",
       "    <tr>\n",
       "      <th>8</th>\n",
       "      <td>1858708.570</td>\n",
       "      <td>4478.816</td>\n",
       "    </tr>\n",
       "    <tr>\n",
       "      <th>9</th>\n",
       "      <td>1880366.210</td>\n",
       "      <td>4642.880</td>\n",
       "    </tr>\n",
       "    <tr>\n",
       "      <th>10</th>\n",
       "      <td>1820945.110</td>\n",
       "      <td>4633.448</td>\n",
       "    </tr>\n",
       "    <tr>\n",
       "      <th>11</th>\n",
       "      <td>2022868.310</td>\n",
       "      <td>4618.421</td>\n",
       "    </tr>\n",
       "    <tr>\n",
       "      <th>12</th>\n",
       "      <td>1805205.300</td>\n",
       "      <td>4788.343</td>\n",
       "    </tr>\n",
       "    <tr>\n",
       "      <th>13</th>\n",
       "      <td>1558102.880</td>\n",
       "      <td>4304.152</td>\n",
       "    </tr>\n",
       "    <tr>\n",
       "      <th>14</th>\n",
       "      <td>1661571.180</td>\n",
       "      <td>4419.072</td>\n",
       "    </tr>\n",
       "    <tr>\n",
       "      <th>15</th>\n",
       "      <td>1757053.310</td>\n",
       "      <td>4710.599</td>\n",
       "    </tr>\n",
       "    <tr>\n",
       "      <th>16</th>\n",
       "      <td>1667102.590</td>\n",
       "      <td>4106.164</td>\n",
       "    </tr>\n",
       "    <tr>\n",
       "      <th>17</th>\n",
       "      <td>1972070.240</td>\n",
       "      <td>4684.252</td>\n",
       "    </tr>\n",
       "    <tr>\n",
       "      <th>18</th>\n",
       "      <td>1712028.560</td>\n",
       "      <td>4206.458</td>\n",
       "    </tr>\n",
       "    <tr>\n",
       "      <th>19</th>\n",
       "      <td>1821466.180</td>\n",
       "      <td>4576.548</td>\n",
       "    </tr>\n",
       "    <tr>\n",
       "      <th>20</th>\n",
       "      <td>1787877.920</td>\n",
       "      <td>4350.068</td>\n",
       "    </tr>\n",
       "    <tr>\n",
       "      <th>21</th>\n",
       "      <td>1719534.450</td>\n",
       "      <td>4309.610</td>\n",
       "    </tr>\n",
       "    <tr>\n",
       "      <th>22</th>\n",
       "      <td>1854452.400</td>\n",
       "      <td>4624.570</td>\n",
       "    </tr>\n",
       "    <tr>\n",
       "      <th>23</th>\n",
       "      <td>1798758.840</td>\n",
       "      <td>4612.202</td>\n",
       "    </tr>\n",
       "    <tr>\n",
       "      <th>24</th>\n",
       "      <td>1833872.560</td>\n",
       "      <td>4666.342</td>\n",
       "    </tr>\n",
       "  </tbody>\n",
       "</table>\n",
       "</div>"
      ],
      "text/plain": [
       "                agg_sum  age_mean\n",
       "s_nationkey                      \n",
       "0           1813079.630  4316.856\n",
       "1           1814336.100  4393.066\n",
       "2           1749634.480  4407.140\n",
       "3           2041622.220  4955.394\n",
       "4           1805131.050  4349.713\n",
       "5           1796278.370  4727.048\n",
       "6           1853385.170  4610.411\n",
       "7           1698097.020  4288.124\n",
       "8           1858708.570  4478.816\n",
       "9           1880366.210  4642.880\n",
       "10          1820945.110  4633.448\n",
       "11          2022868.310  4618.421\n",
       "12          1805205.300  4788.343\n",
       "13          1558102.880  4304.152\n",
       "14          1661571.180  4419.072\n",
       "15          1757053.310  4710.599\n",
       "16          1667102.590  4106.164\n",
       "17          1972070.240  4684.252\n",
       "18          1712028.560  4206.458\n",
       "19          1821466.180  4576.548\n",
       "20          1787877.920  4350.068\n",
       "21          1719534.450  4309.610\n",
       "22          1854452.400  4624.570\n",
       "23          1798758.840  4612.202\n",
       "24          1833872.560  4666.342"
      ]
     },
     "execution_count": 55,
     "metadata": {},
     "output_type": "execute_result"
    },
    {
     "data": {
      "text/html": [
       "<div>\n",
       "<style scoped>\n",
       "    .dataframe tbody tr th:only-of-type {\n",
       "        vertical-align: middle;\n",
       "    }\n",
       "\n",
       "    .dataframe tbody tr th {\n",
       "        vertical-align: top;\n",
       "    }\n",
       "\n",
       "    .dataframe thead th {\n",
       "        text-align: right;\n",
       "    }\n",
       "</style>\n",
       "<table border=\"1\" class=\"dataframe\">\n",
       "  <thead>\n",
       "    <tr style=\"text-align: right;\">\n",
       "      <th></th>\n",
       "      <th>agg_sum</th>\n",
       "      <th>age_mean</th>\n",
       "    </tr>\n",
       "    <tr>\n",
       "      <th>s_nationkey</th>\n",
       "      <th></th>\n",
       "      <th></th>\n",
       "    </tr>\n",
       "  </thead>\n",
       "  <tbody>\n",
       "    <tr>\n",
       "      <th>0</th>\n",
       "      <td>1880671.561</td>\n",
       "      <td>4477.789</td>\n",
       "    </tr>\n",
       "    <tr>\n",
       "      <th>1</th>\n",
       "      <td>1914945.047</td>\n",
       "      <td>4636.671</td>\n",
       "    </tr>\n",
       "    <tr>\n",
       "      <th>2</th>\n",
       "      <td>1612194.729</td>\n",
       "      <td>4060.944</td>\n",
       "    </tr>\n",
       "    <tr>\n",
       "      <th>3</th>\n",
       "      <td>1934538.101</td>\n",
       "      <td>4695.481</td>\n",
       "    </tr>\n",
       "    <tr>\n",
       "      <th>4</th>\n",
       "      <td>1790137.844</td>\n",
       "      <td>4313.585</td>\n",
       "    </tr>\n",
       "    <tr>\n",
       "      <th>5</th>\n",
       "      <td>1447379.671</td>\n",
       "      <td>3808.894</td>\n",
       "    </tr>\n",
       "    <tr>\n",
       "      <th>6</th>\n",
       "      <td>1741763.718</td>\n",
       "      <td>4332.746</td>\n",
       "    </tr>\n",
       "    <tr>\n",
       "      <th>7</th>\n",
       "      <td>1827621.841</td>\n",
       "      <td>4615.207</td>\n",
       "    </tr>\n",
       "    <tr>\n",
       "      <th>8</th>\n",
       "      <td>1847845.317</td>\n",
       "      <td>4452.639</td>\n",
       "    </tr>\n",
       "    <tr>\n",
       "      <th>9</th>\n",
       "      <td>1884374.298</td>\n",
       "      <td>4652.776</td>\n",
       "    </tr>\n",
       "    <tr>\n",
       "      <th>10</th>\n",
       "      <td>1799019.976</td>\n",
       "      <td>4577.659</td>\n",
       "    </tr>\n",
       "    <tr>\n",
       "      <th>11</th>\n",
       "      <td>1890923.580</td>\n",
       "      <td>4317.177</td>\n",
       "    </tr>\n",
       "    <tr>\n",
       "      <th>12</th>\n",
       "      <td>1969589.294</td>\n",
       "      <td>5224.375</td>\n",
       "    </tr>\n",
       "    <tr>\n",
       "      <th>13</th>\n",
       "      <td>1693226.982</td>\n",
       "      <td>4677.423</td>\n",
       "    </tr>\n",
       "    <tr>\n",
       "      <th>14</th>\n",
       "      <td>1753946.668</td>\n",
       "      <td>4664.752</td>\n",
       "    </tr>\n",
       "    <tr>\n",
       "      <th>15</th>\n",
       "      <td>1656078.069</td>\n",
       "      <td>4439.888</td>\n",
       "    </tr>\n",
       "    <tr>\n",
       "      <th>16</th>\n",
       "      <td>1877694.167</td>\n",
       "      <td>4624.862</td>\n",
       "    </tr>\n",
       "    <tr>\n",
       "      <th>17</th>\n",
       "      <td>2082282.774</td>\n",
       "      <td>4946.040</td>\n",
       "    </tr>\n",
       "    <tr>\n",
       "      <th>18</th>\n",
       "      <td>1881490.047</td>\n",
       "      <td>4622.826</td>\n",
       "    </tr>\n",
       "    <tr>\n",
       "      <th>19</th>\n",
       "      <td>1650975.793</td>\n",
       "      <td>4148.180</td>\n",
       "    </tr>\n",
       "    <tr>\n",
       "      <th>20</th>\n",
       "      <td>1960904.272</td>\n",
       "      <td>4771.057</td>\n",
       "    </tr>\n",
       "    <tr>\n",
       "      <th>21</th>\n",
       "      <td>1727714.670</td>\n",
       "      <td>4330.112</td>\n",
       "    </tr>\n",
       "    <tr>\n",
       "      <th>22</th>\n",
       "      <td>1798098.232</td>\n",
       "      <td>4484.035</td>\n",
       "    </tr>\n",
       "    <tr>\n",
       "      <th>23</th>\n",
       "      <td>1846244.033</td>\n",
       "      <td>4733.959</td>\n",
       "    </tr>\n",
       "    <tr>\n",
       "      <th>24</th>\n",
       "      <td>1747100.038</td>\n",
       "      <td>4445.547</td>\n",
       "    </tr>\n",
       "  </tbody>\n",
       "</table>\n",
       "</div>"
      ],
      "text/plain": [
       "                agg_sum  age_mean\n",
       "s_nationkey                      \n",
       "0           1880671.561  4477.789\n",
       "1           1914945.047  4636.671\n",
       "2           1612194.729  4060.944\n",
       "3           1934538.101  4695.481\n",
       "4           1790137.844  4313.585\n",
       "5           1447379.671  3808.894\n",
       "6           1741763.718  4332.746\n",
       "7           1827621.841  4615.207\n",
       "8           1847845.317  4452.639\n",
       "9           1884374.298  4652.776\n",
       "10          1799019.976  4577.659\n",
       "11          1890923.580  4317.177\n",
       "12          1969589.294  5224.375\n",
       "13          1693226.982  4677.423\n",
       "14          1753946.668  4664.752\n",
       "15          1656078.069  4439.888\n",
       "16          1877694.167  4624.862\n",
       "17          2082282.774  4946.040\n",
       "18          1881490.047  4622.826\n",
       "19          1650975.793  4148.180\n",
       "20          1960904.272  4771.057\n",
       "21          1727714.670  4330.112\n",
       "22          1798098.232  4484.035\n",
       "23          1846244.033  4733.959\n",
       "24          1747100.038  4445.547"
      ]
     },
     "execution_count": 55,
     "metadata": {},
     "output_type": "execute_result"
    }
   ],
   "source": [
    "origin=pd.read_csv(\"../datasets/tpch-1/supplier.csv\")\n",
    "samples=pd.read_csv(\"../output/torch_cvae_tpch-1-supplier_s_nationkey_ld150_id150_bs256_ep500_rate0.3_binary_gaussian15.csv\")\n",
    "samples=pd.read_csv(\"./output/torch_cvae_tpch-1-supplier_s_nationkey_ld150_id150_bs256_ep200_rate0.2_binary_gaussian15.csv\")\n",
    "# samples=origin.sample(frac=0.3)\n",
    "group_col='s_nationkey'\n",
    "agg_col='s_acctbal'\n",
    "origin_groups=origin[group_col].value_counts().sort_index()\n",
    "# origin_groups.plot(kind='bar')\n",
    "# plt.show()\n",
    "samples_groups=samples[group_col].value_counts().sort_index()\n",
    "# samples_groups.plot(kind='bar')\n",
    "# plt.show()\n",
    "origin_groups\n",
    "samples_groups\n",
    "# samples['rate']=0.3\n",
    "origin_res=origin.groupby(by=group_col).agg(agg_sum=(agg_col,'sum'),age_mean=(agg_col,'mean'))\n",
    "samples_res=samples.groupby(by=group_col).agg(agg_sum=(agg_col,'sum'),age_mean=(agg_col,'mean'),rate=('rate','mean'))\n",
    "samples_res['agg_sum']=samples_res['agg_sum']/samples_res['rate']\n",
    "del samples_res['rate']\n",
    "diff=(samples_res-origin_res).abs()/origin_res\n",
    "diff.fillna(1, inplace=True)\n",
    "diff\n",
    "print(\"total error:{}\".format(diff.values.sum()/diff.size))\n",
    "origin_res\n",
    "samples_res"
   ]
  },
  {
   "cell_type": "code",
   "execution_count": 56,
   "metadata": {
    "scrolled": true
   },
   "outputs": [
    {
     "data": {
      "text/plain": [
       "(array([563., 577., 573., ..., 572.,\n",
       "        221.,   0.]),\n",
       " array([-1000.              ,\n",
       "         -368.42105263157896,\n",
       "          263.1578947368421 , ...,\n",
       "         9736.842105263158  ,\n",
       "        10368.421052631578  ,\n",
       "        11000.              ]),\n",
       " <BarContainer object of 19 artists>)"
      ]
     },
     "execution_count": 56,
     "metadata": {},
     "output_type": "execute_result"
    },
    {
     "data": {
      "image/png": "[encoded data removed]",
      "text/plain": [
       "<Figure size 432x288 with 1 Axes>"
      ]
     },
     "metadata": {
      "needs_background": "light"
     },
     "output_type": "display_data"
    },
    {
     "data": {
      "text/plain": [
       "(array([ 67., 117., 106., ..., 115.,\n",
       "         30.,   0.]),\n",
       " array([-1000.              ,\n",
       "         -368.42105263157896,\n",
       "          263.1578947368421 , ...,\n",
       "         9736.842105263158  ,\n",
       "        10368.421052631578  ,\n",
       "        11000.              ]),\n",
       " <BarContainer object of 19 artists>)"
      ]
     },
     "execution_count": 56,
     "metadata": {},
     "output_type": "execute_result"
    },
    {
     "data": {
      "image/png": "[encoded data removed]",
      "text/plain": [
       "<Figure size 432x288 with 1 Axes>"
      ]
     },
     "metadata": {
      "needs_background": "light"
     },
     "output_type": "display_data"
    },
    {
     "name": "stdout",
     "output_type": "stream",
     "text": [
      "----------------------------------group val:0-------------------------------\n"
     ]
    },
    {
     "data": {
      "text/plain": [
       "(array([20., 25., 25., ..., 22., 10.,\n",
       "         0.]),\n",
       " array([-1000.              ,\n",
       "         -368.42105263157896,\n",
       "          263.1578947368421 , ...,\n",
       "         9736.842105263158  ,\n",
       "        10368.421052631578  ,\n",
       "        11000.              ]),\n",
       " <BarContainer object of 19 artists>)"
      ]
     },
     "execution_count": 56,
     "metadata": {},
     "output_type": "execute_result"
    },
    {
     "data": {
      "image/png": "[encoded data removed]",
      "text/plain": [
       "<Figure size 432x288 with 1 Axes>"
      ]
     },
     "metadata": {
      "needs_background": "light"
     },
     "output_type": "display_data"
    },
    {
     "data": {
      "text/plain": [
       "(array([3., 5., 4., ..., 4., 0., 0.]),\n",
       " array([-1000.              ,\n",
       "         -368.42105263157896,\n",
       "          263.1578947368421 , ...,\n",
       "         9736.842105263158  ,\n",
       "        10368.421052631578  ,\n",
       "        11000.              ]),\n",
       " <BarContainer object of 19 artists>)"
      ]
     },
     "execution_count": 56,
     "metadata": {},
     "output_type": "execute_result"
    },
    {
     "data": {
      "image/png": "[encoded data removed]",
      "text/plain": [
       "<Figure size 432x288 with 1 Axes>"
      ]
     },
     "metadata": {
      "needs_background": "light"
     },
     "output_type": "display_data"
    },
    {
     "name": "stdout",
     "output_type": "stream",
     "text": [
      "----------------------------------group val:1-------------------------------\n"
     ]
    },
    {
     "data": {
      "text/plain": [
       "(array([22., 34., 16., ..., 27.,  5.,\n",
       "         0.]),\n",
       " array([-1000.              ,\n",
       "         -368.42105263157896,\n",
       "          263.1578947368421 , ...,\n",
       "         9736.842105263158  ,\n",
       "        10368.421052631578  ,\n",
       "        11000.              ]),\n",
       " <BarContainer object of 19 artists>)"
      ]
     },
     "execution_count": 56,
     "metadata": {},
     "output_type": "execute_result"
    },
    {
     "data": {
      "image/png": "[encoded data removed]",
      "text/plain": [
       "<Figure size 432x288 with 1 Axes>"
      ]
     },
     "metadata": {
      "needs_background": "light"
     },
     "output_type": "display_data"
    },
    {
     "data": {
      "text/plain": [
       "(array([3., 4., 5., ..., 4., 3., 0.]),\n",
       " array([-1000.              ,\n",
       "         -368.42105263157896,\n",
       "          263.1578947368421 , ...,\n",
       "         9736.842105263158  ,\n",
       "        10368.421052631578  ,\n",
       "        11000.              ]),\n",
       " <BarContainer object of 19 artists>)"
      ]
     },
     "execution_count": 56,
     "metadata": {},
     "output_type": "execute_result"
    },
    {
     "data": {
      "image/png": "[encoded data removed]",
      "text/plain": [
       "<Figure size 432x288 with 1 Axes>"
      ]
     },
     "metadata": {
      "needs_background": "light"
     },
     "output_type": "display_data"
    },
    {
     "name": "stdout",
     "output_type": "stream",
     "text": [
      "----------------------------------group val:2-------------------------------\n"
     ]
    },
    {
     "data": {
      "text/plain": [
       "(array([24., 20., 19., ..., 20., 10.,\n",
       "         0.]),\n",
       " array([-1000.              ,\n",
       "         -368.42105263157896,\n",
       "          263.1578947368421 , ...,\n",
       "         9736.842105263158  ,\n",
       "        10368.421052631578  ,\n",
       "        11000.              ]),\n",
       " <BarContainer object of 19 artists>)"
      ]
     },
     "execution_count": 56,
     "metadata": {},
     "output_type": "execute_result"
    },
    {
     "data": {
      "image/png": "[encoded data removed]",
      "text/plain": [
       "<Figure size 432x288 with 1 Axes>"
      ]
     },
     "metadata": {
      "needs_background": "light"
     },
     "output_type": "display_data"
    },
    {
     "data": {
      "text/plain": [
       "(array([2., 6., 4., ..., 2., 0., 0.]),\n",
       " array([-1000.              ,\n",
       "         -368.42105263157896,\n",
       "          263.1578947368421 , ...,\n",
       "         9736.842105263158  ,\n",
       "        10368.421052631578  ,\n",
       "        11000.              ]),\n",
       " <BarContainer object of 19 artists>)"
      ]
     },
     "execution_count": 56,
     "metadata": {},
     "output_type": "execute_result"
    },
    {
     "data": {
      "image/png": "[encoded data removed]",
      "text/plain": [
       "<Figure size 432x288 with 1 Axes>"
      ]
     },
     "metadata": {
      "needs_background": "light"
     },
     "output_type": "display_data"
    },
    {
     "name": "stdout",
     "output_type": "stream",
     "text": [
      "----------------------------------group val:3-------------------------------\n"
     ]
    },
    {
     "data": {
      "text/plain": [
       "(array([16., 16., 23., ..., 29.,  9.,\n",
       "         0.]),\n",
       " array([-1000.              ,\n",
       "         -368.42105263157896,\n",
       "          263.1578947368421 , ...,\n",
       "         9736.842105263158  ,\n",
       "        10368.421052631578  ,\n",
       "        11000.              ]),\n",
       " <BarContainer object of 19 artists>)"
      ]
     },
     "execution_count": 56,
     "metadata": {},
     "output_type": "execute_result"
    },
    {
     "data": {
      "image/png": "[encoded data removed]",
      "text/plain": [
       "<Figure size 432x288 with 1 Axes>"
      ]
     },
     "metadata": {
      "needs_background": "light"
     },
     "output_type": "display_data"
    },
    {
     "data": {
      "text/plain": [
       "(array([3., 4., 3., ..., 3., 2., 0.]),\n",
       " array([-1000.              ,\n",
       "         -368.42105263157896,\n",
       "          263.1578947368421 , ...,\n",
       "         9736.842105263158  ,\n",
       "        10368.421052631578  ,\n",
       "        11000.              ]),\n",
       " <BarContainer object of 19 artists>)"
      ]
     },
     "execution_count": 56,
     "metadata": {},
     "output_type": "execute_result"
    },
    {
     "data": {
      "image/png": "[encoded data removed]",
      "text/plain": [
       "<Figure size 432x288 with 1 Axes>"
      ]
     },
     "metadata": {
      "needs_background": "light"
     },
     "output_type": "display_data"
    },
    {
     "name": "stdout",
     "output_type": "stream",
     "text": [
      "----------------------------------group val:4-------------------------------\n"
     ]
    },
    {
     "data": {
      "text/plain": [
       "(array([20., 18., 40., ..., 22., 10.,\n",
       "         0.]),\n",
       " array([-1000.              ,\n",
       "         -368.42105263157896,\n",
       "          263.1578947368421 , ...,\n",
       "         9736.842105263158  ,\n",
       "        10368.421052631578  ,\n",
       "        11000.              ]),\n",
       " <BarContainer object of 19 artists>)"
      ]
     },
     "execution_count": 56,
     "metadata": {},
     "output_type": "execute_result"
    },
    {
     "data": {
      "image/png": "[encoded data removed]",
      "text/plain": [
       "<Figure size 432x288 with 1 Axes>"
      ]
     },
     "metadata": {
      "needs_background": "light"
     },
     "output_type": "display_data"
    },
    {
     "data": {
      "text/plain": [
       "(array([3., 1., 4., ..., 3., 1., 0.]),\n",
       " array([-1000.              ,\n",
       "         -368.42105263157896,\n",
       "          263.1578947368421 , ...,\n",
       "         9736.842105263158  ,\n",
       "        10368.421052631578  ,\n",
       "        11000.              ]),\n",
       " <BarContainer object of 19 artists>)"
      ]
     },
     "execution_count": 56,
     "metadata": {},
     "output_type": "execute_result"
    },
    {
     "data": {
      "image/png": "[encoded data removed]",
      "text/plain": [
       "<Figure size 432x288 with 1 Axes>"
      ]
     },
     "metadata": {
      "needs_background": "light"
     },
     "output_type": "display_data"
    },
    {
     "name": "stdout",
     "output_type": "stream",
     "text": [
      "----------------------------------group val:5-------------------------------\n"
     ]
    },
    {
     "data": {
      "text/plain": [
       "(array([24., 19., 14., ..., 25., 10.,\n",
       "         0.]),\n",
       " array([-1000.              ,\n",
       "         -368.42105263157896,\n",
       "          263.1578947368421 , ...,\n",
       "         9736.842105263158  ,\n",
       "        10368.421052631578  ,\n",
       "        11000.              ]),\n",
       " <BarContainer object of 19 artists>)"
      ]
     },
     "execution_count": 56,
     "metadata": {},
     "output_type": "execute_result"
    },
    {
     "data": {
      "image/png": "[encoded data removed]",
      "text/plain": [
       "<Figure size 432x288 with 1 Axes>"
      ]
     },
     "metadata": {
      "needs_background": "light"
     },
     "output_type": "display_data"
    },
    {
     "data": {
      "text/plain": [
       "(array([6., 4., 3., ..., 1., 1., 0.]),\n",
       " array([-1000.              ,\n",
       "         -368.42105263157896,\n",
       "          263.1578947368421 , ...,\n",
       "         9736.842105263158  ,\n",
       "        10368.421052631578  ,\n",
       "        11000.              ]),\n",
       " <BarContainer object of 19 artists>)"
      ]
     },
     "execution_count": 56,
     "metadata": {},
     "output_type": "execute_result"
    },
    {
     "data": {
      "image/png": "[encoded data removed]",
      "text/plain": [
       "<Figure size 432x288 with 1 Axes>"
      ]
     },
     "metadata": {
      "needs_background": "light"
     },
     "output_type": "display_data"
    },
    {
     "name": "stdout",
     "output_type": "stream",
     "text": [
      "----------------------------------group val:6-------------------------------\n"
     ]
    },
    {
     "data": {
      "text/plain": [
       "(array([20., 22., 28., ..., 22., 11.,\n",
       "         0.]),\n",
       " array([-1000.              ,\n",
       "         -368.42105263157896,\n",
       "          263.1578947368421 , ...,\n",
       "         9736.842105263158  ,\n",
       "        10368.421052631578  ,\n",
       "        11000.              ]),\n",
       " <BarContainer object of 19 artists>)"
      ]
     },
     "execution_count": 56,
     "metadata": {},
     "output_type": "execute_result"
    },
    {
     "data": {
      "image/png": "[encoded data removed]",
      "text/plain": [
       "<Figure size 432x288 with 1 Axes>"
      ]
     },
     "metadata": {
      "needs_background": "light"
     },
     "output_type": "display_data"
    },
    {
     "data": {
      "text/plain": [
       "(array([2., 7., 5., ..., 3., 1., 0.]),\n",
       " array([-1000.              ,\n",
       "         -368.42105263157896,\n",
       "          263.1578947368421 , ...,\n",
       "         9736.842105263158  ,\n",
       "        10368.421052631578  ,\n",
       "        11000.              ]),\n",
       " <BarContainer object of 19 artists>)"
      ]
     },
     "execution_count": 56,
     "metadata": {},
     "output_type": "execute_result"
    },
    {
     "data": {
      "image/png": "[encoded data removed]",
      "text/plain": [
       "<Figure size 432x288 with 1 Axes>"
      ]
     },
     "metadata": {
      "needs_background": "light"
     },
     "output_type": "display_data"
    },
    {
     "name": "stdout",
     "output_type": "stream",
     "text": [
      "----------------------------------group val:7-------------------------------\n"
     ]
    },
    {
     "data": {
      "text/plain": [
       "(array([30., 25., 24., ..., 16., 11.,\n",
       "         0.]),\n",
       " array([-1000.              ,\n",
       "         -368.42105263157896,\n",
       "          263.1578947368421 , ...,\n",
       "         9736.842105263158  ,\n",
       "        10368.421052631578  ,\n",
       "        11000.              ]),\n",
       " <BarContainer object of 19 artists>)"
      ]
     },
     "execution_count": 56,
     "metadata": {},
     "output_type": "execute_result"
    },
    {
     "data": {
      "image/png": "[encoded data removed]",
      "text/plain": [
       "<Figure size 432x288 with 1 Axes>"
      ]
     },
     "metadata": {
      "needs_background": "light"
     },
     "output_type": "display_data"
    },
    {
     "data": {
      "text/plain": [
       "(array([2., 6., 2., ..., 4., 2., 0.]),\n",
       " array([-1000.              ,\n",
       "         -368.42105263157896,\n",
       "          263.1578947368421 , ...,\n",
       "         9736.842105263158  ,\n",
       "        10368.421052631578  ,\n",
       "        11000.              ]),\n",
       " <BarContainer object of 19 artists>)"
      ]
     },
     "execution_count": 56,
     "metadata": {},
     "output_type": "execute_result"
    },
    {
     "data": {
      "image/png": "[encoded data removed]",
      "text/plain": [
       "<Figure size 432x288 with 1 Axes>"
      ]
     },
     "metadata": {
      "needs_background": "light"
     },
     "output_type": "display_data"
    },
    {
     "name": "stdout",
     "output_type": "stream",
     "text": [
      "----------------------------------group val:8-------------------------------\n"
     ]
    },
    {
     "data": {
      "text/plain": [
       "(array([26., 23., 25., ..., 31., 10.,\n",
       "         0.]),\n",
       " array([-1000.              ,\n",
       "         -368.42105263157896,\n",
       "          263.1578947368421 , ...,\n",
       "         9736.842105263158  ,\n",
       "        10368.421052631578  ,\n",
       "        11000.              ]),\n",
       " <BarContainer object of 19 artists>)"
      ]
     },
     "execution_count": 56,
     "metadata": {},
     "output_type": "execute_result"
    },
    {
     "data": {
      "image/png": "[encoded data removed]",
      "text/plain": [
       "<Figure size 432x288 with 1 Axes>"
      ]
     },
     "metadata": {
      "needs_background": "light"
     },
     "output_type": "display_data"
    },
    {
     "data": {
      "text/plain": [
       "(array([2., 2., 5., ..., 3., 1., 0.]),\n",
       " array([-1000.              ,\n",
       "         -368.42105263157896,\n",
       "          263.1578947368421 , ...,\n",
       "         9736.842105263158  ,\n",
       "        10368.421052631578  ,\n",
       "        11000.              ]),\n",
       " <BarContainer object of 19 artists>)"
      ]
     },
     "execution_count": 56,
     "metadata": {},
     "output_type": "execute_result"
    },
    {
     "data": {
      "image/png": "[encoded data removed]",
      "text/plain": [
       "<Figure size 432x288 with 1 Axes>"
      ]
     },
     "metadata": {
      "needs_background": "light"
     },
     "output_type": "display_data"
    },
    {
     "name": "stdout",
     "output_type": "stream",
     "text": [
      "----------------------------------group val:9-------------------------------\n"
     ]
    },
    {
     "data": {
      "text/plain": [
       "(array([20., 21., 21., ..., 23., 10.,\n",
       "         0.]),\n",
       " array([-1000.              ,\n",
       "         -368.42105263157896,\n",
       "          263.1578947368421 , ...,\n",
       "         9736.842105263158  ,\n",
       "        10368.421052631578  ,\n",
       "        11000.              ]),\n",
       " <BarContainer object of 19 artists>)"
      ]
     },
     "execution_count": 56,
     "metadata": {},
     "output_type": "execute_result"
    },
    {
     "data": {
      "image/png": "[encoded data removed]",
      "text/plain": [
       "<Figure size 432x288 with 1 Axes>"
      ]
     },
     "metadata": {
      "needs_background": "light"
     },
     "output_type": "display_data"
    },
    {
     "data": {
      "text/plain": [
       "(array([3., 4., 5., ..., 8., 0., 0.]),\n",
       " array([-1000.              ,\n",
       "         -368.42105263157896,\n",
       "          263.1578947368421 , ...,\n",
       "         9736.842105263158  ,\n",
       "        10368.421052631578  ,\n",
       "        11000.              ]),\n",
       " <BarContainer object of 19 artists>)"
      ]
     },
     "execution_count": 56,
     "metadata": {},
     "output_type": "execute_result"
    },
    {
     "data": {
      "image/png": "[encoded data removed]",
      "text/plain": [
       "<Figure size 432x288 with 1 Axes>"
      ]
     },
     "metadata": {
      "needs_background": "light"
     },
     "output_type": "display_data"
    },
    {
     "name": "stdout",
     "output_type": "stream",
     "text": [
      "----------------------------------group val:10-------------------------------\n"
     ]
    },
    {
     "data": {
      "text/plain": [
       "(array([22., 28., 21., ..., 13., 12.,\n",
       "         0.]),\n",
       " array([-1000.              ,\n",
       "         -368.42105263157896,\n",
       "          263.1578947368421 , ...,\n",
       "         9736.842105263158  ,\n",
       "        10368.421052631578  ,\n",
       "        11000.              ]),\n",
       " <BarContainer object of 19 artists>)"
      ]
     },
     "execution_count": 56,
     "metadata": {},
     "output_type": "execute_result"
    },
    {
     "data": {
      "image/png": "[encoded data removed]",
      "text/plain": [
       "<Figure size 432x288 with 1 Axes>"
      ]
     },
     "metadata": {
      "needs_background": "light"
     },
     "output_type": "display_data"
    },
    {
     "data": {
      "text/plain": [
       "(array([1., 6., 3., ..., 7., 2., 0.]),\n",
       " array([-1000.              ,\n",
       "         -368.42105263157896,\n",
       "          263.1578947368421 , ...,\n",
       "         9736.842105263158  ,\n",
       "        10368.421052631578  ,\n",
       "        11000.              ]),\n",
       " <BarContainer object of 19 artists>)"
      ]
     },
     "execution_count": 56,
     "metadata": {},
     "output_type": "execute_result"
    },
    {
     "data": {
      "image/png": "[encoded data removed]",
      "text/plain": [
       "<Figure size 432x288 with 1 Axes>"
      ]
     },
     "metadata": {
      "needs_background": "light"
     },
     "output_type": "display_data"
    },
    {
     "name": "stdout",
     "output_type": "stream",
     "text": [
      "----------------------------------group val:11-------------------------------\n"
     ]
    },
    {
     "data": {
      "text/plain": [
       "(array([16., 24., 28., ..., 13.,  8.,\n",
       "         0.]),\n",
       " array([-1000.              ,\n",
       "         -368.42105263157896,\n",
       "          263.1578947368421 , ...,\n",
       "         9736.842105263158  ,\n",
       "        10368.421052631578  ,\n",
       "        11000.              ]),\n",
       " <BarContainer object of 19 artists>)"
      ]
     },
     "execution_count": 56,
     "metadata": {},
     "output_type": "execute_result"
    },
    {
     "data": {
      "image/png": "[encoded data removed]",
      "text/plain": [
       "<Figure size 432x288 with 1 Axes>"
      ]
     },
     "metadata": {
      "needs_background": "light"
     },
     "output_type": "display_data"
    },
    {
     "data": {
      "text/plain": [
       "(array([2., 4., 5., ..., 9., 1., 0.]),\n",
       " array([-1000.              ,\n",
       "         -368.42105263157896,\n",
       "          263.1578947368421 , ...,\n",
       "         9736.842105263158  ,\n",
       "        10368.421052631578  ,\n",
       "        11000.              ]),\n",
       " <BarContainer object of 19 artists>)"
      ]
     },
     "execution_count": 56,
     "metadata": {},
     "output_type": "execute_result"
    },
    {
     "data": {
      "image/png": "[encoded data removed]",
      "text/plain": [
       "<Figure size 432x288 with 1 Axes>"
      ]
     },
     "metadata": {
      "needs_background": "light"
     },
     "output_type": "display_data"
    },
    {
     "name": "stdout",
     "output_type": "stream",
     "text": [
      "----------------------------------group val:12-------------------------------\n"
     ]
    },
    {
     "data": {
      "text/plain": [
       "(array([24., 23., 18., ..., 33.,  5.,\n",
       "         0.]),\n",
       " array([-1000.              ,\n",
       "         -368.42105263157896,\n",
       "          263.1578947368421 , ...,\n",
       "         9736.842105263158  ,\n",
       "        10368.421052631578  ,\n",
       "        11000.              ]),\n",
       " <BarContainer object of 19 artists>)"
      ]
     },
     "execution_count": 56,
     "metadata": {},
     "output_type": "execute_result"
    },
    {
     "data": {
      "image/png": "[encoded data removed]",
      "text/plain": [
       "<Figure size 432x288 with 1 Axes>"
      ]
     },
     "metadata": {
      "needs_background": "light"
     },
     "output_type": "display_data"
    },
    {
     "data": {
      "text/plain": [
       "(array([0., 6., 1., ..., 5., 1., 0.]),\n",
       " array([-1000.              ,\n",
       "         -368.42105263157896,\n",
       "          263.1578947368421 , ...,\n",
       "         9736.842105263158  ,\n",
       "        10368.421052631578  ,\n",
       "        11000.              ]),\n",
       " <BarContainer object of 19 artists>)"
      ]
     },
     "execution_count": 56,
     "metadata": {},
     "output_type": "execute_result"
    },
    {
     "data": {
      "image/png": "[encoded data removed]",
      "text/plain": [
       "<Figure size 432x288 with 1 Axes>"
      ]
     },
     "metadata": {
      "needs_background": "light"
     },
     "output_type": "display_data"
    },
    {
     "name": "stdout",
     "output_type": "stream",
     "text": [
      "----------------------------------group val:13-------------------------------\n"
     ]
    },
    {
     "data": {
      "text/plain": [
       "(array([27., 19., 23., ..., 19.,  8.,\n",
       "         0.]),\n",
       " array([-1000.              ,\n",
       "         -368.42105263157896,\n",
       "          263.1578947368421 , ...,\n",
       "         9736.842105263158  ,\n",
       "        10368.421052631578  ,\n",
       "        11000.              ]),\n",
       " <BarContainer object of 19 artists>)"
      ]
     },
     "execution_count": 56,
     "metadata": {},
     "output_type": "execute_result"
    },
    {
     "data": {
      "image/png": "[encoded data removed]",
      "text/plain": [
       "<Figure size 432x288 with 1 Axes>"
      ]
     },
     "metadata": {
      "needs_background": "light"
     },
     "output_type": "display_data"
    },
    {
     "data": {
      "text/plain": [
       "(array([1., 8., 4., ..., 3., 1., 0.]),\n",
       " array([-1000.              ,\n",
       "         -368.42105263157896,\n",
       "          263.1578947368421 , ...,\n",
       "         9736.842105263158  ,\n",
       "        10368.421052631578  ,\n",
       "        11000.              ]),\n",
       " <BarContainer object of 19 artists>)"
      ]
     },
     "execution_count": 56,
     "metadata": {},
     "output_type": "execute_result"
    },
    {
     "data": {
      "image/png": "[encoded data removed]",
      "text/plain": [
       "<Figure size 432x288 with 1 Axes>"
      ]
     },
     "metadata": {
      "needs_background": "light"
     },
     "output_type": "display_data"
    },
    {
     "name": "stdout",
     "output_type": "stream",
     "text": [
      "----------------------------------group val:14-------------------------------\n"
     ]
    },
    {
     "data": {
      "text/plain": [
       "(array([18., 28., 15., ..., 22.,  8.,\n",
       "         0.]),\n",
       " array([-1000.              ,\n",
       "         -368.42105263157896,\n",
       "          263.1578947368421 , ...,\n",
       "         9736.842105263158  ,\n",
       "        10368.421052631578  ,\n",
       "        11000.              ]),\n",
       " <BarContainer object of 19 artists>)"
      ]
     },
     "execution_count": 56,
     "metadata": {},
     "output_type": "execute_result"
    },
    {
     "data": {
      "image/png": "[encoded data removed]",
      "text/plain": [
       "<Figure size 432x288 with 1 Axes>"
      ]
     },
     "metadata": {
      "needs_background": "light"
     },
     "output_type": "display_data"
    },
    {
     "data": {
      "text/plain": [
       "(array([2., 3., 3., ..., 4., 0., 0.]),\n",
       " array([-1000.              ,\n",
       "         -368.42105263157896,\n",
       "          263.1578947368421 , ...,\n",
       "         9736.842105263158  ,\n",
       "        10368.421052631578  ,\n",
       "        11000.              ]),\n",
       " <BarContainer object of 19 artists>)"
      ]
     },
     "execution_count": 56,
     "metadata": {},
     "output_type": "execute_result"
    },
    {
     "data": {
      "image/png": "[encoded data removed]",
      "text/plain": [
       "<Figure size 432x288 with 1 Axes>"
      ]
     },
     "metadata": {
      "needs_background": "light"
     },
     "output_type": "display_data"
    },
    {
     "name": "stdout",
     "output_type": "stream",
     "text": [
      "----------------------------------group val:15-------------------------------\n"
     ]
    },
    {
     "data": {
      "text/plain": [
       "(array([20., 23., 22., ..., 30., 10.,\n",
       "         0.]),\n",
       " array([-1000.              ,\n",
       "         -368.42105263157896,\n",
       "          263.1578947368421 , ...,\n",
       "         9736.842105263158  ,\n",
       "        10368.421052631578  ,\n",
       "        11000.              ]),\n",
       " <BarContainer object of 19 artists>)"
      ]
     },
     "execution_count": 56,
     "metadata": {},
     "output_type": "execute_result"
    },
    {
     "data": {
      "image/png": "[encoded data removed]",
      "text/plain": [
       "<Figure size 432x288 with 1 Axes>"
      ]
     },
     "metadata": {
      "needs_background": "light"
     },
     "output_type": "display_data"
    },
    {
     "data": {
      "text/plain": [
       "(array([2., 8., 2., ..., 5., 2., 0.]),\n",
       " array([-1000.              ,\n",
       "         -368.42105263157896,\n",
       "          263.1578947368421 , ...,\n",
       "         9736.842105263158  ,\n",
       "        10368.421052631578  ,\n",
       "        11000.              ]),\n",
       " <BarContainer object of 19 artists>)"
      ]
     },
     "execution_count": 56,
     "metadata": {},
     "output_type": "execute_result"
    },
    {
     "data": {
      "image/png": "[encoded data removed]",
      "text/plain": [
       "<Figure size 432x288 with 1 Axes>"
      ]
     },
     "metadata": {
      "needs_background": "light"
     },
     "output_type": "display_data"
    },
    {
     "name": "stdout",
     "output_type": "stream",
     "text": [
      "----------------------------------group val:16-------------------------------\n"
     ]
    },
    {
     "data": {
      "text/plain": [
       "(array([31., 28., 21., ..., 16.,  7.,\n",
       "         0.]),\n",
       " array([-1000.              ,\n",
       "         -368.42105263157896,\n",
       "          263.1578947368421 , ...,\n",
       "         9736.842105263158  ,\n",
       "        10368.421052631578  ,\n",
       "        11000.              ]),\n",
       " <BarContainer object of 19 artists>)"
      ]
     },
     "execution_count": 56,
     "metadata": {},
     "output_type": "execute_result"
    },
    {
     "data": {
      "image/png": "[encoded data removed]",
      "text/plain": [
       "<Figure size 432x288 with 1 Axes>"
      ]
     },
     "metadata": {
      "needs_background": "light"
     },
     "output_type": "display_data"
    },
    {
     "data": {
      "text/plain": [
       "(array([7., 2., 6., ..., 8., 1., 0.]),\n",
       " array([-1000.              ,\n",
       "         -368.42105263157896,\n",
       "          263.1578947368421 , ...,\n",
       "         9736.842105263158  ,\n",
       "        10368.421052631578  ,\n",
       "        11000.              ]),\n",
       " <BarContainer object of 19 artists>)"
      ]
     },
     "execution_count": 56,
     "metadata": {},
     "output_type": "execute_result"
    },
    {
     "data": {
      "image/png": "[encoded data removed]",
      "text/plain": [
       "<Figure size 432x288 with 1 Axes>"
      ]
     },
     "metadata": {
      "needs_background": "light"
     },
     "output_type": "display_data"
    },
    {
     "name": "stdout",
     "output_type": "stream",
     "text": [
      "----------------------------------group val:17-------------------------------\n"
     ]
    },
    {
     "data": {
      "text/plain": [
       "(array([25., 24., 28., ..., 33.,  7.,\n",
       "         0.]),\n",
       " array([-1000.              ,\n",
       "         -368.42105263157896,\n",
       "          263.1578947368421 , ...,\n",
       "         9736.842105263158  ,\n",
       "        10368.421052631578  ,\n",
       "        11000.              ]),\n",
       " <BarContainer object of 19 artists>)"
      ]
     },
     "execution_count": 56,
     "metadata": {},
     "output_type": "execute_result"
    },
    {
     "data": {
      "image/png": "[encoded data removed]",
      "text/plain": [
       "<Figure size 432x288 with 1 Axes>"
      ]
     },
     "metadata": {
      "needs_background": "light"
     },
     "output_type": "display_data"
    },
    {
     "data": {
      "text/plain": [
       "(array([5., 5., 7., ..., 7., 2., 0.]),\n",
       " array([-1000.              ,\n",
       "         -368.42105263157896,\n",
       "          263.1578947368421 , ...,\n",
       "         9736.842105263158  ,\n",
       "        10368.421052631578  ,\n",
       "        11000.              ]),\n",
       " <BarContainer object of 19 artists>)"
      ]
     },
     "execution_count": 56,
     "metadata": {},
     "output_type": "execute_result"
    },
    {
     "data": {
      "image/png": "[encoded data removed]",
      "text/plain": [
       "<Figure size 432x288 with 1 Axes>"
      ]
     },
     "metadata": {
      "needs_background": "light"
     },
     "output_type": "display_data"
    },
    {
     "name": "stdout",
     "output_type": "stream",
     "text": [
      "----------------------------------group val:18-------------------------------\n"
     ]
    },
    {
     "data": {
      "text/plain": [
       "(array([28., 30., 25., ..., 22.,  7.,\n",
       "         0.]),\n",
       " array([-1000.              ,\n",
       "         -368.42105263157896,\n",
       "          263.1578947368421 , ...,\n",
       "         9736.842105263158  ,\n",
       "        10368.421052631578  ,\n",
       "        11000.              ]),\n",
       " <BarContainer object of 19 artists>)"
      ]
     },
     "execution_count": 56,
     "metadata": {},
     "output_type": "execute_result"
    },
    {
     "data": {
      "image/png": "[encoded data removed]",
      "text/plain": [
       "<Figure size 432x288 with 1 Axes>"
      ]
     },
     "metadata": {
      "needs_background": "light"
     },
     "output_type": "display_data"
    },
    {
     "data": {
      "text/plain": [
       "(array([2., 8., 6., ..., 3., 1., 0.]),\n",
       " array([-1000.              ,\n",
       "         -368.42105263157896,\n",
       "          263.1578947368421 , ...,\n",
       "         9736.842105263158  ,\n",
       "        10368.421052631578  ,\n",
       "        11000.              ]),\n",
       " <BarContainer object of 19 artists>)"
      ]
     },
     "execution_count": 56,
     "metadata": {},
     "output_type": "execute_result"
    },
    {
     "data": {
      "image/png": "[encoded data removed]",
      "text/plain": [
       "<Figure size 432x288 with 1 Axes>"
      ]
     },
     "metadata": {
      "needs_background": "light"
     },
     "output_type": "display_data"
    },
    {
     "name": "stdout",
     "output_type": "stream",
     "text": [
      "----------------------------------group val:19-------------------------------\n"
     ]
    },
    {
     "data": {
      "text/plain": [
       "(array([17., 23., 28., ..., 23., 10.,\n",
       "         0.]),\n",
       " array([-1000.              ,\n",
       "         -368.42105263157896,\n",
       "          263.1578947368421 , ...,\n",
       "         9736.842105263158  ,\n",
       "        10368.421052631578  ,\n",
       "        11000.              ]),\n",
       " <BarContainer object of 19 artists>)"
      ]
     },
     "execution_count": 56,
     "metadata": {},
     "output_type": "execute_result"
    },
    {
     "data": {
      "image/png": "[encoded data removed]",
      "text/plain": [
       "<Figure size 432x288 with 1 Axes>"
      ]
     },
     "metadata": {
      "needs_background": "light"
     },
     "output_type": "display_data"
    },
    {
     "data": {
      "text/plain": [
       "(array([ 4.,  3., 10., ...,  7.,  0.,\n",
       "         0.]),\n",
       " array([-1000.              ,\n",
       "         -368.42105263157896,\n",
       "          263.1578947368421 , ...,\n",
       "         9736.842105263158  ,\n",
       "        10368.421052631578  ,\n",
       "        11000.              ]),\n",
       " <BarContainer object of 19 artists>)"
      ]
     },
     "execution_count": 56,
     "metadata": {},
     "output_type": "execute_result"
    },
    {
     "data": {
      "image/png": "[encoded data removed]",
      "text/plain": [
       "<Figure size 432x288 with 1 Axes>"
      ]
     },
     "metadata": {
      "needs_background": "light"
     },
     "output_type": "display_data"
    },
    {
     "name": "stdout",
     "output_type": "stream",
     "text": [
      "----------------------------------group val:20-------------------------------\n"
     ]
    },
    {
     "data": {
      "text/plain": [
       "(array([19., 24., 35., ..., 16.,  7.,\n",
       "         0.]),\n",
       " array([-1000.              ,\n",
       "         -368.42105263157896,\n",
       "          263.1578947368421 , ...,\n",
       "         9736.842105263158  ,\n",
       "        10368.421052631578  ,\n",
       "        11000.              ]),\n",
       " <BarContainer object of 19 artists>)"
      ]
     },
     "execution_count": 56,
     "metadata": {},
     "output_type": "execute_result"
    },
    {
     "data": {
      "image/png": "[encoded data removed]",
      "text/plain": [
       "<Figure size 432x288 with 1 Axes>"
      ]
     },
     "metadata": {
      "needs_background": "light"
     },
     "output_type": "display_data"
    },
    {
     "data": {
      "text/plain": [
       "(array([3., 3., 3., ..., 5., 3., 0.]),\n",
       " array([-1000.              ,\n",
       "         -368.42105263157896,\n",
       "          263.1578947368421 , ...,\n",
       "         9736.842105263158  ,\n",
       "        10368.421052631578  ,\n",
       "        11000.              ]),\n",
       " <BarContainer object of 19 artists>)"
      ]
     },
     "execution_count": 56,
     "metadata": {},
     "output_type": "execute_result"
    },
    {
     "data": {
      "image/png": "[encoded data removed]",
      "text/plain": [
       "<Figure size 432x288 with 1 Axes>"
      ]
     },
     "metadata": {
      "needs_background": "light"
     },
     "output_type": "display_data"
    },
    {
     "name": "stdout",
     "output_type": "stream",
     "text": [
      "----------------------------------group val:21-------------------------------\n"
     ]
    },
    {
     "data": {
      "text/plain": [
       "(array([25., 25., 22., ..., 25.,  6.,\n",
       "         0.]),\n",
       " array([-1000.              ,\n",
       "         -368.42105263157896,\n",
       "          263.1578947368421 , ...,\n",
       "         9736.842105263158  ,\n",
       "        10368.421052631578  ,\n",
       "        11000.              ]),\n",
       " <BarContainer object of 19 artists>)"
      ]
     },
     "execution_count": 56,
     "metadata": {},
     "output_type": "execute_result"
    },
    {
     "data": {
      "image/png": "[encoded data removed]",
      "text/plain": [
       "<Figure size 432x288 with 1 Axes>"
      ]
     },
     "metadata": {
      "needs_background": "light"
     },
     "output_type": "display_data"
    },
    {
     "data": {
      "text/plain": [
       "(array([2., 4., 5., ..., 2., 1., 0.]),\n",
       " array([-1000.              ,\n",
       "         -368.42105263157896,\n",
       "          263.1578947368421 , ...,\n",
       "         9736.842105263158  ,\n",
       "        10368.421052631578  ,\n",
       "        11000.              ]),\n",
       " <BarContainer object of 19 artists>)"
      ]
     },
     "execution_count": 56,
     "metadata": {},
     "output_type": "execute_result"
    },
    {
     "data": {
      "image/png": "[encoded data removed]",
      "text/plain": [
       "<Figure size 432x288 with 1 Axes>"
      ]
     },
     "metadata": {
      "needs_background": "light"
     },
     "output_type": "display_data"
    },
    {
     "name": "stdout",
     "output_type": "stream",
     "text": [
      "----------------------------------group val:22-------------------------------\n"
     ]
    },
    {
     "data": {
      "text/plain": [
       "(array([19., 15., 19., ..., 20.,  7.,\n",
       "         0.]),\n",
       " array([-1000.              ,\n",
       "         -368.42105263157896,\n",
       "          263.1578947368421 , ...,\n",
       "         9736.842105263158  ,\n",
       "        10368.421052631578  ,\n",
       "        11000.              ]),\n",
       " <BarContainer object of 19 artists>)"
      ]
     },
     "execution_count": 56,
     "metadata": {},
     "output_type": "execute_result"
    },
    {
     "data": {
      "image/png": "[encoded data removed]",
      "text/plain": [
       "<Figure size 432x288 with 1 Axes>"
      ]
     },
     "metadata": {
      "needs_background": "light"
     },
     "output_type": "display_data"
    },
    {
     "data": {
      "text/plain": [
       "(array([3., 7., 2., ..., 4., 0., 0.]),\n",
       " array([-1000.              ,\n",
       "         -368.42105263157896,\n",
       "          263.1578947368421 , ...,\n",
       "         9736.842105263158  ,\n",
       "        10368.421052631578  ,\n",
       "        11000.              ]),\n",
       " <BarContainer object of 19 artists>)"
      ]
     },
     "execution_count": 56,
     "metadata": {},
     "output_type": "execute_result"
    },
    {
     "data": {
      "image/png": "[encoded data removed]",
      "text/plain": [
       "<Figure size 432x288 with 1 Axes>"
      ]
     },
     "metadata": {
      "needs_background": "light"
     },
     "output_type": "display_data"
    },
    {
     "name": "stdout",
     "output_type": "stream",
     "text": [
      "----------------------------------group val:23-------------------------------\n"
     ]
    },
    {
     "data": {
      "text/plain": [
       "(array([29., 18., 18., ..., 20., 13.,\n",
       "         0.]),\n",
       " array([-1000.              ,\n",
       "         -368.42105263157896,\n",
       "          263.1578947368421 , ...,\n",
       "         9736.842105263158  ,\n",
       "        10368.421052631578  ,\n",
       "        11000.              ]),\n",
       " <BarContainer object of 19 artists>)"
      ]
     },
     "execution_count": 56,
     "metadata": {},
     "output_type": "execute_result"
    },
    {
     "data": {
      "image/png": "[encoded data removed]",
      "text/plain": [
       "<Figure size 432x288 with 1 Axes>"
      ]
     },
     "metadata": {
      "needs_background": "light"
     },
     "output_type": "display_data"
    },
    {
     "data": {
      "text/plain": [
       "(array([1., 3., 7., ..., 7., 3., 0.]),\n",
       " array([-1000.              ,\n",
       "         -368.42105263157896,\n",
       "          263.1578947368421 , ...,\n",
       "         9736.842105263158  ,\n",
       "        10368.421052631578  ,\n",
       "        11000.              ]),\n",
       " <BarContainer object of 19 artists>)"
      ]
     },
     "execution_count": 56,
     "metadata": {},
     "output_type": "execute_result"
    },
    {
     "data": {
      "image/png": "[encoded data removed]",
      "text/plain": [
       "<Figure size 432x288 with 1 Axes>"
      ]
     },
     "metadata": {
      "needs_background": "light"
     },
     "output_type": "display_data"
    },
    {
     "name": "stdout",
     "output_type": "stream",
     "text": [
      "----------------------------------group val:24-------------------------------\n"
     ]
    },
    {
     "data": {
      "text/plain": [
       "(array([21., 22., 15., ..., 30., 10.,\n",
       "         0.]),\n",
       " array([-1000.              ,\n",
       "         -368.42105263157896,\n",
       "          263.1578947368421 , ...,\n",
       "         9736.842105263158  ,\n",
       "        10368.421052631578  ,\n",
       "        11000.              ]),\n",
       " <BarContainer object of 19 artists>)"
      ]
     },
     "execution_count": 56,
     "metadata": {},
     "output_type": "execute_result"
    },
    {
     "data": {
      "image/png": "[encoded data removed]",
      "text/plain": [
       "<Figure size 432x288 with 1 Axes>"
      ]
     },
     "metadata": {
      "needs_background": "light"
     },
     "output_type": "display_data"
    },
    {
     "data": {
      "text/plain": [
       "(array([3., 4., 2., ..., 4., 1., 0.]),\n",
       " array([-1000.              ,\n",
       "         -368.42105263157896,\n",
       "          263.1578947368421 , ...,\n",
       "         9736.842105263158  ,\n",
       "        10368.421052631578  ,\n",
       "        11000.              ]),\n",
       " <BarContainer object of 19 artists>)"
      ]
     },
     "execution_count": 56,
     "metadata": {},
     "output_type": "execute_result"
    },
    {
     "data": {
      "image/png": "[encoded data removed]",
      "text/plain": [
       "<Figure size 432x288 with 1 Axes>"
      ]
     },
     "metadata": {
      "needs_background": "light"
     },
     "output_type": "display_data"
    }
   ],
   "source": [
    "group_vals=origin[group_col].drop_duplicates(keep='first').sort_values()\n",
    "agg_range=(-1000,11000,24)\n",
    "bin_num=20\n",
    "plt.hist(origin[agg_col].values.tolist(),bins)\n",
    "plt.show()\n",
    "plt.hist(samples[agg_col].values.tolist(),bins)\n",
    "plt.show()\n",
    "for val in group_vals: \n",
    "    print('----------------------------------group val:{}-------------------------------'.format(val))\n",
    "    o_col=origin[origin[group_col]==val][agg_col]\n",
    "    s_col=samples[samples[group_col]==val][agg_col]\n",
    "    bins = np.linspace(agg_range[0], agg_range[1], bin_num)\n",
    "    plt.hist(o_col.values.tolist(),bins)\n",
    "    plt.show()\n",
    "    plt.hist(s_col.values.tolist(),bins)\n",
    "    plt.show()"
   ]
  },
  {
   "cell_type": "code",
   "execution_count": null,
   "metadata": {},
   "outputs": [],
   "source": [
    "group_col=\"l_returnflag\"\n",
    "agg_col=\"l4_ul_throughput\"\n",
    "start=time.clock()\n",
    "origin=pd.read_csv(\"../datasets/tpch-1/lineitem.csv\")\n",
    "origin_res=origin.groupby(by=group_col).agg({\"l_quantity\":['sum','mean'],\"l_extendedprice\":['sum','mean']})\n",
    "origin_res\n",
    "end=time.clock()\n",
    "print('query time:{}'.format(end - start))"
   ]
  },
  {
   "cell_type": "code",
   "execution_count": 72,
   "metadata": {
    "scrolled": false
   },
   "outputs": [
    {
     "data": {
      "text/plain": [
       "0     5925\n",
       "1     5975\n",
       "2     5999\n",
       "3     6020\n",
       "4     5995\n",
       "5     5952\n",
       "6     6100\n",
       "7     5908\n",
       "8     6042\n",
       "9     6161\n",
       "10    6009\n",
       "11    5963\n",
       "12    5948\n",
       "13    6033\n",
       "14    5992\n",
       "15    5921\n",
       "16    5974\n",
       "17    5975\n",
       "18    6024\n",
       "19    6100\n",
       "20    5904\n",
       "21    6008\n",
       "22    6078\n",
       "23    6011\n",
       "24    5983\n",
       "Name: c_nationkey, dtype: int64"
      ]
     },
     "execution_count": 72,
     "metadata": {},
     "output_type": "execute_result"
    },
    {
     "data": {
      "text/plain": [
       "0     294\n",
       "1     320\n",
       "2     284\n",
       "3     308\n",
       "4     326\n",
       "5     317\n",
       "6     298\n",
       "7     282\n",
       "8     319\n",
       "9     302\n",
       "10    240\n",
       "11    301\n",
       "12    317\n",
       "13    305\n",
       "14    317\n",
       "15    301\n",
       "16    313\n",
       "17    312\n",
       "18    284\n",
       "19    287\n",
       "20    311\n",
       "21    285\n",
       "22    265\n",
       "23    324\n",
       "24    288\n",
       "Name: c_nationkey, dtype: int64"
      ]
     },
     "execution_count": 72,
     "metadata": {},
     "output_type": "execute_result"
    },
    {
     "data": {
      "text/html": [
       "<div>\n",
       "<style scoped>\n",
       "    .dataframe tbody tr th:only-of-type {\n",
       "        vertical-align: middle;\n",
       "    }\n",
       "\n",
       "    .dataframe tbody tr th {\n",
       "        vertical-align: top;\n",
       "    }\n",
       "\n",
       "    .dataframe thead th {\n",
       "        text-align: right;\n",
       "    }\n",
       "</style>\n",
       "<table border=\"1\" class=\"dataframe\">\n",
       "  <thead>\n",
       "    <tr style=\"text-align: right;\">\n",
       "      <th></th>\n",
       "      <th>agg_sum</th>\n",
       "      <th>age_mean</th>\n",
       "      <th>rate</th>\n",
       "    </tr>\n",
       "    <tr>\n",
       "      <th>c_nationkey</th>\n",
       "      <th></th>\n",
       "      <th></th>\n",
       "      <th></th>\n",
       "    </tr>\n",
       "  </thead>\n",
       "  <tbody>\n",
       "    <tr>\n",
       "      <th>0</th>\n",
       "      <td>1401858.470</td>\n",
       "      <td>4768.226</td>\n",
       "      <td>0.050</td>\n",
       "    </tr>\n",
       "    <tr>\n",
       "      <th>1</th>\n",
       "      <td>1423189.520</td>\n",
       "      <td>4447.467</td>\n",
       "      <td>0.050</td>\n",
       "    </tr>\n",
       "    <tr>\n",
       "      <th>2</th>\n",
       "      <td>1337455.750</td>\n",
       "      <td>4709.351</td>\n",
       "      <td>0.050</td>\n",
       "    </tr>\n",
       "    <tr>\n",
       "      <th>3</th>\n",
       "      <td>1361933.420</td>\n",
       "      <td>4421.862</td>\n",
       "      <td>0.050</td>\n",
       "    </tr>\n",
       "    <tr>\n",
       "      <th>4</th>\n",
       "      <td>1462666.060</td>\n",
       "      <td>4486.706</td>\n",
       "      <td>0.050</td>\n",
       "    </tr>\n",
       "    <tr>\n",
       "      <th>5</th>\n",
       "      <td>1372668.790</td>\n",
       "      <td>4330.185</td>\n",
       "      <td>0.050</td>\n",
       "    </tr>\n",
       "    <tr>\n",
       "      <th>6</th>\n",
       "      <td>1273299.170</td>\n",
       "      <td>4272.816</td>\n",
       "      <td>0.050</td>\n",
       "    </tr>\n",
       "    <tr>\n",
       "      <th>7</th>\n",
       "      <td>1262644.840</td>\n",
       "      <td>4477.464</td>\n",
       "      <td>0.050</td>\n",
       "    </tr>\n",
       "    <tr>\n",
       "      <th>8</th>\n",
       "      <td>1351302.640</td>\n",
       "      <td>4236.058</td>\n",
       "      <td>0.050</td>\n",
       "    </tr>\n",
       "    <tr>\n",
       "      <th>9</th>\n",
       "      <td>1439197.560</td>\n",
       "      <td>4765.555</td>\n",
       "      <td>0.050</td>\n",
       "    </tr>\n",
       "    <tr>\n",
       "      <th>10</th>\n",
       "      <td>1092211.860</td>\n",
       "      <td>4550.883</td>\n",
       "      <td>0.050</td>\n",
       "    </tr>\n",
       "    <tr>\n",
       "      <th>11</th>\n",
       "      <td>1357273.040</td>\n",
       "      <td>4509.213</td>\n",
       "      <td>0.050</td>\n",
       "    </tr>\n",
       "    <tr>\n",
       "      <th>12</th>\n",
       "      <td>1408556.080</td>\n",
       "      <td>4443.395</td>\n",
       "      <td>0.050</td>\n",
       "    </tr>\n",
       "    <tr>\n",
       "      <th>13</th>\n",
       "      <td>1254261.800</td>\n",
       "      <td>4112.334</td>\n",
       "      <td>0.050</td>\n",
       "    </tr>\n",
       "    <tr>\n",
       "      <th>14</th>\n",
       "      <td>1368672.930</td>\n",
       "      <td>4317.580</td>\n",
       "      <td>0.050</td>\n",
       "    </tr>\n",
       "    <tr>\n",
       "      <th>15</th>\n",
       "      <td>1380633.650</td>\n",
       "      <td>4586.823</td>\n",
       "      <td>0.050</td>\n",
       "    </tr>\n",
       "    <tr>\n",
       "      <th>16</th>\n",
       "      <td>1418852.940</td>\n",
       "      <td>4533.076</td>\n",
       "      <td>0.050</td>\n",
       "    </tr>\n",
       "    <tr>\n",
       "      <th>17</th>\n",
       "      <td>1473656.230</td>\n",
       "      <td>4723.257</td>\n",
       "      <td>0.050</td>\n",
       "    </tr>\n",
       "    <tr>\n",
       "      <th>18</th>\n",
       "      <td>1301095.770</td>\n",
       "      <td>4581.323</td>\n",
       "      <td>0.050</td>\n",
       "    </tr>\n",
       "    <tr>\n",
       "      <th>19</th>\n",
       "      <td>1335270.670</td>\n",
       "      <td>4652.511</td>\n",
       "      <td>0.050</td>\n",
       "    </tr>\n",
       "    <tr>\n",
       "      <th>20</th>\n",
       "      <td>1462240.910</td>\n",
       "      <td>4701.739</td>\n",
       "      <td>0.050</td>\n",
       "    </tr>\n",
       "    <tr>\n",
       "      <th>21</th>\n",
       "      <td>1269829.910</td>\n",
       "      <td>4455.544</td>\n",
       "      <td>0.050</td>\n",
       "    </tr>\n",
       "    <tr>\n",
       "      <th>22</th>\n",
       "      <td>1154789.040</td>\n",
       "      <td>4357.694</td>\n",
       "      <td>0.050</td>\n",
       "    </tr>\n",
       "    <tr>\n",
       "      <th>23</th>\n",
       "      <td>1408133.150</td>\n",
       "      <td>4346.090</td>\n",
       "      <td>0.050</td>\n",
       "    </tr>\n",
       "    <tr>\n",
       "      <th>24</th>\n",
       "      <td>1282741.870</td>\n",
       "      <td>4453.965</td>\n",
       "      <td>0.050</td>\n",
       "    </tr>\n",
       "  </tbody>\n",
       "</table>\n",
       "</div>"
      ],
      "text/plain": [
       "                agg_sum  age_mean  rate\n",
       "c_nationkey                            \n",
       "0           1401858.470  4768.226 0.050\n",
       "1           1423189.520  4447.467 0.050\n",
       "2           1337455.750  4709.351 0.050\n",
       "3           1361933.420  4421.862 0.050\n",
       "4           1462666.060  4486.706 0.050\n",
       "5           1372668.790  4330.185 0.050\n",
       "6           1273299.170  4272.816 0.050\n",
       "7           1262644.840  4477.464 0.050\n",
       "8           1351302.640  4236.058 0.050\n",
       "9           1439197.560  4765.555 0.050\n",
       "10          1092211.860  4550.883 0.050\n",
       "11          1357273.040  4509.213 0.050\n",
       "12          1408556.080  4443.395 0.050\n",
       "13          1254261.800  4112.334 0.050\n",
       "14          1368672.930  4317.580 0.050\n",
       "15          1380633.650  4586.823 0.050\n",
       "16          1418852.940  4533.076 0.050\n",
       "17          1473656.230  4723.257 0.050\n",
       "18          1301095.770  4581.323 0.050\n",
       "19          1335270.670  4652.511 0.050\n",
       "20          1462240.910  4701.739 0.050\n",
       "21          1269829.910  4455.544 0.050\n",
       "22          1154789.040  4357.694 0.050\n",
       "23          1408133.150  4346.090 0.050\n",
       "24          1282741.870  4453.965 0.050"
      ]
     },
     "execution_count": 72,
     "metadata": {},
     "output_type": "execute_result"
    },
    {
     "data": {
      "text/html": [
       "<div>\n",
       "<style scoped>\n",
       "    .dataframe tbody tr th:only-of-type {\n",
       "        vertical-align: middle;\n",
       "    }\n",
       "\n",
       "    .dataframe tbody tr th {\n",
       "        vertical-align: top;\n",
       "    }\n",
       "\n",
       "    .dataframe thead th {\n",
       "        text-align: right;\n",
       "    }\n",
       "</style>\n",
       "<table border=\"1\" class=\"dataframe\">\n",
       "  <thead>\n",
       "    <tr style=\"text-align: right;\">\n",
       "      <th></th>\n",
       "      <th>agg_sum</th>\n",
       "      <th>age_mean</th>\n",
       "      <th>rate</th>\n",
       "    </tr>\n",
       "    <tr>\n",
       "      <th>c_nationkey</th>\n",
       "      <th></th>\n",
       "      <th></th>\n",
       "      <th></th>\n",
       "    </tr>\n",
       "  </thead>\n",
       "  <tbody>\n",
       "    <tr>\n",
       "      <th>0</th>\n",
       "      <td>28037169.400</td>\n",
       "      <td>4768.226</td>\n",
       "      <td>0.050</td>\n",
       "    </tr>\n",
       "    <tr>\n",
       "      <th>1</th>\n",
       "      <td>28463790.400</td>\n",
       "      <td>4447.467</td>\n",
       "      <td>0.050</td>\n",
       "    </tr>\n",
       "    <tr>\n",
       "      <th>2</th>\n",
       "      <td>26749115.000</td>\n",
       "      <td>4709.351</td>\n",
       "      <td>0.050</td>\n",
       "    </tr>\n",
       "    <tr>\n",
       "      <th>3</th>\n",
       "      <td>27238668.400</td>\n",
       "      <td>4421.862</td>\n",
       "      <td>0.050</td>\n",
       "    </tr>\n",
       "    <tr>\n",
       "      <th>4</th>\n",
       "      <td>29253321.200</td>\n",
       "      <td>4486.706</td>\n",
       "      <td>0.050</td>\n",
       "    </tr>\n",
       "    <tr>\n",
       "      <th>5</th>\n",
       "      <td>27453375.800</td>\n",
       "      <td>4330.185</td>\n",
       "      <td>0.050</td>\n",
       "    </tr>\n",
       "    <tr>\n",
       "      <th>6</th>\n",
       "      <td>25465983.400</td>\n",
       "      <td>4272.816</td>\n",
       "      <td>0.050</td>\n",
       "    </tr>\n",
       "    <tr>\n",
       "      <th>7</th>\n",
       "      <td>25252896.800</td>\n",
       "      <td>4477.464</td>\n",
       "      <td>0.050</td>\n",
       "    </tr>\n",
       "    <tr>\n",
       "      <th>8</th>\n",
       "      <td>27026052.800</td>\n",
       "      <td>4236.058</td>\n",
       "      <td>0.050</td>\n",
       "    </tr>\n",
       "    <tr>\n",
       "      <th>9</th>\n",
       "      <td>28783951.200</td>\n",
       "      <td>4765.555</td>\n",
       "      <td>0.050</td>\n",
       "    </tr>\n",
       "    <tr>\n",
       "      <th>10</th>\n",
       "      <td>21844237.200</td>\n",
       "      <td>4550.883</td>\n",
       "      <td>0.050</td>\n",
       "    </tr>\n",
       "    <tr>\n",
       "      <th>11</th>\n",
       "      <td>27145460.800</td>\n",
       "      <td>4509.213</td>\n",
       "      <td>0.050</td>\n",
       "    </tr>\n",
       "    <tr>\n",
       "      <th>12</th>\n",
       "      <td>28171121.600</td>\n",
       "      <td>4443.395</td>\n",
       "      <td>0.050</td>\n",
       "    </tr>\n",
       "    <tr>\n",
       "      <th>13</th>\n",
       "      <td>25085236.000</td>\n",
       "      <td>4112.334</td>\n",
       "      <td>0.050</td>\n",
       "    </tr>\n",
       "    <tr>\n",
       "      <th>14</th>\n",
       "      <td>27373458.600</td>\n",
       "      <td>4317.580</td>\n",
       "      <td>0.050</td>\n",
       "    </tr>\n",
       "    <tr>\n",
       "      <th>15</th>\n",
       "      <td>27612673.000</td>\n",
       "      <td>4586.823</td>\n",
       "      <td>0.050</td>\n",
       "    </tr>\n",
       "    <tr>\n",
       "      <th>16</th>\n",
       "      <td>28377058.800</td>\n",
       "      <td>4533.076</td>\n",
       "      <td>0.050</td>\n",
       "    </tr>\n",
       "    <tr>\n",
       "      <th>17</th>\n",
       "      <td>29473124.600</td>\n",
       "      <td>4723.257</td>\n",
       "      <td>0.050</td>\n",
       "    </tr>\n",
       "    <tr>\n",
       "      <th>18</th>\n",
       "      <td>26021915.400</td>\n",
       "      <td>4581.323</td>\n",
       "      <td>0.050</td>\n",
       "    </tr>\n",
       "    <tr>\n",
       "      <th>19</th>\n",
       "      <td>26705413.400</td>\n",
       "      <td>4652.511</td>\n",
       "      <td>0.050</td>\n",
       "    </tr>\n",
       "    <tr>\n",
       "      <th>20</th>\n",
       "      <td>29244818.200</td>\n",
       "      <td>4701.739</td>\n",
       "      <td>0.050</td>\n",
       "    </tr>\n",
       "    <tr>\n",
       "      <th>21</th>\n",
       "      <td>25396598.200</td>\n",
       "      <td>4455.544</td>\n",
       "      <td>0.050</td>\n",
       "    </tr>\n",
       "    <tr>\n",
       "      <th>22</th>\n",
       "      <td>23095780.800</td>\n",
       "      <td>4357.694</td>\n",
       "      <td>0.050</td>\n",
       "    </tr>\n",
       "    <tr>\n",
       "      <th>23</th>\n",
       "      <td>28162663.000</td>\n",
       "      <td>4346.090</td>\n",
       "      <td>0.050</td>\n",
       "    </tr>\n",
       "    <tr>\n",
       "      <th>24</th>\n",
       "      <td>25654837.400</td>\n",
       "      <td>4453.965</td>\n",
       "      <td>0.050</td>\n",
       "    </tr>\n",
       "  </tbody>\n",
       "</table>\n",
       "</div>"
      ],
      "text/plain": [
       "                 agg_sum  age_mean  rate\n",
       "c_nationkey                             \n",
       "0           28037169.400  4768.226 0.050\n",
       "1           28463790.400  4447.467 0.050\n",
       "2           26749115.000  4709.351 0.050\n",
       "3           27238668.400  4421.862 0.050\n",
       "4           29253321.200  4486.706 0.050\n",
       "5           27453375.800  4330.185 0.050\n",
       "6           25465983.400  4272.816 0.050\n",
       "7           25252896.800  4477.464 0.050\n",
       "8           27026052.800  4236.058 0.050\n",
       "9           28783951.200  4765.555 0.050\n",
       "10          21844237.200  4550.883 0.050\n",
       "11          27145460.800  4509.213 0.050\n",
       "12          28171121.600  4443.395 0.050\n",
       "13          25085236.000  4112.334 0.050\n",
       "14          27373458.600  4317.580 0.050\n",
       "15          27612673.000  4586.823 0.050\n",
       "16          28377058.800  4533.076 0.050\n",
       "17          29473124.600  4723.257 0.050\n",
       "18          26021915.400  4581.323 0.050\n",
       "19          26705413.400  4652.511 0.050\n",
       "20          29244818.200  4701.739 0.050\n",
       "21          25396598.200  4455.544 0.050\n",
       "22          23095780.800  4357.694 0.050\n",
       "23          28162663.000  4346.090 0.050\n",
       "24          25654837.400  4453.965 0.050"
      ]
     },
     "execution_count": 72,
     "metadata": {},
     "output_type": "execute_result"
    },
    {
     "data": {
      "text/html": [
       "<div>\n",
       "<style scoped>\n",
       "    .dataframe tbody tr th:only-of-type {\n",
       "        vertical-align: middle;\n",
       "    }\n",
       "\n",
       "    .dataframe tbody tr th {\n",
       "        vertical-align: top;\n",
       "    }\n",
       "\n",
       "    .dataframe thead th {\n",
       "        text-align: right;\n",
       "    }\n",
       "</style>\n",
       "<table border=\"1\" class=\"dataframe\">\n",
       "  <thead>\n",
       "    <tr style=\"text-align: right;\">\n",
       "      <th></th>\n",
       "      <th>agg_sum</th>\n",
       "      <th>age_mean</th>\n",
       "    </tr>\n",
       "    <tr>\n",
       "      <th>c_nationkey</th>\n",
       "      <th></th>\n",
       "      <th></th>\n",
       "    </tr>\n",
       "  </thead>\n",
       "  <tbody>\n",
       "    <tr>\n",
       "      <th>0</th>\n",
       "      <td>0.065</td>\n",
       "      <td>0.073</td>\n",
       "    </tr>\n",
       "    <tr>\n",
       "      <th>1</th>\n",
       "      <td>0.062</td>\n",
       "      <td>0.008</td>\n",
       "    </tr>\n",
       "    <tr>\n",
       "      <th>2</th>\n",
       "      <td>0.003</td>\n",
       "      <td>0.053</td>\n",
       "    </tr>\n",
       "    <tr>\n",
       "      <th>3</th>\n",
       "      <td>0.008</td>\n",
       "      <td>0.015</td>\n",
       "    </tr>\n",
       "    <tr>\n",
       "      <th>4</th>\n",
       "      <td>0.079</td>\n",
       "      <td>0.007</td>\n",
       "    </tr>\n",
       "    <tr>\n",
       "      <th>5</th>\n",
       "      <td>0.032</td>\n",
       "      <td>0.031</td>\n",
       "    </tr>\n",
       "    <tr>\n",
       "      <th>6</th>\n",
       "      <td>0.059</td>\n",
       "      <td>0.037</td>\n",
       "    </tr>\n",
       "    <tr>\n",
       "      <th>7</th>\n",
       "      <td>0.040</td>\n",
       "      <td>0.006</td>\n",
       "    </tr>\n",
       "    <tr>\n",
       "      <th>8</th>\n",
       "      <td>0.010</td>\n",
       "      <td>0.062</td>\n",
       "    </tr>\n",
       "    <tr>\n",
       "      <th>9</th>\n",
       "      <td>0.031</td>\n",
       "      <td>0.051</td>\n",
       "    </tr>\n",
       "    <tr>\n",
       "      <th>10</th>\n",
       "      <td>0.186</td>\n",
       "      <td>0.019</td>\n",
       "    </tr>\n",
       "    <tr>\n",
       "      <th>11</th>\n",
       "      <td>0.008</td>\n",
       "      <td>0.001</td>\n",
       "    </tr>\n",
       "    <tr>\n",
       "      <th>12</th>\n",
       "      <td>0.047</td>\n",
       "      <td>0.017</td>\n",
       "    </tr>\n",
       "    <tr>\n",
       "      <th>13</th>\n",
       "      <td>0.067</td>\n",
       "      <td>0.077</td>\n",
       "    </tr>\n",
       "    <tr>\n",
       "      <th>14</th>\n",
       "      <td>0.001</td>\n",
       "      <td>0.056</td>\n",
       "    </tr>\n",
       "    <tr>\n",
       "      <th>15</th>\n",
       "      <td>0.037</td>\n",
       "      <td>0.020</td>\n",
       "    </tr>\n",
       "    <tr>\n",
       "      <th>16</th>\n",
       "      <td>0.050</td>\n",
       "      <td>0.002</td>\n",
       "    </tr>\n",
       "    <tr>\n",
       "      <th>17</th>\n",
       "      <td>0.110</td>\n",
       "      <td>0.063</td>\n",
       "    </tr>\n",
       "    <tr>\n",
       "      <th>18</th>\n",
       "      <td>0.027</td>\n",
       "      <td>0.032</td>\n",
       "    </tr>\n",
       "    <tr>\n",
       "      <th>19</th>\n",
       "      <td>0.037</td>\n",
       "      <td>0.024</td>\n",
       "    </tr>\n",
       "    <tr>\n",
       "      <th>20</th>\n",
       "      <td>0.105</td>\n",
       "      <td>0.049</td>\n",
       "    </tr>\n",
       "    <tr>\n",
       "      <th>21</th>\n",
       "      <td>0.062</td>\n",
       "      <td>0.012</td>\n",
       "    </tr>\n",
       "    <tr>\n",
       "      <th>22</th>\n",
       "      <td>0.159</td>\n",
       "      <td>0.035</td>\n",
       "    </tr>\n",
       "    <tr>\n",
       "      <th>23</th>\n",
       "      <td>0.038</td>\n",
       "      <td>0.037</td>\n",
       "    </tr>\n",
       "    <tr>\n",
       "      <th>24</th>\n",
       "      <td>0.061</td>\n",
       "      <td>0.024</td>\n",
       "    </tr>\n",
       "  </tbody>\n",
       "</table>\n",
       "</div>"
      ],
      "text/plain": [
       "             agg_sum  age_mean\n",
       "c_nationkey                   \n",
       "0              0.065     0.073\n",
       "1              0.062     0.008\n",
       "2              0.003     0.053\n",
       "3              0.008     0.015\n",
       "4              0.079     0.007\n",
       "5              0.032     0.031\n",
       "6              0.059     0.037\n",
       "7              0.040     0.006\n",
       "8              0.010     0.062\n",
       "9              0.031     0.051\n",
       "10             0.186     0.019\n",
       "11             0.008     0.001\n",
       "12             0.047     0.017\n",
       "13             0.067     0.077\n",
       "14             0.001     0.056\n",
       "15             0.037     0.020\n",
       "16             0.050     0.002\n",
       "17             0.110     0.063\n",
       "18             0.027     0.032\n",
       "19             0.037     0.024\n",
       "20             0.105     0.049\n",
       "21             0.062     0.012\n",
       "22             0.159     0.035\n",
       "23             0.038     0.037\n",
       "24             0.061     0.024"
      ]
     },
     "execution_count": 72,
     "metadata": {},
     "output_type": "execute_result"
    },
    {
     "name": "stdout",
     "output_type": "stream",
     "text": [
      "total error:0.043970469003970905\n"
     ]
    },
    {
     "data": {
      "text/html": [
       "<div>\n",
       "<style scoped>\n",
       "    .dataframe tbody tr th:only-of-type {\n",
       "        vertical-align: middle;\n",
       "    }\n",
       "\n",
       "    .dataframe tbody tr th {\n",
       "        vertical-align: top;\n",
       "    }\n",
       "\n",
       "    .dataframe thead th {\n",
       "        text-align: right;\n",
       "    }\n",
       "</style>\n",
       "<table border=\"1\" class=\"dataframe\">\n",
       "  <thead>\n",
       "    <tr style=\"text-align: right;\">\n",
       "      <th></th>\n",
       "      <th>agg_sum</th>\n",
       "      <th>age_mean</th>\n",
       "    </tr>\n",
       "    <tr>\n",
       "      <th>c_nationkey</th>\n",
       "      <th></th>\n",
       "      <th></th>\n",
       "    </tr>\n",
       "  </thead>\n",
       "  <tbody>\n",
       "    <tr>\n",
       "      <th>0</th>\n",
       "      <td>26322970.100</td>\n",
       "      <td>4442.695</td>\n",
       "    </tr>\n",
       "    <tr>\n",
       "      <th>1</th>\n",
       "      <td>26797875.680</td>\n",
       "      <td>4485.000</td>\n",
       "    </tr>\n",
       "    <tr>\n",
       "      <th>2</th>\n",
       "      <td>26821675.780</td>\n",
       "      <td>4471.024</td>\n",
       "    </tr>\n",
       "    <tr>\n",
       "      <th>3</th>\n",
       "      <td>27025344.160</td>\n",
       "      <td>4489.260</td>\n",
       "    </tr>\n",
       "    <tr>\n",
       "      <th>4</th>\n",
       "      <td>27100354.050</td>\n",
       "      <td>4520.493</td>\n",
       "    </tr>\n",
       "    <tr>\n",
       "      <th>5</th>\n",
       "      <td>26589805.280</td>\n",
       "      <td>4467.373</td>\n",
       "    </tr>\n",
       "    <tr>\n",
       "      <th>6</th>\n",
       "      <td>27059680.480</td>\n",
       "      <td>4436.013</td>\n",
       "    </tr>\n",
       "    <tr>\n",
       "      <th>7</th>\n",
       "      <td>26306808.290</td>\n",
       "      <td>4452.743</td>\n",
       "    </tr>\n",
       "    <tr>\n",
       "      <th>8</th>\n",
       "      <td>27293627.480</td>\n",
       "      <td>4517.317</td>\n",
       "    </tr>\n",
       "    <tr>\n",
       "      <th>9</th>\n",
       "      <td>27930482.500</td>\n",
       "      <td>4533.433</td>\n",
       "    </tr>\n",
       "    <tr>\n",
       "      <th>10</th>\n",
       "      <td>26844267.490</td>\n",
       "      <td>4467.344</td>\n",
       "    </tr>\n",
       "    <tr>\n",
       "      <th>11</th>\n",
       "      <td>26919596.600</td>\n",
       "      <td>4514.438</td>\n",
       "    </tr>\n",
       "    <tr>\n",
       "      <th>12</th>\n",
       "      <td>26898468.710</td>\n",
       "      <td>4522.271</td>\n",
       "    </tr>\n",
       "    <tr>\n",
       "      <th>13</th>\n",
       "      <td>26891366.050</td>\n",
       "      <td>4457.379</td>\n",
       "    </tr>\n",
       "    <tr>\n",
       "      <th>14</th>\n",
       "      <td>27406567.220</td>\n",
       "      <td>4573.860</td>\n",
       "    </tr>\n",
       "    <tr>\n",
       "      <th>15</th>\n",
       "      <td>26625512.170</td>\n",
       "      <td>4496.793</td>\n",
       "    </tr>\n",
       "    <tr>\n",
       "      <th>16</th>\n",
       "      <td>27022906.440</td>\n",
       "      <td>4523.419</td>\n",
       "    </tr>\n",
       "    <tr>\n",
       "      <th>17</th>\n",
       "      <td>26556291.870</td>\n",
       "      <td>4444.568</td>\n",
       "    </tr>\n",
       "    <tr>\n",
       "      <th>18</th>\n",
       "      <td>26740212.130</td>\n",
       "      <td>4438.946</td>\n",
       "    </tr>\n",
       "    <tr>\n",
       "      <th>19</th>\n",
       "      <td>27723591.890</td>\n",
       "      <td>4544.851</td>\n",
       "    </tr>\n",
       "    <tr>\n",
       "      <th>20</th>\n",
       "      <td>26455693.330</td>\n",
       "      <td>4480.978</td>\n",
       "    </tr>\n",
       "    <tr>\n",
       "      <th>21</th>\n",
       "      <td>27081997.670</td>\n",
       "      <td>4507.656</td>\n",
       "    </tr>\n",
       "    <tr>\n",
       "      <th>22</th>\n",
       "      <td>27457855.490</td>\n",
       "      <td>4517.581</td>\n",
       "    </tr>\n",
       "    <tr>\n",
       "      <th>23</th>\n",
       "      <td>27137600.030</td>\n",
       "      <td>4514.656</td>\n",
       "    </tr>\n",
       "    <tr>\n",
       "      <th>24</th>\n",
       "      <td>27316298.850</td>\n",
       "      <td>4565.652</td>\n",
       "    </tr>\n",
       "  </tbody>\n",
       "</table>\n",
       "</div>"
      ],
      "text/plain": [
       "                 agg_sum  age_mean\n",
       "c_nationkey                       \n",
       "0           26322970.100  4442.695\n",
       "1           26797875.680  4485.000\n",
       "2           26821675.780  4471.024\n",
       "3           27025344.160  4489.260\n",
       "4           27100354.050  4520.493\n",
       "5           26589805.280  4467.373\n",
       "6           27059680.480  4436.013\n",
       "7           26306808.290  4452.743\n",
       "8           27293627.480  4517.317\n",
       "9           27930482.500  4533.433\n",
       "10          26844267.490  4467.344\n",
       "11          26919596.600  4514.438\n",
       "12          26898468.710  4522.271\n",
       "13          26891366.050  4457.379\n",
       "14          27406567.220  4573.860\n",
       "15          26625512.170  4496.793\n",
       "16          27022906.440  4523.419\n",
       "17          26556291.870  4444.568\n",
       "18          26740212.130  4438.946\n",
       "19          27723591.890  4544.851\n",
       "20          26455693.330  4480.978\n",
       "21          27081997.670  4507.656\n",
       "22          27457855.490  4517.581\n",
       "23          27137600.030  4514.656\n",
       "24          27316298.850  4565.652"
      ]
     },
     "execution_count": 72,
     "metadata": {},
     "output_type": "execute_result"
    },
    {
     "data": {
      "text/html": [
       "<div>\n",
       "<style scoped>\n",
       "    .dataframe tbody tr th:only-of-type {\n",
       "        vertical-align: middle;\n",
       "    }\n",
       "\n",
       "    .dataframe tbody tr th {\n",
       "        vertical-align: top;\n",
       "    }\n",
       "\n",
       "    .dataframe thead th {\n",
       "        text-align: right;\n",
       "    }\n",
       "</style>\n",
       "<table border=\"1\" class=\"dataframe\">\n",
       "  <thead>\n",
       "    <tr style=\"text-align: right;\">\n",
       "      <th></th>\n",
       "      <th>agg_sum</th>\n",
       "      <th>age_mean</th>\n",
       "    </tr>\n",
       "    <tr>\n",
       "      <th>c_nationkey</th>\n",
       "      <th></th>\n",
       "      <th></th>\n",
       "    </tr>\n",
       "  </thead>\n",
       "  <tbody>\n",
       "    <tr>\n",
       "      <th>0</th>\n",
       "      <td>28037169.400</td>\n",
       "      <td>4768.226</td>\n",
       "    </tr>\n",
       "    <tr>\n",
       "      <th>1</th>\n",
       "      <td>28463790.400</td>\n",
       "      <td>4447.467</td>\n",
       "    </tr>\n",
       "    <tr>\n",
       "      <th>2</th>\n",
       "      <td>26749115.000</td>\n",
       "      <td>4709.351</td>\n",
       "    </tr>\n",
       "    <tr>\n",
       "      <th>3</th>\n",
       "      <td>27238668.400</td>\n",
       "      <td>4421.862</td>\n",
       "    </tr>\n",
       "    <tr>\n",
       "      <th>4</th>\n",
       "      <td>29253321.200</td>\n",
       "      <td>4486.706</td>\n",
       "    </tr>\n",
       "    <tr>\n",
       "      <th>5</th>\n",
       "      <td>27453375.800</td>\n",
       "      <td>4330.185</td>\n",
       "    </tr>\n",
       "    <tr>\n",
       "      <th>6</th>\n",
       "      <td>25465983.400</td>\n",
       "      <td>4272.816</td>\n",
       "    </tr>\n",
       "    <tr>\n",
       "      <th>7</th>\n",
       "      <td>25252896.800</td>\n",
       "      <td>4477.464</td>\n",
       "    </tr>\n",
       "    <tr>\n",
       "      <th>8</th>\n",
       "      <td>27026052.800</td>\n",
       "      <td>4236.058</td>\n",
       "    </tr>\n",
       "    <tr>\n",
       "      <th>9</th>\n",
       "      <td>28783951.200</td>\n",
       "      <td>4765.555</td>\n",
       "    </tr>\n",
       "    <tr>\n",
       "      <th>10</th>\n",
       "      <td>21844237.200</td>\n",
       "      <td>4550.883</td>\n",
       "    </tr>\n",
       "    <tr>\n",
       "      <th>11</th>\n",
       "      <td>27145460.800</td>\n",
       "      <td>4509.213</td>\n",
       "    </tr>\n",
       "    <tr>\n",
       "      <th>12</th>\n",
       "      <td>28171121.600</td>\n",
       "      <td>4443.395</td>\n",
       "    </tr>\n",
       "    <tr>\n",
       "      <th>13</th>\n",
       "      <td>25085236.000</td>\n",
       "      <td>4112.334</td>\n",
       "    </tr>\n",
       "    <tr>\n",
       "      <th>14</th>\n",
       "      <td>27373458.600</td>\n",
       "      <td>4317.580</td>\n",
       "    </tr>\n",
       "    <tr>\n",
       "      <th>15</th>\n",
       "      <td>27612673.000</td>\n",
       "      <td>4586.823</td>\n",
       "    </tr>\n",
       "    <tr>\n",
       "      <th>16</th>\n",
       "      <td>28377058.800</td>\n",
       "      <td>4533.076</td>\n",
       "    </tr>\n",
       "    <tr>\n",
       "      <th>17</th>\n",
       "      <td>29473124.600</td>\n",
       "      <td>4723.257</td>\n",
       "    </tr>\n",
       "    <tr>\n",
       "      <th>18</th>\n",
       "      <td>26021915.400</td>\n",
       "      <td>4581.323</td>\n",
       "    </tr>\n",
       "    <tr>\n",
       "      <th>19</th>\n",
       "      <td>26705413.400</td>\n",
       "      <td>4652.511</td>\n",
       "    </tr>\n",
       "    <tr>\n",
       "      <th>20</th>\n",
       "      <td>29244818.200</td>\n",
       "      <td>4701.739</td>\n",
       "    </tr>\n",
       "    <tr>\n",
       "      <th>21</th>\n",
       "      <td>25396598.200</td>\n",
       "      <td>4455.544</td>\n",
       "    </tr>\n",
       "    <tr>\n",
       "      <th>22</th>\n",
       "      <td>23095780.800</td>\n",
       "      <td>4357.694</td>\n",
       "    </tr>\n",
       "    <tr>\n",
       "      <th>23</th>\n",
       "      <td>28162663.000</td>\n",
       "      <td>4346.090</td>\n",
       "    </tr>\n",
       "    <tr>\n",
       "      <th>24</th>\n",
       "      <td>25654837.400</td>\n",
       "      <td>4453.965</td>\n",
       "    </tr>\n",
       "  </tbody>\n",
       "</table>\n",
       "</div>"
      ],
      "text/plain": [
       "                 agg_sum  age_mean\n",
       "c_nationkey                       \n",
       "0           28037169.400  4768.226\n",
       "1           28463790.400  4447.467\n",
       "2           26749115.000  4709.351\n",
       "3           27238668.400  4421.862\n",
       "4           29253321.200  4486.706\n",
       "5           27453375.800  4330.185\n",
       "6           25465983.400  4272.816\n",
       "7           25252896.800  4477.464\n",
       "8           27026052.800  4236.058\n",
       "9           28783951.200  4765.555\n",
       "10          21844237.200  4550.883\n",
       "11          27145460.800  4509.213\n",
       "12          28171121.600  4443.395\n",
       "13          25085236.000  4112.334\n",
       "14          27373458.600  4317.580\n",
       "15          27612673.000  4586.823\n",
       "16          28377058.800  4533.076\n",
       "17          29473124.600  4723.257\n",
       "18          26021915.400  4581.323\n",
       "19          26705413.400  4652.511\n",
       "20          29244818.200  4701.739\n",
       "21          25396598.200  4455.544\n",
       "22          23095780.800  4357.694\n",
       "23          28162663.000  4346.090\n",
       "24          25654837.400  4453.965"
      ]
     },
     "execution_count": 72,
     "metadata": {},
     "output_type": "execute_result"
    }
   ],
   "source": [
    "origin=pd.read_csv(\"../datasets/tpch-1/customer.csv\")\n",
    "# samples=pd.read_csv(\"../output/torch_cvae_tpch-1-customer_c_nationkey_ld150_id150_bs512_ep200_rate0.1_binary_gaussian15.csv\")\n",
    "# samples=pd.read_csv(\"./output/torch_cvae_tpch-1-customer_c_nationkey_ld150_id150_bs512_ep200_rate0.05_binary_gaussian15.csv\")\n",
    "samples=origin.sample(frac=0.05)\n",
    "# origin=origin[origin['c_mktsegment']=='HOUSEHOLD']\n",
    "# samples=samples[samples['c_mktsegment']=='HOUSEHOLD']\n",
    "group_col='c_nationkey'\n",
    "agg_col='c_acctbal'\n",
    "origin_groups=origin[group_col].value_counts().sort_index()\n",
    "samples_groups=samples[group_col].value_counts().sort_index()\n",
    "# origin_groups.plot(kind='bar')\n",
    "# plt.show()\n",
    "# samples_groups.plot(kind='bar')\n",
    "# plt.show()\n",
    "origin_groups\n",
    "samples_groups\n",
    "samples['rate']=0.05\n",
    "# rate=samples_groups/origin_groups\n",
    "origin_res=origin.groupby(by=group_col).agg(agg_sum=(agg_col,'sum'),age_mean=(agg_col,'mean'))\n",
    "samples_res=samples.groupby(by=group_col).agg(agg_sum=(agg_col,'sum'),age_mean=(agg_col,'mean'),rate=('rate','mean'))\n",
    "# samples_res=samples.groupby(by=group_col, as_index=True).agg({agg_col:['sum','mean'],'rate':'mean'})\n",
    "# samples_res['rate']=rate\n",
    "samples_res\n",
    "samples_res['agg_sum']=samples_res['agg_sum']/samples_res['rate']\n",
    "samples_res\n",
    "del samples_res['rate']\n",
    "diff=(samples_res-origin_res).abs()/origin_res\n",
    "diff.fillna(1, inplace=True)\n",
    "diff\n",
    "print(\"total error:{}\".format(diff.values.sum()/diff.size))\n",
    "origin_res\n",
    "samples_res"
   ]
  },
  {
   "cell_type": "code",
   "execution_count": 58,
   "metadata": {
    "scrolled": true
   },
   "outputs": [
    {
     "name": "stdout",
     "output_type": "stream",
     "text": [
      "-----------------------------group val:15--------------------------\n"
     ]
    },
    {
     "data": {
      "text/plain": [
       "(array([352., 332., 318., ..., 334.,\n",
       "        148.,   0.]),\n",
       " array([-1000.              ,\n",
       "         -368.42105263157896,\n",
       "          263.1578947368421 , ...,\n",
       "         9736.842105263158  ,\n",
       "        10368.421052631578  ,\n",
       "        11000.              ]),\n",
       " <BarContainer object of 19 artists>)"
      ]
     },
     "execution_count": 58,
     "metadata": {},
     "output_type": "execute_result"
    },
    {
     "data": {
      "image/png": "[encoded data removed]",
      "text/plain": [
       "<Figure size 432x288 with 1 Axes>"
      ]
     },
     "metadata": {
      "needs_background": "light"
     },
     "output_type": "display_data"
    },
    {
     "data": {
      "text/plain": [
       "(array([13., 26., 15., ..., 19.,  9.,\n",
       "         0.]),\n",
       " array([-1000.              ,\n",
       "         -368.42105263157896,\n",
       "          263.1578947368421 , ...,\n",
       "         9736.842105263158  ,\n",
       "        10368.421052631578  ,\n",
       "        11000.              ]),\n",
       " <BarContainer object of 19 artists>)"
      ]
     },
     "execution_count": 58,
     "metadata": {},
     "output_type": "execute_result"
    },
    {
     "data": {
      "image/png": "[encoded data removed]",
      "text/plain": [
       "<Figure size 432x288 with 1 Axes>"
      ]
     },
     "metadata": {
      "needs_background": "light"
     },
     "output_type": "display_data"
    },
    {
     "name": "stdout",
     "output_type": "stream",
     "text": [
      "-----------------------------group val:13--------------------------\n"
     ]
    },
    {
     "data": {
      "text/plain": [
       "(array([335., 340., 352., ..., 373.,\n",
       "        127.,   0.]),\n",
       " array([-1000.              ,\n",
       "         -368.42105263157896,\n",
       "          263.1578947368421 , ...,\n",
       "         9736.842105263158  ,\n",
       "        10368.421052631578  ,\n",
       "        11000.              ]),\n",
       " <BarContainer object of 19 artists>)"
      ]
     },
     "execution_count": 58,
     "metadata": {},
     "output_type": "execute_result"
    },
    {
     "data": {
      "image/png": "[encoded data removed]",
      "text/plain": [
       "<Figure size 432x288 with 1 Axes>"
      ]
     },
     "metadata": {
      "needs_background": "light"
     },
     "output_type": "display_data"
    },
    {
     "data": {
      "text/plain": [
       "(array([15., 21., 11., ..., 16.,  3.,\n",
       "         0.]),\n",
       " array([-1000.              ,\n",
       "         -368.42105263157896,\n",
       "          263.1578947368421 , ...,\n",
       "         9736.842105263158  ,\n",
       "        10368.421052631578  ,\n",
       "        11000.              ]),\n",
       " <BarContainer object of 19 artists>)"
      ]
     },
     "execution_count": 58,
     "metadata": {},
     "output_type": "execute_result"
    },
    {
     "data": {
      "image/png": "[encoded data removed]",
      "text/plain": [
       "<Figure size 432x288 with 1 Axes>"
      ]
     },
     "metadata": {
      "needs_background": "light"
     },
     "output_type": "display_data"
    },
    {
     "name": "stdout",
     "output_type": "stream",
     "text": [
      "-----------------------------group val:1--------------------------\n"
     ]
    },
    {
     "data": {
      "text/plain": [
       "(array([344., 359., 318., ..., 334.,\n",
       "        151.,   0.]),\n",
       " array([-1000.              ,\n",
       "         -368.42105263157896,\n",
       "          263.1578947368421 , ...,\n",
       "         9736.842105263158  ,\n",
       "        10368.421052631578  ,\n",
       "        11000.              ]),\n",
       " <BarContainer object of 19 artists>)"
      ]
     },
     "execution_count": 58,
     "metadata": {},
     "output_type": "execute_result"
    },
    {
     "data": {
      "image/png": "[encoded data removed]",
      "text/plain": [
       "<Figure size 432x288 with 1 Axes>"
      ]
     },
     "metadata": {
      "needs_background": "light"
     },
     "output_type": "display_data"
    },
    {
     "data": {
      "text/plain": [
       "(array([11., 23.,  7., ..., 15.,  7.,\n",
       "         0.]),\n",
       " array([-1000.              ,\n",
       "         -368.42105263157896,\n",
       "          263.1578947368421 , ...,\n",
       "         9736.842105263158  ,\n",
       "        10368.421052631578  ,\n",
       "        11000.              ]),\n",
       " <BarContainer object of 19 artists>)"
      ]
     },
     "execution_count": 58,
     "metadata": {},
     "output_type": "execute_result"
    },
    {
     "data": {
      "image/png": "[encoded data removed]",
      "text/plain": [
       "<Figure size 432x288 with 1 Axes>"
      ]
     },
     "metadata": {
      "needs_background": "light"
     },
     "output_type": "display_data"
    },
    {
     "name": "stdout",
     "output_type": "stream",
     "text": [
      "-----------------------------group val:4--------------------------\n"
     ]
    },
    {
     "data": {
      "text/plain": [
       "(array([342., 340., 312., ..., 340.,\n",
       "        147.,   0.]),\n",
       " array([-1000.              ,\n",
       "         -368.42105263157896,\n",
       "          263.1578947368421 , ...,\n",
       "         9736.842105263158  ,\n",
       "        10368.421052631578  ,\n",
       "        11000.              ]),\n",
       " <BarContainer object of 19 artists>)"
      ]
     },
     "execution_count": 58,
     "metadata": {},
     "output_type": "execute_result"
    },
    {
     "data": {
      "image/png": "[encoded data removed]",
      "text/plain": [
       "<Figure size 432x288 with 1 Axes>"
      ]
     },
     "metadata": {
      "needs_background": "light"
     },
     "output_type": "display_data"
    },
    {
     "data": {
      "text/plain": [
       "(array([17., 19., 14., ...,  9.,  6.,\n",
       "         0.]),\n",
       " array([-1000.              ,\n",
       "         -368.42105263157896,\n",
       "          263.1578947368421 , ...,\n",
       "         9736.842105263158  ,\n",
       "        10368.421052631578  ,\n",
       "        11000.              ]),\n",
       " <BarContainer object of 19 artists>)"
      ]
     },
     "execution_count": 58,
     "metadata": {},
     "output_type": "execute_result"
    },
    {
     "data": {
      "image/png": "[encoded data removed]",
      "text/plain": [
       "<Figure size 432x288 with 1 Axes>"
      ]
     },
     "metadata": {
      "needs_background": "light"
     },
     "output_type": "display_data"
    },
    {
     "name": "stdout",
     "output_type": "stream",
     "text": [
      "-----------------------------group val:3--------------------------\n"
     ]
    },
    {
     "data": {
      "text/plain": [
       "(array([357., 356., 319., ..., 337.,\n",
       "        137.,   0.]),\n",
       " array([-1000.              ,\n",
       "         -368.42105263157896,\n",
       "          263.1578947368421 , ...,\n",
       "         9736.842105263158  ,\n",
       "        10368.421052631578  ,\n",
       "        11000.              ]),\n",
       " <BarContainer object of 19 artists>)"
      ]
     },
     "execution_count": 58,
     "metadata": {},
     "output_type": "execute_result"
    },
    {
     "data": {
      "image/png": "[encoded data removed]",
      "text/plain": [
       "<Figure size 432x288 with 1 Axes>"
      ]
     },
     "metadata": {
      "needs_background": "light"
     },
     "output_type": "display_data"
    },
    {
     "data": {
      "text/plain": [
       "(array([15., 31., 20., ..., 10.,  9.,\n",
       "         0.]),\n",
       " array([-1000.              ,\n",
       "         -368.42105263157896,\n",
       "          263.1578947368421 , ...,\n",
       "         9736.842105263158  ,\n",
       "        10368.421052631578  ,\n",
       "        11000.              ]),\n",
       " <BarContainer object of 19 artists>)"
      ]
     },
     "execution_count": 58,
     "metadata": {},
     "output_type": "execute_result"
    },
    {
     "data": {
      "image/png": "[encoded data removed]",
      "text/plain": [
       "<Figure size 432x288 with 1 Axes>"
      ]
     },
     "metadata": {
      "needs_background": "light"
     },
     "output_type": "display_data"
    },
    {
     "name": "stdout",
     "output_type": "stream",
     "text": [
      "-----------------------------group val:20--------------------------\n"
     ]
    },
    {
     "data": {
      "text/plain": [
       "(array([348., 342., 311., ..., 346.,\n",
       "        128.,   0.]),\n",
       " array([-1000.              ,\n",
       "         -368.42105263157896,\n",
       "          263.1578947368421 , ...,\n",
       "         9736.842105263158  ,\n",
       "        10368.421052631578  ,\n",
       "        11000.              ]),\n",
       " <BarContainer object of 19 artists>)"
      ]
     },
     "execution_count": 58,
     "metadata": {},
     "output_type": "execute_result"
    },
    {
     "data": {
      "image/png": "[encoded data removed]",
      "text/plain": [
       "<Figure size 432x288 with 1 Axes>"
      ]
     },
     "metadata": {
      "needs_background": "light"
     },
     "output_type": "display_data"
    },
    {
     "data": {
      "text/plain": [
       "(array([15., 19., 18., ..., 12.,  4.,\n",
       "         0.]),\n",
       " array([-1000.              ,\n",
       "         -368.42105263157896,\n",
       "          263.1578947368421 , ...,\n",
       "         9736.842105263158  ,\n",
       "        10368.421052631578  ,\n",
       "        11000.              ]),\n",
       " <BarContainer object of 19 artists>)"
      ]
     },
     "execution_count": 58,
     "metadata": {},
     "output_type": "execute_result"
    },
    {
     "data": {
      "image/png": "[encoded data removed]",
      "text/plain": [
       "<Figure size 432x288 with 1 Axes>"
      ]
     },
     "metadata": {
      "needs_background": "light"
     },
     "output_type": "display_data"
    },
    {
     "name": "stdout",
     "output_type": "stream",
     "text": [
      "-----------------------------group val:18--------------------------\n"
     ]
    },
    {
     "data": {
      "text/plain": [
       "(array([348., 343., 364., ..., 340.,\n",
       "        125.,   0.]),\n",
       " array([-1000.              ,\n",
       "         -368.42105263157896,\n",
       "          263.1578947368421 , ...,\n",
       "         9736.842105263158  ,\n",
       "        10368.421052631578  ,\n",
       "        11000.              ]),\n",
       " <BarContainer object of 19 artists>)"
      ]
     },
     "execution_count": 58,
     "metadata": {},
     "output_type": "execute_result"
    },
    {
     "data": {
      "image/png": "[encoded data removed]",
      "text/plain": [
       "<Figure size 432x288 with 1 Axes>"
      ]
     },
     "metadata": {
      "needs_background": "light"
     },
     "output_type": "display_data"
    },
    {
     "data": {
      "text/plain": [
       "(array([20., 14., 19., ..., 12.,  5.,\n",
       "         0.]),\n",
       " array([-1000.              ,\n",
       "         -368.42105263157896,\n",
       "          263.1578947368421 , ...,\n",
       "         9736.842105263158  ,\n",
       "        10368.421052631578  ,\n",
       "        11000.              ]),\n",
       " <BarContainer object of 19 artists>)"
      ]
     },
     "execution_count": 58,
     "metadata": {},
     "output_type": "execute_result"
    },
    {
     "data": {
      "image/png": "[encoded data removed]",
      "text/plain": [
       "<Figure size 432x288 with 1 Axes>"
      ]
     },
     "metadata": {
      "needs_background": "light"
     },
     "output_type": "display_data"
    },
    {
     "name": "stdout",
     "output_type": "stream",
     "text": [
      "-----------------------------group val:17--------------------------\n"
     ]
    },
    {
     "data": {
      "text/plain": [
       "(array([346., 349., 355., ..., 319.,\n",
       "        143.,   0.]),\n",
       " array([-1000.              ,\n",
       "         -368.42105263157896,\n",
       "          263.1578947368421 , ...,\n",
       "         9736.842105263158  ,\n",
       "        10368.421052631578  ,\n",
       "        11000.              ]),\n",
       " <BarContainer object of 19 artists>)"
      ]
     },
     "execution_count": 58,
     "metadata": {},
     "output_type": "execute_result"
    },
    {
     "data": {
      "image/png": "[encoded data removed]",
      "text/plain": [
       "<Figure size 432x288 with 1 Axes>"
      ]
     },
     "metadata": {
      "needs_background": "light"
     },
     "output_type": "display_data"
    },
    {
     "data": {
      "text/plain": [
       "(array([15., 25., 11., ..., 11.,  5.,\n",
       "         0.]),\n",
       " array([-1000.              ,\n",
       "         -368.42105263157896,\n",
       "          263.1578947368421 , ...,\n",
       "         9736.842105263158  ,\n",
       "        10368.421052631578  ,\n",
       "        11000.              ]),\n",
       " <BarContainer object of 19 artists>)"
      ]
     },
     "execution_count": 58,
     "metadata": {},
     "output_type": "execute_result"
    },
    {
     "data": {
      "image/png": "[encoded data removed]",
      "text/plain": [
       "<Figure size 432x288 with 1 Axes>"
      ]
     },
     "metadata": {
      "needs_background": "light"
     },
     "output_type": "display_data"
    },
    {
     "name": "stdout",
     "output_type": "stream",
     "text": [
      "-----------------------------group val:8--------------------------\n"
     ]
    },
    {
     "data": {
      "text/plain": [
       "(array([349., 358., 338., ..., 342.,\n",
       "        155.,   0.]),\n",
       " array([-1000.              ,\n",
       "         -368.42105263157896,\n",
       "          263.1578947368421 , ...,\n",
       "         9736.842105263158  ,\n",
       "        10368.421052631578  ,\n",
       "        11000.              ]),\n",
       " <BarContainer object of 19 artists>)"
      ]
     },
     "execution_count": 58,
     "metadata": {},
     "output_type": "execute_result"
    },
    {
     "data": {
      "image/png": "[encoded data removed]",
      "text/plain": [
       "<Figure size 432x288 with 1 Axes>"
      ]
     },
     "metadata": {
      "needs_background": "light"
     },
     "output_type": "display_data"
    },
    {
     "data": {
      "text/plain": [
       "(array([19., 21., 15., ..., 12.,  2.,\n",
       "         0.]),\n",
       " array([-1000.              ,\n",
       "         -368.42105263157896,\n",
       "          263.1578947368421 , ...,\n",
       "         9736.842105263158  ,\n",
       "        10368.421052631578  ,\n",
       "        11000.              ]),\n",
       " <BarContainer object of 19 artists>)"
      ]
     },
     "execution_count": 58,
     "metadata": {},
     "output_type": "execute_result"
    },
    {
     "data": {
      "image/png": "[encoded data removed]",
      "text/plain": [
       "<Figure size 432x288 with 1 Axes>"
      ]
     },
     "metadata": {
      "needs_background": "light"
     },
     "output_type": "display_data"
    },
    {
     "name": "stdout",
     "output_type": "stream",
     "text": [
      "-----------------------------group val:5--------------------------\n"
     ]
    },
    {
     "data": {
      "text/plain": [
       "(array([372., 347., 319., ..., 330.,\n",
       "        158.,   0.]),\n",
       " array([-1000.              ,\n",
       "         -368.42105263157896,\n",
       "          263.1578947368421 , ...,\n",
       "         9736.842105263158  ,\n",
       "        10368.421052631578  ,\n",
       "        11000.              ]),\n",
       " <BarContainer object of 19 artists>)"
      ]
     },
     "execution_count": 58,
     "metadata": {},
     "output_type": "execute_result"
    },
    {
     "data": {
      "image/png": "[encoded data removed]",
      "text/plain": [
       "<Figure size 432x288 with 1 Axes>"
      ]
     },
     "metadata": {
      "needs_background": "light"
     },
     "output_type": "display_data"
    },
    {
     "data": {
      "text/plain": [
       "(array([14., 12., 15., ..., 14.,  7.,\n",
       "         0.]),\n",
       " array([-1000.              ,\n",
       "         -368.42105263157896,\n",
       "          263.1578947368421 , ...,\n",
       "         9736.842105263158  ,\n",
       "        10368.421052631578  ,\n",
       "        11000.              ]),\n",
       " <BarContainer object of 19 artists>)"
      ]
     },
     "execution_count": 58,
     "metadata": {},
     "output_type": "execute_result"
    },
    {
     "data": {
      "image/png": "[encoded data removed]",
      "text/plain": [
       "<Figure size 432x288 with 1 Axes>"
      ]
     },
     "metadata": {
      "needs_background": "light"
     },
     "output_type": "display_data"
    },
    {
     "name": "stdout",
     "output_type": "stream",
     "text": [
      "-----------------------------group val:23--------------------------\n"
     ]
    },
    {
     "data": {
      "text/plain": [
       "(array([316., 328., 344., ..., 321.,\n",
       "        139.,   0.]),\n",
       " array([-1000.              ,\n",
       "         -368.42105263157896,\n",
       "          263.1578947368421 , ...,\n",
       "         9736.842105263158  ,\n",
       "        10368.421052631578  ,\n",
       "        11000.              ]),\n",
       " <BarContainer object of 19 artists>)"
      ]
     },
     "execution_count": 58,
     "metadata": {},
     "output_type": "execute_result"
    },
    {
     "data": {
      "image/png": "[encoded data removed]",
      "text/plain": [
       "<Figure size 432x288 with 1 Axes>"
      ]
     },
     "metadata": {
      "needs_background": "light"
     },
     "output_type": "display_data"
    },
    {
     "data": {
      "text/plain": [
       "(array([12., 21., 15., ..., 10.,  4.,\n",
       "         0.]),\n",
       " array([-1000.              ,\n",
       "         -368.42105263157896,\n",
       "          263.1578947368421 , ...,\n",
       "         9736.842105263158  ,\n",
       "        10368.421052631578  ,\n",
       "        11000.              ]),\n",
       " <BarContainer object of 19 artists>)"
      ]
     },
     "execution_count": 58,
     "metadata": {},
     "output_type": "execute_result"
    },
    {
     "data": {
      "image/png": "[encoded data removed]",
      "text/plain": [
       "<Figure size 432x288 with 1 Axes>"
      ]
     },
     "metadata": {
      "needs_background": "light"
     },
     "output_type": "display_data"
    },
    {
     "name": "stdout",
     "output_type": "stream",
     "text": [
      "-----------------------------group val:10--------------------------\n"
     ]
    },
    {
     "data": {
      "text/plain": [
       "(array([346., 385., 324., ..., 339.,\n",
       "        131.,   0.]),\n",
       " array([-1000.              ,\n",
       "         -368.42105263157896,\n",
       "          263.1578947368421 , ...,\n",
       "         9736.842105263158  ,\n",
       "        10368.421052631578  ,\n",
       "        11000.              ]),\n",
       " <BarContainer object of 19 artists>)"
      ]
     },
     "execution_count": 58,
     "metadata": {},
     "output_type": "execute_result"
    },
    {
     "data": {
      "image/png": "[encoded data removed]",
      "text/plain": [
       "<Figure size 432x288 with 1 Axes>"
      ]
     },
     "metadata": {
      "needs_background": "light"
     },
     "output_type": "display_data"
    },
    {
     "data": {
      "text/plain": [
       "(array([19., 26., 22., ..., 12.,  4.,\n",
       "         0.]),\n",
       " array([-1000.              ,\n",
       "         -368.42105263157896,\n",
       "          263.1578947368421 , ...,\n",
       "         9736.842105263158  ,\n",
       "        10368.421052631578  ,\n",
       "        11000.              ]),\n",
       " <BarContainer object of 19 artists>)"
      ]
     },
     "execution_count": 58,
     "metadata": {},
     "output_type": "execute_result"
    },
    {
     "data": {
      "image/png": "[encoded data removed]",
      "text/plain": [
       "<Figure size 432x288 with 1 Axes>"
      ]
     },
     "metadata": {
      "needs_background": "light"
     },
     "output_type": "display_data"
    },
    {
     "name": "stdout",
     "output_type": "stream",
     "text": [
      "-----------------------------group val:2--------------------------\n"
     ]
    },
    {
     "data": {
      "text/plain": [
       "(array([327., 356., 351., ..., 354.,\n",
       "        157.,   0.]),\n",
       " array([-1000.              ,\n",
       "         -368.42105263157896,\n",
       "          263.1578947368421 , ...,\n",
       "         9736.842105263158  ,\n",
       "        10368.421052631578  ,\n",
       "        11000.              ]),\n",
       " <BarContainer object of 19 artists>)"
      ]
     },
     "execution_count": 58,
     "metadata": {},
     "output_type": "execute_result"
    },
    {
     "data": {
      "image/png": "[encoded data removed]",
      "text/plain": [
       "<Figure size 432x288 with 1 Axes>"
      ]
     },
     "metadata": {
      "needs_background": "light"
     },
     "output_type": "display_data"
    },
    {
     "data": {
      "text/plain": [
       "(array([13., 19., 24., ...,  9.,  6.,\n",
       "         0.]),\n",
       " array([-1000.              ,\n",
       "         -368.42105263157896,\n",
       "          263.1578947368421 , ...,\n",
       "         9736.842105263158  ,\n",
       "        10368.421052631578  ,\n",
       "        11000.              ]),\n",
       " <BarContainer object of 19 artists>)"
      ]
     },
     "execution_count": 58,
     "metadata": {},
     "output_type": "execute_result"
    },
    {
     "data": {
      "image/png": "[encoded data removed]",
      "text/plain": [
       "<Figure size 432x288 with 1 Axes>"
      ]
     },
     "metadata": {
      "needs_background": "light"
     },
     "output_type": "display_data"
    },
    {
     "name": "stdout",
     "output_type": "stream",
     "text": [
      "-----------------------------group val:6--------------------------\n"
     ]
    },
    {
     "data": {
      "text/plain": [
       "(array([377., 359., 362., ..., 380.,\n",
       "        147.,   0.]),\n",
       " array([-1000.              ,\n",
       "         -368.42105263157896,\n",
       "          263.1578947368421 , ...,\n",
       "         9736.842105263158  ,\n",
       "        10368.421052631578  ,\n",
       "        11000.              ]),\n",
       " <BarContainer object of 19 artists>)"
      ]
     },
     "execution_count": 58,
     "metadata": {},
     "output_type": "execute_result"
    },
    {
     "data": {
      "image/png": "[encoded data removed]",
      "text/plain": [
       "<Figure size 432x288 with 1 Axes>"
      ]
     },
     "metadata": {
      "needs_background": "light"
     },
     "output_type": "display_data"
    },
    {
     "data": {
      "text/plain": [
       "(array([15., 16., 12., ..., 11.,  8.,\n",
       "         0.]),\n",
       " array([-1000.              ,\n",
       "         -368.42105263157896,\n",
       "          263.1578947368421 , ...,\n",
       "         9736.842105263158  ,\n",
       "        10368.421052631578  ,\n",
       "        11000.              ]),\n",
       " <BarContainer object of 19 artists>)"
      ]
     },
     "execution_count": 58,
     "metadata": {},
     "output_type": "execute_result"
    },
    {
     "data": {
      "image/png": "[encoded data removed]",
      "text/plain": [
       "<Figure size 432x288 with 1 Axes>"
      ]
     },
     "metadata": {
      "needs_background": "light"
     },
     "output_type": "display_data"
    },
    {
     "name": "stdout",
     "output_type": "stream",
     "text": [
      "-----------------------------group val:22--------------------------\n"
     ]
    },
    {
     "data": {
      "text/plain": [
       "(array([307., 371., 375., ..., 333.,\n",
       "        145.,   0.]),\n",
       " array([-1000.              ,\n",
       "         -368.42105263157896,\n",
       "          263.1578947368421 , ...,\n",
       "         9736.842105263158  ,\n",
       "        10368.421052631578  ,\n",
       "        11000.              ]),\n",
       " <BarContainer object of 19 artists>)"
      ]
     },
     "execution_count": 58,
     "metadata": {},
     "output_type": "execute_result"
    },
    {
     "data": {
      "image/png": "[encoded data removed]",
      "text/plain": [
       "<Figure size 432x288 with 1 Axes>"
      ]
     },
     "metadata": {
      "needs_background": "light"
     },
     "output_type": "display_data"
    },
    {
     "data": {
      "text/plain": [
       "(array([21., 23., 23., ...,  9.,  8.,\n",
       "         0.]),\n",
       " array([-1000.              ,\n",
       "         -368.42105263157896,\n",
       "          263.1578947368421 , ...,\n",
       "         9736.842105263158  ,\n",
       "        10368.421052631578  ,\n",
       "        11000.              ]),\n",
       " <BarContainer object of 19 artists>)"
      ]
     },
     "execution_count": 58,
     "metadata": {},
     "output_type": "execute_result"
    },
    {
     "data": {
      "image/png": "[encoded data removed]",
      "text/plain": [
       "<Figure size 432x288 with 1 Axes>"
      ]
     },
     "metadata": {
      "needs_background": "light"
     },
     "output_type": "display_data"
    },
    {
     "name": "stdout",
     "output_type": "stream",
     "text": [
      "-----------------------------group val:12--------------------------\n"
     ]
    },
    {
     "data": {
      "text/plain": [
       "(array([334., 322., 351., ..., 337.,\n",
       "        138.,   0.]),\n",
       " array([-1000.              ,\n",
       "         -368.42105263157896,\n",
       "          263.1578947368421 , ...,\n",
       "         9736.842105263158  ,\n",
       "        10368.421052631578  ,\n",
       "        11000.              ]),\n",
       " <BarContainer object of 19 artists>)"
      ]
     },
     "execution_count": 58,
     "metadata": {},
     "output_type": "execute_result"
    },
    {
     "data": {
      "image/png": "[encoded data removed]",
      "text/plain": [
       "<Figure size 432x288 with 1 Axes>"
      ]
     },
     "metadata": {
      "needs_background": "light"
     },
     "output_type": "display_data"
    },
    {
     "data": {
      "text/plain": [
       "(array([11., 22., 16., ...,  6.,  8.,\n",
       "         0.]),\n",
       " array([-1000.              ,\n",
       "         -368.42105263157896,\n",
       "          263.1578947368421 , ...,\n",
       "         9736.842105263158  ,\n",
       "        10368.421052631578  ,\n",
       "        11000.              ]),\n",
       " <BarContainer object of 19 artists>)"
      ]
     },
     "execution_count": 58,
     "metadata": {},
     "output_type": "execute_result"
    },
    {
     "data": {
      "image/png": "[encoded data removed]",
      "text/plain": [
       "<Figure size 432x288 with 1 Axes>"
      ]
     },
     "metadata": {
      "needs_background": "light"
     },
     "output_type": "display_data"
    },
    {
     "name": "stdout",
     "output_type": "stream",
     "text": [
      "-----------------------------group val:0--------------------------\n"
     ]
    },
    {
     "data": {
      "text/plain": [
       "(array([364., 325., 325., ..., 347.,\n",
       "        114.,   0.]),\n",
       " array([-1000.              ,\n",
       "         -368.42105263157896,\n",
       "          263.1578947368421 , ...,\n",
       "         9736.842105263158  ,\n",
       "        10368.421052631578  ,\n",
       "        11000.              ]),\n",
       " <BarContainer object of 19 artists>)"
      ]
     },
     "execution_count": 58,
     "metadata": {},
     "output_type": "execute_result"
    },
    {
     "data": {
      "image/png": "[encoded data removed]",
      "text/plain": [
       "<Figure size 432x288 with 1 Axes>"
      ]
     },
     "metadata": {
      "needs_background": "light"
     },
     "output_type": "display_data"
    },
    {
     "data": {
      "text/plain": [
       "(array([11., 19., 13., ..., 13.,  5.,\n",
       "         0.]),\n",
       " array([-1000.              ,\n",
       "         -368.42105263157896,\n",
       "          263.1578947368421 , ...,\n",
       "         9736.842105263158  ,\n",
       "        10368.421052631578  ,\n",
       "        11000.              ]),\n",
       " <BarContainer object of 19 artists>)"
      ]
     },
     "execution_count": 58,
     "metadata": {},
     "output_type": "execute_result"
    },
    {
     "data": {
      "image/png": "[encoded data removed]",
      "text/plain": [
       "<Figure size 432x288 with 1 Axes>"
      ]
     },
     "metadata": {
      "needs_background": "light"
     },
     "output_type": "display_data"
    },
    {
     "name": "stdout",
     "output_type": "stream",
     "text": [
      "-----------------------------group val:21--------------------------\n"
     ]
    },
    {
     "data": {
      "text/plain": [
       "(array([330., 332., 350., ..., 327.,\n",
       "        139.,   0.]),\n",
       " array([-1000.              ,\n",
       "         -368.42105263157896,\n",
       "          263.1578947368421 , ...,\n",
       "         9736.842105263158  ,\n",
       "        10368.421052631578  ,\n",
       "        11000.              ]),\n",
       " <BarContainer object of 19 artists>)"
      ]
     },
     "execution_count": 58,
     "metadata": {},
     "output_type": "execute_result"
    },
    {
     "data": {
      "image/png": "[encoded data removed]",
      "text/plain": [
       "<Figure size 432x288 with 1 Axes>"
      ]
     },
     "metadata": {
      "needs_background": "light"
     },
     "output_type": "display_data"
    },
    {
     "data": {
      "text/plain": [
       "(array([ 8., 15., 21., ...,  9.,  4.,\n",
       "         0.]),\n",
       " array([-1000.              ,\n",
       "         -368.42105263157896,\n",
       "          263.1578947368421 , ...,\n",
       "         9736.842105263158  ,\n",
       "        10368.421052631578  ,\n",
       "        11000.              ]),\n",
       " <BarContainer object of 19 artists>)"
      ]
     },
     "execution_count": 58,
     "metadata": {},
     "output_type": "execute_result"
    },
    {
     "data": {
      "image/png": "[encoded data removed]",
      "text/plain": [
       "<Figure size 432x288 with 1 Axes>"
      ]
     },
     "metadata": {
      "needs_background": "light"
     },
     "output_type": "display_data"
    },
    {
     "name": "stdout",
     "output_type": "stream",
     "text": [
      "-----------------------------group val:19--------------------------\n"
     ]
    },
    {
     "data": {
      "text/plain": [
       "(array([363., 338., 326., ..., 333.,\n",
       "        144.,   0.]),\n",
       " array([-1000.              ,\n",
       "         -368.42105263157896,\n",
       "          263.1578947368421 , ...,\n",
       "         9736.842105263158  ,\n",
       "        10368.421052631578  ,\n",
       "        11000.              ]),\n",
       " <BarContainer object of 19 artists>)"
      ]
     },
     "execution_count": 58,
     "metadata": {},
     "output_type": "execute_result"
    },
    {
     "data": {
      "image/png": "[encoded data removed]",
      "text/plain": [
       "<Figure size 432x288 with 1 Axes>"
      ]
     },
     "metadata": {
      "needs_background": "light"
     },
     "output_type": "display_data"
    },
    {
     "data": {
      "text/plain": [
       "(array([13., 28., 18., ..., 10.,  4.,\n",
       "         0.]),\n",
       " array([-1000.              ,\n",
       "         -368.42105263157896,\n",
       "          263.1578947368421 , ...,\n",
       "         9736.842105263158  ,\n",
       "        10368.421052631578  ,\n",
       "        11000.              ]),\n",
       " <BarContainer object of 19 artists>)"
      ]
     },
     "execution_count": 58,
     "metadata": {},
     "output_type": "execute_result"
    },
    {
     "data": {
      "image/png": "[encoded data removed]",
      "text/plain": [
       "<Figure size 432x288 with 1 Axes>"
      ]
     },
     "metadata": {
      "needs_background": "light"
     },
     "output_type": "display_data"
    },
    {
     "name": "stdout",
     "output_type": "stream",
     "text": [
      "-----------------------------group val:16--------------------------\n"
     ]
    },
    {
     "data": {
      "text/plain": [
       "(array([342., 342., 345., ..., 299.,\n",
       "        147.,   0.]),\n",
       " array([-1000.              ,\n",
       "         -368.42105263157896,\n",
       "          263.1578947368421 , ...,\n",
       "         9736.842105263158  ,\n",
       "        10368.421052631578  ,\n",
       "        11000.              ]),\n",
       " <BarContainer object of 19 artists>)"
      ]
     },
     "execution_count": 58,
     "metadata": {},
     "output_type": "execute_result"
    },
    {
     "data": {
      "image/png": "[encoded data removed]",
      "text/plain": [
       "<Figure size 432x288 with 1 Axes>"
      ]
     },
     "metadata": {
      "needs_background": "light"
     },
     "output_type": "display_data"
    },
    {
     "data": {
      "text/plain": [
       "(array([11., 22., 18., ...,  8.,  5.,\n",
       "         0.]),\n",
       " array([-1000.              ,\n",
       "         -368.42105263157896,\n",
       "          263.1578947368421 , ...,\n",
       "         9736.842105263158  ,\n",
       "        10368.421052631578  ,\n",
       "        11000.              ]),\n",
       " <BarContainer object of 19 artists>)"
      ]
     },
     "execution_count": 58,
     "metadata": {},
     "output_type": "execute_result"
    },
    {
     "data": {
      "image/png": "[encoded data removed]",
      "text/plain": [
       "<Figure size 432x288 with 1 Axes>"
      ]
     },
     "metadata": {
      "needs_background": "light"
     },
     "output_type": "display_data"
    },
    {
     "name": "stdout",
     "output_type": "stream",
     "text": [
      "-----------------------------group val:9--------------------------\n"
     ]
    },
    {
     "data": {
      "text/plain": [
       "(array([346., 329., 389., ..., 362.,\n",
       "        142.,   0.]),\n",
       " array([-1000.              ,\n",
       "         -368.42105263157896,\n",
       "          263.1578947368421 , ...,\n",
       "         9736.842105263158  ,\n",
       "        10368.421052631578  ,\n",
       "        11000.              ]),\n",
       " <BarContainer object of 19 artists>)"
      ]
     },
     "execution_count": 58,
     "metadata": {},
     "output_type": "execute_result"
    },
    {
     "data": {
      "image/png": "[encoded data removed]",
      "text/plain": [
       "<Figure size 432x288 with 1 Axes>"
      ]
     },
     "metadata": {
      "needs_background": "light"
     },
     "output_type": "display_data"
    },
    {
     "data": {
      "text/plain": [
       "(array([14., 19., 22., ...,  6.,  4.,\n",
       "         0.]),\n",
       " array([-1000.              ,\n",
       "         -368.42105263157896,\n",
       "          263.1578947368421 , ...,\n",
       "         9736.842105263158  ,\n",
       "        10368.421052631578  ,\n",
       "        11000.              ]),\n",
       " <BarContainer object of 19 artists>)"
      ]
     },
     "execution_count": 58,
     "metadata": {},
     "output_type": "execute_result"
    },
    {
     "data": {
      "image/png": "[encoded data removed]",
      "text/plain": [
       "<Figure size 432x288 with 1 Axes>"
      ]
     },
     "metadata": {
      "needs_background": "light"
     },
     "output_type": "display_data"
    },
    {
     "name": "stdout",
     "output_type": "stream",
     "text": [
      "-----------------------------group val:11--------------------------\n"
     ]
    },
    {
     "data": {
      "text/plain": [
       "(array([316., 357., 345., ..., 366.,\n",
       "        152.,   0.]),\n",
       " array([-1000.              ,\n",
       "         -368.42105263157896,\n",
       "          263.1578947368421 , ...,\n",
       "         9736.842105263158  ,\n",
       "        10368.421052631578  ,\n",
       "        11000.              ]),\n",
       " <BarContainer object of 19 artists>)"
      ]
     },
     "execution_count": 58,
     "metadata": {},
     "output_type": "execute_result"
    },
    {
     "data": {
      "image/png": "[encoded data removed]",
      "text/plain": [
       "<Figure size 432x288 with 1 Axes>"
      ]
     },
     "metadata": {
      "needs_background": "light"
     },
     "output_type": "display_data"
    },
    {
     "data": {
      "text/plain": [
       "(array([15., 19., 20., ...,  9.,  2.,\n",
       "         0.]),\n",
       " array([-1000.              ,\n",
       "         -368.42105263157896,\n",
       "          263.1578947368421 , ...,\n",
       "         9736.842105263158  ,\n",
       "        10368.421052631578  ,\n",
       "        11000.              ]),\n",
       " <BarContainer object of 19 artists>)"
      ]
     },
     "execution_count": 58,
     "metadata": {},
     "output_type": "execute_result"
    },
    {
     "data": {
      "image/png": "[encoded data removed]",
      "text/plain": [
       "<Figure size 432x288 with 1 Axes>"
      ]
     },
     "metadata": {
      "needs_background": "light"
     },
     "output_type": "display_data"
    },
    {
     "name": "stdout",
     "output_type": "stream",
     "text": [
      "-----------------------------group val:7--------------------------\n"
     ]
    },
    {
     "data": {
      "text/plain": [
       "(array([361., 335., 322., ..., 338.,\n",
       "        148.,   0.]),\n",
       " array([-1000.              ,\n",
       "         -368.42105263157896,\n",
       "          263.1578947368421 , ...,\n",
       "         9736.842105263158  ,\n",
       "        10368.421052631578  ,\n",
       "        11000.              ]),\n",
       " <BarContainer object of 19 artists>)"
      ]
     },
     "execution_count": 58,
     "metadata": {},
     "output_type": "execute_result"
    },
    {
     "data": {
      "image/png": "[encoded data removed]",
      "text/plain": [
       "<Figure size 432x288 with 1 Axes>"
      ]
     },
     "metadata": {
      "needs_background": "light"
     },
     "output_type": "display_data"
    },
    {
     "data": {
      "text/plain": [
       "(array([18., 19., 12., ..., 13.,  4.,\n",
       "         0.]),\n",
       " array([-1000.              ,\n",
       "         -368.42105263157896,\n",
       "          263.1578947368421 , ...,\n",
       "         9736.842105263158  ,\n",
       "        10368.421052631578  ,\n",
       "        11000.              ]),\n",
       " <BarContainer object of 19 artists>)"
      ]
     },
     "execution_count": 58,
     "metadata": {},
     "output_type": "execute_result"
    },
    {
     "data": {
      "image/png": "[encoded data removed]",
      "text/plain": [
       "<Figure size 432x288 with 1 Axes>"
      ]
     },
     "metadata": {
      "needs_background": "light"
     },
     "output_type": "display_data"
    },
    {
     "name": "stdout",
     "output_type": "stream",
     "text": [
      "-----------------------------group val:14--------------------------\n"
     ]
    },
    {
     "data": {
      "text/plain": [
       "(array([324., 336., 350., ..., 372.,\n",
       "        149.,   0.]),\n",
       " array([-1000.              ,\n",
       "         -368.42105263157896,\n",
       "          263.1578947368421 , ...,\n",
       "         9736.842105263158  ,\n",
       "        10368.421052631578  ,\n",
       "        11000.              ]),\n",
       " <BarContainer object of 19 artists>)"
      ]
     },
     "execution_count": 58,
     "metadata": {},
     "output_type": "execute_result"
    },
    {
     "data": {
      "image/png": "[encoded data removed]",
      "text/plain": [
       "<Figure size 432x288 with 1 Axes>"
      ]
     },
     "metadata": {
      "needs_background": "light"
     },
     "output_type": "display_data"
    },
    {
     "data": {
      "text/plain": [
       "(array([14., 24., 17., ..., 11.,  4.,\n",
       "         0.]),\n",
       " array([-1000.              ,\n",
       "         -368.42105263157896,\n",
       "          263.1578947368421 , ...,\n",
       "         9736.842105263158  ,\n",
       "        10368.421052631578  ,\n",
       "        11000.              ]),\n",
       " <BarContainer object of 19 artists>)"
      ]
     },
     "execution_count": 58,
     "metadata": {},
     "output_type": "execute_result"
    },
    {
     "data": {
      "image/png": "[encoded data removed]",
      "text/plain": [
       "<Figure size 432x288 with 1 Axes>"
      ]
     },
     "metadata": {
      "needs_background": "light"
     },
     "output_type": "display_data"
    },
    {
     "name": "stdout",
     "output_type": "stream",
     "text": [
      "-----------------------------group val:24--------------------------\n"
     ]
    },
    {
     "data": {
      "text/plain": [
       "(array([347., 341., 315., ..., 374.,\n",
       "        144.,   0.]),\n",
       " array([-1000.              ,\n",
       "         -368.42105263157896,\n",
       "          263.1578947368421 , ...,\n",
       "         9736.842105263158  ,\n",
       "        10368.421052631578  ,\n",
       "        11000.              ]),\n",
       " <BarContainer object of 19 artists>)"
      ]
     },
     "execution_count": 58,
     "metadata": {},
     "output_type": "execute_result"
    },
    {
     "data": {
      "image/png": "[encoded data removed]",
      "text/plain": [
       "<Figure size 432x288 with 1 Axes>"
      ]
     },
     "metadata": {
      "needs_background": "light"
     },
     "output_type": "display_data"
    },
    {
     "data": {
      "text/plain": [
       "(array([16., 26., 23., ...,  7.,  5.,\n",
       "         0.]),\n",
       " array([-1000.              ,\n",
       "         -368.42105263157896,\n",
       "          263.1578947368421 , ...,\n",
       "         9736.842105263158  ,\n",
       "        10368.421052631578  ,\n",
       "        11000.              ]),\n",
       " <BarContainer object of 19 artists>)"
      ]
     },
     "execution_count": 58,
     "metadata": {},
     "output_type": "execute_result"
    },
    {
     "data": {
      "image/png": "[encoded data removed]",
      "text/plain": [
       "<Figure size 432x288 with 1 Axes>"
      ]
     },
     "metadata": {
      "needs_background": "light"
     },
     "output_type": "display_data"
    }
   ],
   "source": [
    "group_vals=origin[group_col].drop_duplicates(keep='first')\n",
    "agg_range=(-1000,11000)\n",
    "bin_num=20\n",
    "bins = np.linspace(agg_range[0], agg_range[1], bin_num)\n",
    "for val in group_vals: \n",
    "    print('-----------------------------group val:{}--------------------------'.format(val))\n",
    "    o_col=origin[origin[group_col]==val][agg_col]\n",
    "    s_col=samples[samples[group_col]==val][agg_col]\n",
    "    plt.hist(o_col.values.tolist(),bins)\n",
    "    plt.show()\n",
    "    plt.hist(s_col.values.tolist(),bins)\n",
    "    plt.show()"
   ]
  },
  {
   "cell_type": "code",
   "execution_count": 67,
   "metadata": {
    "scrolled": false
   },
   "outputs": [
    {
     "data": {
      "text/html": [
       "<div>\n",
       "<style scoped>\n",
       "    .dataframe tbody tr th:only-of-type {\n",
       "        vertical-align: middle;\n",
       "    }\n",
       "\n",
       "    .dataframe tbody tr th {\n",
       "        vertical-align: top;\n",
       "    }\n",
       "\n",
       "    .dataframe thead th {\n",
       "        text-align: right;\n",
       "    }\n",
       "</style>\n",
       "<table border=\"1\" class=\"dataframe\">\n",
       "  <thead>\n",
       "    <tr style=\"text-align: right;\">\n",
       "      <th></th>\n",
       "      <th>cagg_sum</th>\n",
       "      <th>cagg_mean</th>\n",
       "      <th>sagg_sum</th>\n",
       "      <th>sagg_mean</th>\n",
       "    </tr>\n",
       "    <tr>\n",
       "      <th>c_nationkey</th>\n",
       "      <th></th>\n",
       "      <th></th>\n",
       "      <th></th>\n",
       "      <th></th>\n",
       "    </tr>\n",
       "  </thead>\n",
       "  <tbody>\n",
       "    <tr>\n",
       "      <th>0</th>\n",
       "      <td>0.022</td>\n",
       "      <td>0.020</td>\n",
       "      <td>0.053</td>\n",
       "      <td>0.055</td>\n",
       "    </tr>\n",
       "    <tr>\n",
       "      <th>1</th>\n",
       "      <td>0.090</td>\n",
       "      <td>0.092</td>\n",
       "      <td>0.100</td>\n",
       "      <td>0.099</td>\n",
       "    </tr>\n",
       "    <tr>\n",
       "      <th>2</th>\n",
       "      <td>0.017</td>\n",
       "      <td>0.016</td>\n",
       "      <td>0.031</td>\n",
       "      <td>0.031</td>\n",
       "    </tr>\n",
       "    <tr>\n",
       "      <th>3</th>\n",
       "      <td>0.085</td>\n",
       "      <td>0.086</td>\n",
       "      <td>0.137</td>\n",
       "      <td>0.138</td>\n",
       "    </tr>\n",
       "    <tr>\n",
       "      <th>4</th>\n",
       "      <td>0.049</td>\n",
       "      <td>0.046</td>\n",
       "      <td>0.011</td>\n",
       "      <td>0.008</td>\n",
       "    </tr>\n",
       "    <tr>\n",
       "      <th>5</th>\n",
       "      <td>0.032</td>\n",
       "      <td>0.028</td>\n",
       "      <td>0.087</td>\n",
       "      <td>0.083</td>\n",
       "    </tr>\n",
       "    <tr>\n",
       "      <th>6</th>\n",
       "      <td>0.083</td>\n",
       "      <td>0.083</td>\n",
       "      <td>0.024</td>\n",
       "      <td>0.024</td>\n",
       "    </tr>\n",
       "    <tr>\n",
       "      <th>7</th>\n",
       "      <td>0.067</td>\n",
       "      <td>0.069</td>\n",
       "      <td>0.111</td>\n",
       "      <td>0.108</td>\n",
       "    </tr>\n",
       "    <tr>\n",
       "      <th>8</th>\n",
       "      <td>0.012</td>\n",
       "      <td>0.011</td>\n",
       "      <td>0.035</td>\n",
       "      <td>0.036</td>\n",
       "    </tr>\n",
       "    <tr>\n",
       "      <th>9</th>\n",
       "      <td>0.040</td>\n",
       "      <td>0.043</td>\n",
       "      <td>0.000</td>\n",
       "      <td>0.004</td>\n",
       "    </tr>\n",
       "    <tr>\n",
       "      <th>10</th>\n",
       "      <td>0.038</td>\n",
       "      <td>0.040</td>\n",
       "      <td>0.027</td>\n",
       "      <td>0.030</td>\n",
       "    </tr>\n",
       "    <tr>\n",
       "      <th>11</th>\n",
       "      <td>0.087</td>\n",
       "      <td>0.082</td>\n",
       "      <td>0.032</td>\n",
       "      <td>0.037</td>\n",
       "    </tr>\n",
       "    <tr>\n",
       "      <th>12</th>\n",
       "      <td>0.005</td>\n",
       "      <td>0.005</td>\n",
       "      <td>0.074</td>\n",
       "      <td>0.073</td>\n",
       "    </tr>\n",
       "    <tr>\n",
       "      <th>13</th>\n",
       "      <td>0.018</td>\n",
       "      <td>0.015</td>\n",
       "      <td>0.040</td>\n",
       "      <td>0.037</td>\n",
       "    </tr>\n",
       "    <tr>\n",
       "      <th>14</th>\n",
       "      <td>0.003</td>\n",
       "      <td>0.011</td>\n",
       "      <td>0.104</td>\n",
       "      <td>0.095</td>\n",
       "    </tr>\n",
       "    <tr>\n",
       "      <th>15</th>\n",
       "      <td>0.045</td>\n",
       "      <td>0.046</td>\n",
       "      <td>0.010</td>\n",
       "      <td>0.009</td>\n",
       "    </tr>\n",
       "    <tr>\n",
       "      <th>16</th>\n",
       "      <td>0.069</td>\n",
       "      <td>0.070</td>\n",
       "      <td>0.143</td>\n",
       "      <td>0.142</td>\n",
       "    </tr>\n",
       "    <tr>\n",
       "      <th>17</th>\n",
       "      <td>0.048</td>\n",
       "      <td>0.046</td>\n",
       "      <td>0.016</td>\n",
       "      <td>0.018</td>\n",
       "    </tr>\n",
       "    <tr>\n",
       "      <th>18</th>\n",
       "      <td>0.101</td>\n",
       "      <td>0.100</td>\n",
       "      <td>0.025</td>\n",
       "      <td>0.027</td>\n",
       "    </tr>\n",
       "    <tr>\n",
       "      <th>19</th>\n",
       "      <td>0.035</td>\n",
       "      <td>0.031</td>\n",
       "      <td>0.026</td>\n",
       "      <td>0.029</td>\n",
       "    </tr>\n",
       "    <tr>\n",
       "      <th>20</th>\n",
       "      <td>0.112</td>\n",
       "      <td>0.109</td>\n",
       "      <td>0.012</td>\n",
       "      <td>0.009</td>\n",
       "    </tr>\n",
       "    <tr>\n",
       "      <th>21</th>\n",
       "      <td>0.031</td>\n",
       "      <td>0.034</td>\n",
       "      <td>0.096</td>\n",
       "      <td>0.093</td>\n",
       "    </tr>\n",
       "    <tr>\n",
       "      <th>22</th>\n",
       "      <td>0.033</td>\n",
       "      <td>0.031</td>\n",
       "      <td>0.129</td>\n",
       "      <td>0.127</td>\n",
       "    </tr>\n",
       "    <tr>\n",
       "      <th>23</th>\n",
       "      <td>0.045</td>\n",
       "      <td>0.045</td>\n",
       "      <td>0.143</td>\n",
       "      <td>0.142</td>\n",
       "    </tr>\n",
       "    <tr>\n",
       "      <th>24</th>\n",
       "      <td>0.030</td>\n",
       "      <td>0.030</td>\n",
       "      <td>0.031</td>\n",
       "      <td>0.031</td>\n",
       "    </tr>\n",
       "  </tbody>\n",
       "</table>\n",
       "</div>"
      ],
      "text/plain": [
       "             cagg_sum  cagg_mean  sagg_sum  sagg_mean\n",
       "c_nationkey                                          \n",
       "0               0.022      0.020     0.053      0.055\n",
       "1               0.090      0.092     0.100      0.099\n",
       "2               0.017      0.016     0.031      0.031\n",
       "3               0.085      0.086     0.137      0.138\n",
       "4               0.049      0.046     0.011      0.008\n",
       "5               0.032      0.028     0.087      0.083\n",
       "6               0.083      0.083     0.024      0.024\n",
       "7               0.067      0.069     0.111      0.108\n",
       "8               0.012      0.011     0.035      0.036\n",
       "9               0.040      0.043     0.000      0.004\n",
       "10              0.038      0.040     0.027      0.030\n",
       "11              0.087      0.082     0.032      0.037\n",
       "12              0.005      0.005     0.074      0.073\n",
       "13              0.018      0.015     0.040      0.037\n",
       "14              0.003      0.011     0.104      0.095\n",
       "15              0.045      0.046     0.010      0.009\n",
       "16              0.069      0.070     0.143      0.142\n",
       "17              0.048      0.046     0.016      0.018\n",
       "18              0.101      0.100     0.025      0.027\n",
       "19              0.035      0.031     0.026      0.029\n",
       "20              0.112      0.109     0.012      0.009\n",
       "21              0.031      0.034     0.096      0.093\n",
       "22              0.033      0.031     0.129      0.127\n",
       "23              0.045      0.045     0.143      0.142\n",
       "24              0.030      0.030     0.031      0.031"
      ]
     },
     "execution_count": 67,
     "metadata": {},
     "output_type": "execute_result"
    },
    {
     "name": "stdout",
     "output_type": "stream",
     "text": [
      "total error:0.0537099770976516\n"
     ]
    },
    {
     "data": {
      "text/html": [
       "<div>\n",
       "<style scoped>\n",
       "    .dataframe tbody tr th:only-of-type {\n",
       "        vertical-align: middle;\n",
       "    }\n",
       "\n",
       "    .dataframe tbody tr th {\n",
       "        vertical-align: top;\n",
       "    }\n",
       "\n",
       "    .dataframe thead th {\n",
       "        text-align: right;\n",
       "    }\n",
       "</style>\n",
       "<table border=\"1\" class=\"dataframe\">\n",
       "  <thead>\n",
       "    <tr style=\"text-align: right;\">\n",
       "      <th></th>\n",
       "      <th>cagg_sum</th>\n",
       "      <th>cagg_mean</th>\n",
       "      <th>sagg_sum</th>\n",
       "      <th>sagg_mean</th>\n",
       "    </tr>\n",
       "  </thead>\n",
       "  <tbody>\n",
       "    <tr>\n",
       "      <th>0</th>\n",
       "      <td>11055647442.001</td>\n",
       "      <td>4442.695</td>\n",
       "      <td>10742496807.745</td>\n",
       "      <td>4316.856</td>\n",
       "    </tr>\n",
       "    <tr>\n",
       "      <th>1</th>\n",
       "      <td>11067522655.839</td>\n",
       "      <td>4485.000</td>\n",
       "      <td>10840658197.481</td>\n",
       "      <td>4393.066</td>\n",
       "    </tr>\n",
       "    <tr>\n",
       "      <th>2</th>\n",
       "      <td>10648205284.672</td>\n",
       "      <td>4471.024</td>\n",
       "      <td>10496057245.492</td>\n",
       "      <td>4407.140</td>\n",
       "    </tr>\n",
       "    <tr>\n",
       "      <th>3</th>\n",
       "      <td>11134441793.912</td>\n",
       "      <td>4489.260</td>\n",
       "      <td>12290565764.390</td>\n",
       "      <td>4955.394</td>\n",
       "    </tr>\n",
       "    <tr>\n",
       "      <th>4</th>\n",
       "      <td>11246646930.750</td>\n",
       "      <td>4520.493</td>\n",
       "      <td>10821760644.739</td>\n",
       "      <td>4349.713</td>\n",
       "    </tr>\n",
       "    <tr>\n",
       "      <th>5</th>\n",
       "      <td>10104126006.404</td>\n",
       "      <td>4467.373</td>\n",
       "      <td>10691448858.235</td>\n",
       "      <td>4727.048</td>\n",
       "    </tr>\n",
       "    <tr>\n",
       "      <th>6</th>\n",
       "      <td>10877991552.953</td>\n",
       "      <td>4436.013</td>\n",
       "      <td>11305649536.977</td>\n",
       "      <td>4610.411</td>\n",
       "    </tr>\n",
       "    <tr>\n",
       "      <th>7</th>\n",
       "      <td>10417496082.830</td>\n",
       "      <td>4452.743</td>\n",
       "      <td>10032357194.175</td>\n",
       "      <td>4288.124</td>\n",
       "    </tr>\n",
       "    <tr>\n",
       "      <th>8</th>\n",
       "      <td>11326855404.207</td>\n",
       "      <td>4517.317</td>\n",
       "      <td>11230317179.969</td>\n",
       "      <td>4478.816</td>\n",
       "    </tr>\n",
       "    <tr>\n",
       "      <th>9</th>\n",
       "      <td>11311845412.513</td>\n",
       "      <td>4533.433</td>\n",
       "      <td>11584936219.811</td>\n",
       "      <td>4642.880</td>\n",
       "    </tr>\n",
       "    <tr>\n",
       "      <th>10</th>\n",
       "      <td>10549797123.552</td>\n",
       "      <td>4467.344</td>\n",
       "      <td>10942059165.985</td>\n",
       "      <td>4633.448</td>\n",
       "    </tr>\n",
       "    <tr>\n",
       "      <th>11</th>\n",
       "      <td>11790783310.789</td>\n",
       "      <td>4514.438</td>\n",
       "      <td>12062363732.531</td>\n",
       "      <td>4618.421</td>\n",
       "    </tr>\n",
       "    <tr>\n",
       "      <th>12</th>\n",
       "      <td>10140722703.651</td>\n",
       "      <td>4522.271</td>\n",
       "      <td>10737361124.381</td>\n",
       "      <td>4788.343</td>\n",
       "    </tr>\n",
       "    <tr>\n",
       "      <th>13</th>\n",
       "      <td>9734674510.117</td>\n",
       "      <td>4457.379</td>\n",
       "      <td>9400034675.047</td>\n",
       "      <td>4304.152</td>\n",
       "    </tr>\n",
       "    <tr>\n",
       "      <th>14</th>\n",
       "      <td>10304869274.725</td>\n",
       "      <td>4573.860</td>\n",
       "      <td>9956134510.582</td>\n",
       "      <td>4419.072</td>\n",
       "    </tr>\n",
       "    <tr>\n",
       "      <th>15</th>\n",
       "      <td>9931316039.411</td>\n",
       "      <td>4496.793</td>\n",
       "      <td>10403512648.495</td>\n",
       "      <td>4710.599</td>\n",
       "    </tr>\n",
       "    <tr>\n",
       "      <th>16</th>\n",
       "      <td>10971300014.638</td>\n",
       "      <td>4523.419</td>\n",
       "      <td>9959270872.659</td>\n",
       "      <td>4106.164</td>\n",
       "    </tr>\n",
       "    <tr>\n",
       "      <th>17</th>\n",
       "      <td>11180198877.284</td>\n",
       "      <td>4444.568</td>\n",
       "      <td>11783119684.007</td>\n",
       "      <td>4684.252</td>\n",
       "    </tr>\n",
       "    <tr>\n",
       "      <th>18</th>\n",
       "      <td>10883266336.911</td>\n",
       "      <td>4438.946</td>\n",
       "      <td>10313260045.447</td>\n",
       "      <td>4206.458</td>\n",
       "    </tr>\n",
       "    <tr>\n",
       "      <th>19</th>\n",
       "      <td>11033989572.219</td>\n",
       "      <td>4544.851</td>\n",
       "      <td>11110943698.023</td>\n",
       "      <td>4576.548</td>\n",
       "    </tr>\n",
       "    <tr>\n",
       "      <th>20</th>\n",
       "      <td>10873289958.614</td>\n",
       "      <td>4480.978</td>\n",
       "      <td>10555631239.703</td>\n",
       "      <td>4350.068</td>\n",
       "    </tr>\n",
       "    <tr>\n",
       "      <th>21</th>\n",
       "      <td>10805717070.329</td>\n",
       "      <td>4507.656</td>\n",
       "      <td>10330962975.593</td>\n",
       "      <td>4309.610</td>\n",
       "    </tr>\n",
       "    <tr>\n",
       "      <th>22</th>\n",
       "      <td>11010600051.500</td>\n",
       "      <td>4517.581</td>\n",
       "      <td>11271361687.180</td>\n",
       "      <td>4624.570</td>\n",
       "    </tr>\n",
       "    <tr>\n",
       "      <th>23</th>\n",
       "      <td>10583664011.700</td>\n",
       "      <td>4514.656</td>\n",
       "      <td>10812339387.224</td>\n",
       "      <td>4612.202</td>\n",
       "    </tr>\n",
       "    <tr>\n",
       "      <th>24</th>\n",
       "      <td>10735305448.055</td>\n",
       "      <td>4565.652</td>\n",
       "      <td>10972059526.469</td>\n",
       "      <td>4666.342</td>\n",
       "    </tr>\n",
       "  </tbody>\n",
       "</table>\n",
       "</div>"
      ],
      "text/plain": [
       "          cagg_sum  cagg_mean        sagg_sum  sagg_mean\n",
       "0  11055647442.001   4442.695 10742496807.745   4316.856\n",
       "1  11067522655.839   4485.000 10840658197.481   4393.066\n",
       "2  10648205284.672   4471.024 10496057245.492   4407.140\n",
       "3  11134441793.912   4489.260 12290565764.390   4955.394\n",
       "4  11246646930.750   4520.493 10821760644.739   4349.713\n",
       "5  10104126006.404   4467.373 10691448858.235   4727.048\n",
       "6  10877991552.953   4436.013 11305649536.977   4610.411\n",
       "7  10417496082.830   4452.743 10032357194.175   4288.124\n",
       "8  11326855404.207   4517.317 11230317179.969   4478.816\n",
       "9  11311845412.513   4533.433 11584936219.811   4642.880\n",
       "10 10549797123.552   4467.344 10942059165.985   4633.448\n",
       "11 11790783310.789   4514.438 12062363732.531   4618.421\n",
       "12 10140722703.651   4522.271 10737361124.381   4788.343\n",
       "13  9734674510.117   4457.379  9400034675.047   4304.152\n",
       "14 10304869274.725   4573.860  9956134510.582   4419.072\n",
       "15  9931316039.411   4496.793 10403512648.495   4710.599\n",
       "16 10971300014.638   4523.419  9959270872.659   4106.164\n",
       "17 11180198877.284   4444.568 11783119684.007   4684.252\n",
       "18 10883266336.911   4438.946 10313260045.447   4206.458\n",
       "19 11033989572.219   4544.851 11110943698.023   4576.548\n",
       "20 10873289958.614   4480.978 10555631239.703   4350.068\n",
       "21 10805717070.329   4507.656 10330962975.593   4309.610\n",
       "22 11010600051.500   4517.581 11271361687.180   4624.570\n",
       "23 10583664011.700   4514.656 10812339387.224   4612.202\n",
       "24 10735305448.055   4565.652 10972059526.469   4666.342"
      ]
     },
     "execution_count": 67,
     "metadata": {},
     "output_type": "execute_result"
    },
    {
     "data": {
      "text/html": [
       "<div>\n",
       "<style scoped>\n",
       "    .dataframe tbody tr th:only-of-type {\n",
       "        vertical-align: middle;\n",
       "    }\n",
       "\n",
       "    .dataframe tbody tr th {\n",
       "        vertical-align: top;\n",
       "    }\n",
       "\n",
       "    .dataframe thead th {\n",
       "        text-align: right;\n",
       "    }\n",
       "</style>\n",
       "<table border=\"1\" class=\"dataframe\">\n",
       "  <thead>\n",
       "    <tr style=\"text-align: right;\">\n",
       "      <th></th>\n",
       "      <th>cagg_sum</th>\n",
       "      <th>cagg_mean</th>\n",
       "      <th>sagg_sum</th>\n",
       "      <th>sagg_mean</th>\n",
       "    </tr>\n",
       "    <tr>\n",
       "      <th>c_nationkey</th>\n",
       "      <th></th>\n",
       "      <th></th>\n",
       "      <th></th>\n",
       "      <th></th>\n",
       "    </tr>\n",
       "  </thead>\n",
       "  <tbody>\n",
       "    <tr>\n",
       "      <th>0</th>\n",
       "      <td>10811134503.465</td>\n",
       "      <td>4355.465</td>\n",
       "      <td>11309365200.335</td>\n",
       "      <td>4556.186</td>\n",
       "    </tr>\n",
       "    <tr>\n",
       "      <th>1</th>\n",
       "      <td>10066193271.975</td>\n",
       "      <td>4072.524</td>\n",
       "      <td>11929346122.880</td>\n",
       "      <td>4826.308</td>\n",
       "    </tr>\n",
       "    <tr>\n",
       "      <th>2</th>\n",
       "      <td>10467555631.832</td>\n",
       "      <td>4398.133</td>\n",
       "      <td>10816961873.039</td>\n",
       "      <td>4544.942</td>\n",
       "    </tr>\n",
       "    <tr>\n",
       "      <th>3</th>\n",
       "      <td>10190111103.412</td>\n",
       "      <td>4102.079</td>\n",
       "      <td>10608423161.144</td>\n",
       "      <td>4270.473</td>\n",
       "    </tr>\n",
       "    <tr>\n",
       "      <th>4</th>\n",
       "      <td>10691965322.434</td>\n",
       "      <td>4311.276</td>\n",
       "      <td>10705863333.786</td>\n",
       "      <td>4316.880</td>\n",
       "    </tr>\n",
       "    <tr>\n",
       "      <th>5</th>\n",
       "      <td>9782798406.804</td>\n",
       "      <td>4341.350</td>\n",
       "      <td>9765119729.200</td>\n",
       "      <td>4333.505</td>\n",
       "    </tr>\n",
       "    <tr>\n",
       "      <th>6</th>\n",
       "      <td>9973452585.601</td>\n",
       "      <td>4067.034</td>\n",
       "      <td>11029349468.474</td>\n",
       "      <td>4497.614</td>\n",
       "    </tr>\n",
       "    <tr>\n",
       "      <th>7</th>\n",
       "      <td>9723054510.404</td>\n",
       "      <td>4147.530</td>\n",
       "      <td>11142694556.545</td>\n",
       "      <td>4753.101</td>\n",
       "    </tr>\n",
       "    <tr>\n",
       "      <th>8</th>\n",
       "      <td>11192716899.338</td>\n",
       "      <td>4468.507</td>\n",
       "      <td>11620805123.170</td>\n",
       "      <td>4639.414</td>\n",
       "    </tr>\n",
       "    <tr>\n",
       "      <th>9</th>\n",
       "      <td>10863915690.579</td>\n",
       "      <td>4336.777</td>\n",
       "      <td>11583548876.198</td>\n",
       "      <td>4624.048</td>\n",
       "    </tr>\n",
       "    <tr>\n",
       "      <th>10</th>\n",
       "      <td>10153637529.871</td>\n",
       "      <td>4288.095</td>\n",
       "      <td>10643654459.905</td>\n",
       "      <td>4495.040</td>\n",
       "    </tr>\n",
       "    <tr>\n",
       "      <th>11</th>\n",
       "      <td>10763008281.375</td>\n",
       "      <td>4142.540</td>\n",
       "      <td>12446435686.398</td>\n",
       "      <td>4790.469</td>\n",
       "    </tr>\n",
       "    <tr>\n",
       "      <th>12</th>\n",
       "      <td>10186524414.964</td>\n",
       "      <td>4545.188</td>\n",
       "      <td>9948071108.943</td>\n",
       "      <td>4438.791</td>\n",
       "    </tr>\n",
       "    <tr>\n",
       "      <th>13</th>\n",
       "      <td>9908035546.880</td>\n",
       "      <td>4522.359</td>\n",
       "      <td>9778300922.268</td>\n",
       "      <td>4463.143</td>\n",
       "    </tr>\n",
       "    <tr>\n",
       "      <th>14</th>\n",
       "      <td>10272616544.451</td>\n",
       "      <td>4522.792</td>\n",
       "      <td>10989849379.065</td>\n",
       "      <td>4838.572</td>\n",
       "    </tr>\n",
       "    <tr>\n",
       "      <th>15</th>\n",
       "      <td>9484147056.640</td>\n",
       "      <td>4291.210</td>\n",
       "      <td>10509832807.018</td>\n",
       "      <td>4755.294</td>\n",
       "    </tr>\n",
       "    <tr>\n",
       "      <th>16</th>\n",
       "      <td>10209162105.526</td>\n",
       "      <td>4205.108</td>\n",
       "      <td>11386379449.069</td>\n",
       "      <td>4689.999</td>\n",
       "    </tr>\n",
       "    <tr>\n",
       "      <th>17</th>\n",
       "      <td>10645776737.401</td>\n",
       "      <td>4238.643</td>\n",
       "      <td>11977530226.656</td>\n",
       "      <td>4768.884</td>\n",
       "    </tr>\n",
       "    <tr>\n",
       "      <th>18</th>\n",
       "      <td>9782626204.534</td>\n",
       "      <td>3995.953</td>\n",
       "      <td>10575945227.072</td>\n",
       "      <td>4320.004</td>\n",
       "    </tr>\n",
       "    <tr>\n",
       "      <th>19</th>\n",
       "      <td>10651252661.120</td>\n",
       "      <td>4401.950</td>\n",
       "      <td>11395793650.308</td>\n",
       "      <td>4709.654</td>\n",
       "    </tr>\n",
       "    <tr>\n",
       "      <th>20</th>\n",
       "      <td>9660737841.980</td>\n",
       "      <td>3993.691</td>\n",
       "      <td>10428218511.073</td>\n",
       "      <td>4310.963</td>\n",
       "    </tr>\n",
       "    <tr>\n",
       "      <th>21</th>\n",
       "      <td>10471518492.383</td>\n",
       "      <td>4355.873</td>\n",
       "      <td>11325558585.355</td>\n",
       "      <td>4711.131</td>\n",
       "    </tr>\n",
       "    <tr>\n",
       "      <th>22</th>\n",
       "      <td>10643007464.693</td>\n",
       "      <td>4376.237</td>\n",
       "      <td>9818501689.939</td>\n",
       "      <td>4037.213</td>\n",
       "    </tr>\n",
       "    <tr>\n",
       "      <th>23</th>\n",
       "      <td>10108036809.945</td>\n",
       "      <td>4312.486</td>\n",
       "      <td>9270263079.550</td>\n",
       "      <td>3955.059</td>\n",
       "    </tr>\n",
       "    <tr>\n",
       "      <th>24</th>\n",
       "      <td>10411681333.613</td>\n",
       "      <td>4426.484</td>\n",
       "      <td>11315687202.584</td>\n",
       "      <td>4810.819</td>\n",
       "    </tr>\n",
       "  </tbody>\n",
       "</table>\n",
       "</div>"
      ],
      "text/plain": [
       "                   cagg_sum  cagg_mean        sagg_sum  sagg_mean\n",
       "c_nationkey                                                      \n",
       "0           10811134503.465   4355.465 11309365200.335   4556.186\n",
       "1           10066193271.975   4072.524 11929346122.880   4826.308\n",
       "2           10467555631.832   4398.133 10816961873.039   4544.942\n",
       "3           10190111103.412   4102.079 10608423161.144   4270.473\n",
       "4           10691965322.434   4311.276 10705863333.786   4316.880\n",
       "5            9782798406.804   4341.350  9765119729.200   4333.505\n",
       "6            9973452585.601   4067.034 11029349468.474   4497.614\n",
       "7            9723054510.404   4147.530 11142694556.545   4753.101\n",
       "8           11192716899.338   4468.507 11620805123.170   4639.414\n",
       "9           10863915690.579   4336.777 11583548876.198   4624.048\n",
       "10          10153637529.871   4288.095 10643654459.905   4495.040\n",
       "11          10763008281.375   4142.540 12446435686.398   4790.469\n",
       "12          10186524414.964   4545.188  9948071108.943   4438.791\n",
       "13           9908035546.880   4522.359  9778300922.268   4463.143\n",
       "14          10272616544.451   4522.792 10989849379.065   4838.572\n",
       "15           9484147056.640   4291.210 10509832807.018   4755.294\n",
       "16          10209162105.526   4205.108 11386379449.069   4689.999\n",
       "17          10645776737.401   4238.643 11977530226.656   4768.884\n",
       "18           9782626204.534   3995.953 10575945227.072   4320.004\n",
       "19          10651252661.120   4401.950 11395793650.308   4709.654\n",
       "20           9660737841.980   3993.691 10428218511.073   4310.963\n",
       "21          10471518492.383   4355.873 11325558585.355   4711.131\n",
       "22          10643007464.693   4376.237  9818501689.939   4037.213\n",
       "23          10108036809.945   4312.486  9270263079.550   3955.059\n",
       "24          10411681333.613   4426.484 11315687202.584   4810.819"
      ]
     },
     "execution_count": 67,
     "metadata": {},
     "output_type": "execute_result"
    }
   ],
   "source": [
    "# origin=pd.read_csv(\"../datasets/tpch-1/cs_result.csv\")\n",
    "origin_res=pd.read_csv(\"../datasets/tpch-1/cs_result.csv\")\n",
    "sample_res=pd.read_csv(\"./output/cs_result.csv\")\n",
    "# supplier=pd.read_csv(\"./output/torch_cvae_tpch-1-supplier_s_nationkey_ld150_id150_bs256_ep200_rate0.3_binary_gaussian15.csv\")\n",
    "# customer=pd.read_csv(\"./output/torch_cvae_tpch-1-customer_c_nationkey_ld150_id150_bs512_ep200_rate0.1_binary_gaussian15.csv\")\n",
    "# samples=pd.read_csv(\"./output/supplier_customer.csv\")\n",
    "# samples.shape\n",
    "group_col='c_nationkey'\n",
    "cagg_col='c_acctbal'\n",
    "sagg_col='s_acctbal'\n",
    "# origin_groups=origin[group_col].value_counts().sort_index()\n",
    "# samples_groups=samples[group_col].value_counts().sort_index()\n",
    "# origin_groups\n",
    "# samples_groups\n",
    "# origin_groups.plot(kind='bar')\n",
    "# plt.show()\n",
    "# samples_groups.plot(kind='bar')\n",
    "# plt.show()\n",
    "# samples['rate']=0.03\n",
    "# samples['rate']=samples['rate_x']*samples['rate_y']\n",
    "# origin_res=origin.groupby(by=group_col).agg(cagg_sum=(cagg_col, 'sum'), cagg_mean=(cagg_col, 'mean'),\n",
    "#                                             sagg_sum=(sagg_col, 'sum'), sagg_mean=(sagg_col, 'mean'))\n",
    "# samples_res=samples.groupby(by=group_col).agg(cagg_sum=(cagg_col, 'sum'), cagg_mean=(cagg_col, 'mean'),\n",
    "#                                                 sagg_sum=(sagg_col, 'sum'), sagg_mean=(sagg_col, 'mean'),rate=('rate','mean'))\n",
    "# samples_res=samples.groupby(by=group_col, as_index=True).agg({agg_col:['sum','mean'],'rate':'mean'})\n",
    "# samples_res\n",
    "# samples_res['cagg_sum'] = samples_res['cagg_sum'] / samples_res['rate']\n",
    "# samples_res['sagg_sum'] = samples_res['sagg_sum'] / samples_res['rate']\n",
    "# samples_res\n",
    "# del samples_res['rate']\n",
    "diff=(samples_res-origin_res).abs()/origin_res\n",
    "diff.fillna(1, inplace=True)\n",
    "diff\n",
    "print(\"total error:{}\".format(diff.values.sum()/diff.size))\n",
    "origin_res\n",
    "samples_res"
   ]
  },
  {
   "cell_type": "code",
   "execution_count": null,
   "metadata": {},
   "outputs": [],
   "source": [
    "origin=pd.read_csv(\"../datasets/tpch-1-miss/customer_supplier.csv\")\n",
    "group_col='c_nationkey'\n",
    "agg_col='c_acctbal'\n",
    "origin_groups=origin[group_col].value_counts().sort_index()\n",
    "origin_groups\n",
    "samples_groups\n",
    "origin_groups.plot(kind='bar')\n",
    "plt.show()\n",
    "origin_res=origin.groupby(by=group_col).agg(agg_sum=(agg_col,'sum'),age_mean=(agg_col,'mean'))"
   ]
  },
  {
   "cell_type": "code",
   "execution_count": null,
   "metadata": {
    "scrolled": false
   },
   "outputs": [],
   "source": [
    "c=pd.read_csv('../datasets/tpch-1/customer.csv')\n",
    "c.loc[100000:150000,'c_acctbal']=c.loc[100000:150000,'c_acctbal']+4000\n",
    "oc=c[:100000]\n",
    "ic1=c[100000:125000]\n",
    "ic2=c[125000:]\n",
    "# ic1['c_acctbal']=ic1['c_acctbal'].apply(lambda x: x+4000)\n",
    "c.to_csv(\"../datasets/tpch-1/m_customer.csv\",index=False)\n",
    "oc.to_csv(\"../datasets/tpch-1/m_customer_batch0.csv\",index=False)\n",
    "ic1.to_csv(\"../datasets/tpch-1/m_customer_batch1.csv\",index=False)\n",
    "ic2.to_csv(\"../datasets/tpch-1/m_customer_batch2.csv\",index=False)\n",
    "ic1.shape\n",
    "ic2.shape\n",
    "agg_range=(-1000,15000)\n",
    "bin_num=50\n",
    "bins = np.linspace(agg_range[0], agg_range[1], bin_num)\n",
    "agg_col='c_acctbal'\n",
    "group_col='c_nationkey'\n",
    "group_vals=c[group_col].drop_duplicates(keep='first')\n",
    "for val in group_vals: \n",
    "    print('-----------------------------group val:{}--------------------------'.format(val))\n",
    "    ch=c[c[group_col]==val][agg_col]\n",
    "    oh=oc[oc[group_col]==val][agg_col]\n",
    "    plt.hist(ch.values.tolist(),bins)\n",
    "    plt.show()\n",
    "    plt.hist(oh.values.tolist(),bins)\n",
    "    plt.show()\n",
    "    ih1=ic1[ic1[group_col]==val][agg_col]\n",
    "    plt.hist(ih1.values.tolist(),bins)\n",
    "    plt.show()\n",
    "# ih2=ic2[agg_col]\n",
    "# plt.hist(ih2.values.tolist(),bins)\n",
    "# plt.show()"
   ]
  },
  {
   "cell_type": "code",
   "execution_count": null,
   "metadata": {},
   "outputs": [],
   "source": []
  },
  {
   "cell_type": "code",
   "execution_count": null,
   "metadata": {},
   "outputs": [],
   "source": []
  }
 ],
 "metadata": {
  "kernelspec": {
   "display_name": "Python 3",
   "language": "python",
   "name": "python3"
  },
  "language_info": {
   "codemirror_mode": {
    "name": "ipython",
    "version": 3
   },
   "file_extension": ".py",
   "mimetype": "text/x-python",
   "name": "python",
   "nbconvert_exporter": "python",
   "pygments_lexer": "ipython3",
   "version": "3.6.8"
  }
 },
 "nbformat": 4,
 "nbformat_minor": 1
}
