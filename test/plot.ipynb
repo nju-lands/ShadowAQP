{
 "cells": [
  {
   "cell_type": "code",
   "execution_count": 2,
   "id": "8fa08208",
   "metadata": {},
   "outputs": [],
   "source": [
    "import pandas as pd\n",
    "import matplotlib as mlp\n",
    "import matplotlib.pyplot as plt\n",
    "from IPython.core.interactiveshell import InteractiveShell\n",
    "InteractiveShell.ast_node_interactivity = 'all' #默认为'last'\n",
    "import random\n",
    "import numpy as np\n",
    "np.set_printoptions(suppress=True,   precision=20,  threshold=10,  linewidth=40)\n",
    "pd.set_option('display.float_format',lambda x : '%.3f' % x)"
   ]
  },
  {
   "cell_type": "code",
   "execution_count": 26,
   "id": "0dd530dd",
   "metadata": {},
   "outputs": [
    {
     "data": {
      "text/plain": [
       "<BarContainer object of 3 artists>"
      ]
     },
     "execution_count": 26,
     "metadata": {},
     "output_type": "execute_result"
    },
    {
     "data": {
      "text/plain": [
       "<BarContainer object of 3 artists>"
      ]
     },
     "execution_count": 26,
     "metadata": {},
     "output_type": "execute_result"
    },
    {
     "data": {
      "text/plain": [
       "<BarContainer object of 3 artists>"
      ]
     },
     "execution_count": 26,
     "metadata": {},
     "output_type": "execute_result"
    },
    {
     "data": {
      "text/plain": [
       "<matplotlib.legend.Legend at 0x14e8ca83550>"
      ]
     },
     "execution_count": 26,
     "metadata": {},
     "output_type": "execute_result"
    },
    {
     "data": {
      "text/plain": [
       "([<matplotlib.axis.XTick at 0x14e8c91b0f0>,\n",
       "  <matplotlib.axis.XTick at 0x14e8ca0d128>,\n",
       "  <matplotlib.axis.XTick at 0x14e8ca12cc0>],\n",
       " [Text(0.3, 0, 'Q1'), Text(1.3, 0, 'Q2'), Text(2.3, 0, 'Q3')])"
      ]
     },
     "execution_count": 26,
     "metadata": {},
     "output_type": "execute_result"
    },
    {
     "data": {
      "text/plain": [
       "Text(0, 0.5, 'Space Overhead')"
      ]
     },
     "execution_count": 26,
     "metadata": {},
     "output_type": "execute_result"
    },
    {
     "data": {
      "text/plain": [
       "Text(0.5, 1.0, 'TPC-H')"
      ]
     },
     "execution_count": 26,
     "metadata": {},
     "output_type": "execute_result"
    },
    {
     "data": {
      "image/png": "[encoded data removed]",
      "text/plain": [
       "<Figure size 432x288 with 1 Axes>"
      ]
     },
     "metadata": {
      "needs_background": "light"
     },
     "output_type": "display_data"
    }
   ],
   "source": [
    "# 输入统计数据\n",
    "waters = ('1%', '5%', '10%')\n",
    "buy_number_male = [0.09,0.07,0.06]\n",
    "buy_number_female = [0.07,0.06,0.05]\n",
    "buy_number_female1 = [0.04,0.03,0.01]\n",
    "# waters = ('80%', '50%', '20%')\n",
    "# buy_number_male = [0.02,0.03,0.05]\n",
    "# buy_number_female = [0.07,0.09,0.13]\n",
    "\n",
    "waters = ('Q1', 'Q2', 'Q3')\n",
    "buy_number_male = [12,16,15]\n",
    "buy_number_female = [11,17,12]\n",
    "buy_number_female1 = [3,4,4]\n",
    "\n",
    "bar_width = 0.3  # 条形宽度\n",
    "index_male = np.arange(len(waters))  # 男生条形图的横坐标\n",
    "index_female = index_male + bar_width  # 女生条形图的横坐标\n",
    "index_female1 = index_female + bar_width  # 女生条形图的横坐标\n",
    "# 使用两次 bar 函数画出两组条形图\n",
    "plt.bar(index_male, height=buy_number_male, width=bar_width, color='cadetblue', label='RW1')\n",
    "plt.bar(index_female, height=buy_number_female, width=bar_width, color='pink', label='RW2')\n",
    "plt.bar(index_female1, height=buy_number_female1, width=bar_width, color='orange', label='ours')\n",
    "plt.legend()  # 显示图例\n",
    "plt.xticks(index_female, waters)  # 让横坐标轴刻度显示 waters 里的饮用水， index_male + bar_width/2 为横坐标轴刻度的位置\n",
    "plt.ylabel('Space Overhead')  # 纵坐标轴标题\n",
    "plt.title('TPC-H')  # 图形标题\n",
    "\n",
    "plt.show()"
   ]
  },
  {
   "cell_type": "code",
   "execution_count": null,
   "id": "9e0636da",
   "metadata": {},
   "outputs": [],
   "source": []
  }
 ],
 "metadata": {
  "kernelspec": {
   "display_name": "Python 3",
   "language": "python",
   "name": "python3"
  },
  "language_info": {
   "codemirror_mode": {
    "name": "ipython",
    "version": 3
   },
   "file_extension": ".py",
   "mimetype": "text/x-python",
   "name": "python",
   "nbconvert_exporter": "python",
   "pygments_lexer": "ipython3",
   "version": "3.6.8"
  }
 },
 "nbformat": 4,
 "nbformat_minor": 5
}
